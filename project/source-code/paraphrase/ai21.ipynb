{
 "cells": [
  {
   "cell_type": "code",
   "execution_count": 3,
   "metadata": {},
   "outputs": [],
   "source": [
    "API_KEY  = \"Bearer MCdEeTWTwKAq05WET22JdgBFAFdM4KHE\""
   ]
  },
  {
   "cell_type": "code",
   "execution_count": 4,
   "metadata": {},
   "outputs": [],
   "source": [
    "import requests\n",
    "url = \"https://api.ai21.com/studio/v1/paraphrase\"\n",
    "\n",
    "headers = {\n",
    "    \"accept\": \"application/json\",\n",
    "    \"content-type\": \"application/json\",\n",
    "    \"Authorization\": API_KEY\n",
    "}"
   ]
  },
  {
   "cell_type": "code",
   "execution_count": 10,
   "metadata": {},
   "outputs": [],
   "source": [
    "text = \"\"\"Gradient Descent is known as one of the most commonly used optimization algorithms to train machine learning models by means of minimizing errors between actual and expected results. Further, gradient descent is also used to train Neural Networks.\n",
    "\n",
    "In mathematical terminology, Optimization algorithm refers to the task of minimizing/maximizing an objective function f(x) parameterized by x. Similarly, in machine learning, optimization is the task of minimizing the cost function parameterized by the model's parameters. The main objective of gradient descent is to minimize the convex function using iteration of parameter updates. Once these machine learning models are optimized, these models can be used as powerful tools for Artificial Intelligence and various computer science applications.\"\"\""
   ]
  },
  {
   "cell_type": "code",
   "execution_count": 11,
   "metadata": {},
   "outputs": [],
   "source": [
    "payload = {\n",
    "    \"text\": text,\n",
    "    \"style\": \"general\"\n",
    "}\n",
    "\n",
    "response = requests.post(url,json=payload, headers=headers)"
   ]
  },
  {
   "cell_type": "code",
   "execution_count": 13,
   "metadata": {},
   "outputs": [
    {
     "name": "stdout",
     "output_type": "stream",
     "text": [
      "{\"detail\":\"'text' length exceeds max character limit: 500.\"}\n"
     ]
    }
   ],
   "source": [
    "print(response.text)"
   ]
  },
  {
   "cell_type": "code",
   "execution_count": 12,
   "metadata": {},
   "outputs": [
    {
     "ename": "KeyError",
     "evalue": "'suggestions'",
     "output_type": "error",
     "traceback": [
      "\u001b[0;31m---------------------------------------------------------------------------\u001b[0m",
      "\u001b[0;31mKeyError\u001b[0m                                  Traceback (most recent call last)",
      "Cell \u001b[0;32mIn[12], line 2\u001b[0m\n\u001b[1;32m      1\u001b[0m response_json \u001b[39m=\u001b[39m response\u001b[39m.\u001b[39mjson()\n\u001b[0;32m----> 2\u001b[0m suggestions \u001b[39m=\u001b[39m response_json[\u001b[39m'\u001b[39;49m\u001b[39msuggestions\u001b[39;49m\u001b[39m'\u001b[39;49m]\n",
      "\u001b[0;31mKeyError\u001b[0m: 'suggestions'"
     ]
    }
   ],
   "source": [
    "response_json = response.json()\n",
    "suggestions = response_json['suggestions']"
   ]
  },
  {
   "cell_type": "code",
   "execution_count": 9,
   "metadata": {},
   "outputs": [
    {
     "name": "stdout",
     "output_type": "stream",
     "text": [
      "Expert systems, natural language processing, speech recognition, and machine vision are specific applications of artificial intelligence.\n",
      "Machine learning, speech recognition, natural language processing, and expert systems are specific applications of artificial intelligence.\n",
      "An artificial intelligence system simulates human intelligence by using computer systems, especially expert systems. Applications of AI include natural language processing, speech recognition, and machine vision.\n",
      "In the field of artificial intelligence, computers simulate human intelligence processes through expert systems, natural language processing, speech recognition, and machine vision.\n",
      "In AI, machine learning, natural language processing, speech recognition, and machine vision are examples of how machines simulate human intelligence.\n",
      "It consists of a simulation of human intelligence processes by computers, especially computer systems, with applications in expert systems, natural language processing, speech recognition, and machine vision.\n",
      "Machine learning, natural language processing, speech recognition, machine vision and expert systems are some of the specific applications of artificial intelligence.\n",
      "A computer system can simulate the intelligence processes of a human being by using artificial intelligence (AI). It includes applications in expert systems, natural language processing, speech recognition, and machine vision.\n",
      "An artificial intelligence system simulates the actions of human cognition by the use of machines, especially computers. AI applications include expert systems, natural language processing, speech recognition, and machine learning.\n",
      "In particular, artificial intelligence is used in expert systems, natural language processing, speech recognition, and machine vision, which are all types of applications.\n"
     ]
    }
   ],
   "source": [
    "# print all suggestions\n",
    "for i in range(len(suggestions)):\n",
    "    print(suggestions[i]['text'])"
   ]
  }
 ],
 "metadata": {
  "kernelspec": {
   "display_name": "venv",
   "language": "python",
   "name": "python3"
  },
  "language_info": {
   "codemirror_mode": {
    "name": "ipython",
    "version": 3
   },
   "file_extension": ".py",
   "mimetype": "text/x-python",
   "name": "python",
   "nbconvert_exporter": "python",
   "pygments_lexer": "ipython3",
   "version": "3.10.12"
  },
  "orig_nbformat": 4
 },
 "nbformat": 4,
 "nbformat_minor": 2
}
