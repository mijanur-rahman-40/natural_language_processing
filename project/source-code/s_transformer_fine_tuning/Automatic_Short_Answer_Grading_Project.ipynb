{
  "cells": [
    {
      "cell_type": "code",
      "execution_count": 1,
      "metadata": {
        "colab": {
          "base_uri": "https://localhost:8080/"
        },
        "id": "T2f4jK4M1arj",
        "outputId": "20d9db09-e1b4-4503-da05-70992308797f"
      },
      "outputs": [
        {
          "name": "stdout",
          "output_type": "stream",
          "text": [
            "Collecting transformers\n",
            "  Downloading transformers-4.31.0-py3-none-any.whl (7.4 MB)\n",
            "\u001b[2K     \u001b[90m━━━━━━━━━━━━━━━━━━━━━━━━━━━━━━━━━━━━━━━━\u001b[0m \u001b[32m7.4/7.4 MB\u001b[0m \u001b[31m59.7 MB/s\u001b[0m eta \u001b[36m0:00:00\u001b[0m\n",
            "\u001b[?25hCollecting sentence-transformers\n",
            "  Downloading sentence-transformers-2.2.2.tar.gz (85 kB)\n",
            "\u001b[2K     \u001b[90m━━━━━━━━━━━━━━━━━━━━━━━━━━━━━━━━━━━━━━━━\u001b[0m \u001b[32m86.0/86.0 kB\u001b[0m \u001b[31m4.8 MB/s\u001b[0m eta \u001b[36m0:00:00\u001b[0m\n",
            "\u001b[?25h  Preparing metadata (setup.py) ... \u001b[?25l\u001b[?25hdone\n",
            "Requirement already satisfied: filelock in /usr/local/lib/python3.10/dist-packages (from transformers) (3.12.2)\n",
            "Collecting huggingface-hub<1.0,>=0.14.1 (from transformers)\n",
            "  Downloading huggingface_hub-0.16.4-py3-none-any.whl (268 kB)\n",
            "\u001b[2K     \u001b[90m━━━━━━━━━━━━━━━━━━━━━━━━━━━━━━━━━━━━━━\u001b[0m \u001b[32m268.8/268.8 kB\u001b[0m \u001b[31m19.2 MB/s\u001b[0m eta \u001b[36m0:00:00\u001b[0m\n",
            "\u001b[?25hRequirement already satisfied: numpy>=1.17 in /usr/local/lib/python3.10/dist-packages (from transformers) (1.22.4)\n",
            "Requirement already satisfied: packaging>=20.0 in /usr/local/lib/python3.10/dist-packages (from transformers) (23.1)\n",
            "Requirement already satisfied: pyyaml>=5.1 in /usr/local/lib/python3.10/dist-packages (from transformers) (6.0)\n",
            "Requirement already satisfied: regex!=2019.12.17 in /usr/local/lib/python3.10/dist-packages (from transformers) (2022.10.31)\n",
            "Requirement already satisfied: requests in /usr/local/lib/python3.10/dist-packages (from transformers) (2.27.1)\n",
            "Collecting tokenizers!=0.11.3,<0.14,>=0.11.1 (from transformers)\n",
            "  Downloading tokenizers-0.13.3-cp310-cp310-manylinux_2_17_x86_64.manylinux2014_x86_64.whl (7.8 MB)\n",
            "\u001b[2K     \u001b[90m━━━━━━━━━━━━━━━━━━━━━━━━━━━━━━━━━━━━━━━━\u001b[0m \u001b[32m7.8/7.8 MB\u001b[0m \u001b[31m71.9 MB/s\u001b[0m eta \u001b[36m0:00:00\u001b[0m\n",
            "\u001b[?25hCollecting safetensors>=0.3.1 (from transformers)\n",
            "  Downloading safetensors-0.3.1-cp310-cp310-manylinux_2_17_x86_64.manylinux2014_x86_64.whl (1.3 MB)\n",
            "\u001b[2K     \u001b[90m━━━━━━━━━━━━━━━━━━━━━━━━━━━━━━━━━━━━━━━━\u001b[0m \u001b[32m1.3/1.3 MB\u001b[0m \u001b[31m59.2 MB/s\u001b[0m eta \u001b[36m0:00:00\u001b[0m\n",
            "\u001b[?25hRequirement already satisfied: tqdm>=4.27 in /usr/local/lib/python3.10/dist-packages (from transformers) (4.65.0)\n",
            "Requirement already satisfied: torch>=1.6.0 in /usr/local/lib/python3.10/dist-packages (from sentence-transformers) (2.0.1+cu118)\n",
            "Requirement already satisfied: torchvision in /usr/local/lib/python3.10/dist-packages (from sentence-transformers) (0.15.2+cu118)\n",
            "Requirement already satisfied: scikit-learn in /usr/local/lib/python3.10/dist-packages (from sentence-transformers) (1.2.2)\n",
            "Requirement already satisfied: scipy in /usr/local/lib/python3.10/dist-packages (from sentence-transformers) (1.10.1)\n",
            "Requirement already satisfied: nltk in /usr/local/lib/python3.10/dist-packages (from sentence-transformers) (3.8.1)\n",
            "Collecting sentencepiece (from sentence-transformers)\n",
            "  Downloading sentencepiece-0.1.99-cp310-cp310-manylinux_2_17_x86_64.manylinux2014_x86_64.whl (1.3 MB)\n",
            "\u001b[2K     \u001b[90m━━━━━━━━━━━━━━━━━━━━━━━━━━━━━━━━━━━━━━━━\u001b[0m \u001b[32m1.3/1.3 MB\u001b[0m \u001b[31m14.2 MB/s\u001b[0m eta \u001b[36m0:00:00\u001b[0m\n",
            "\u001b[?25hRequirement already satisfied: fsspec in /usr/local/lib/python3.10/dist-packages (from huggingface-hub<1.0,>=0.14.1->transformers) (2023.6.0)\n",
            "Requirement already satisfied: typing-extensions>=3.7.4.3 in /usr/local/lib/python3.10/dist-packages (from huggingface-hub<1.0,>=0.14.1->transformers) (4.7.1)\n",
            "Requirement already satisfied: sympy in /usr/local/lib/python3.10/dist-packages (from torch>=1.6.0->sentence-transformers) (1.11.1)\n",
            "Requirement already satisfied: networkx in /usr/local/lib/python3.10/dist-packages (from torch>=1.6.0->sentence-transformers) (3.1)\n",
            "Requirement already satisfied: jinja2 in /usr/local/lib/python3.10/dist-packages (from torch>=1.6.0->sentence-transformers) (3.1.2)\n",
            "Requirement already satisfied: triton==2.0.0 in /usr/local/lib/python3.10/dist-packages (from torch>=1.6.0->sentence-transformers) (2.0.0)\n",
            "Requirement already satisfied: cmake in /usr/local/lib/python3.10/dist-packages (from triton==2.0.0->torch>=1.6.0->sentence-transformers) (3.25.2)\n",
            "Requirement already satisfied: lit in /usr/local/lib/python3.10/dist-packages (from triton==2.0.0->torch>=1.6.0->sentence-transformers) (16.0.6)\n",
            "Requirement already satisfied: click in /usr/local/lib/python3.10/dist-packages (from nltk->sentence-transformers) (8.1.4)\n",
            "Requirement already satisfied: joblib in /usr/local/lib/python3.10/dist-packages (from nltk->sentence-transformers) (1.3.1)\n",
            "Requirement already satisfied: urllib3<1.27,>=1.21.1 in /usr/local/lib/python3.10/dist-packages (from requests->transformers) (1.26.16)\n",
            "Requirement already satisfied: certifi>=2017.4.17 in /usr/local/lib/python3.10/dist-packages (from requests->transformers) (2023.5.7)\n",
            "Requirement already satisfied: charset-normalizer~=2.0.0 in /usr/local/lib/python3.10/dist-packages (from requests->transformers) (2.0.12)\n",
            "Requirement already satisfied: idna<4,>=2.5 in /usr/local/lib/python3.10/dist-packages (from requests->transformers) (3.4)\n",
            "Requirement already satisfied: threadpoolctl>=2.0.0 in /usr/local/lib/python3.10/dist-packages (from scikit-learn->sentence-transformers) (3.1.0)\n",
            "Requirement already satisfied: pillow!=8.3.*,>=5.3.0 in /usr/local/lib/python3.10/dist-packages (from torchvision->sentence-transformers) (8.4.0)\n",
            "Requirement already satisfied: MarkupSafe>=2.0 in /usr/local/lib/python3.10/dist-packages (from jinja2->torch>=1.6.0->sentence-transformers) (2.1.3)\n",
            "Requirement already satisfied: mpmath>=0.19 in /usr/local/lib/python3.10/dist-packages (from sympy->torch>=1.6.0->sentence-transformers) (1.3.0)\n",
            "Building wheels for collected packages: sentence-transformers\n",
            "  Building wheel for sentence-transformers (setup.py) ... \u001b[?25l\u001b[?25hdone\n",
            "  Created wheel for sentence-transformers: filename=sentence_transformers-2.2.2-py3-none-any.whl size=125926 sha256=2dea48d6aa3b5c7440e1a8a98d1f366cedb949d6120858ee89b6a1b3bd4062a4\n",
            "  Stored in directory: /root/.cache/pip/wheels/62/f2/10/1e606fd5f02395388f74e7462910fe851042f97238cbbd902f\n",
            "Successfully built sentence-transformers\n",
            "Installing collected packages: tokenizers, sentencepiece, safetensors, huggingface-hub, transformers, sentence-transformers\n",
            "Successfully installed huggingface-hub-0.16.4 safetensors-0.3.1 sentence-transformers-2.2.2 sentencepiece-0.1.99 tokenizers-0.13.3 transformers-4.31.0\n"
          ]
        }
      ],
      "source": [
        "%pip install transformers sentence-transformers"
      ]
    },
    {
      "cell_type": "code",
      "execution_count": 2,
      "metadata": {
        "id": "sLvHvOlS2e3B"
      },
      "outputs": [],
      "source": [
        "from sentence_transformers import SentenceTransformer, models\n",
        "from transformers import BertTokenizer\n",
        "from transformers import get_linear_schedule_with_warmup\n",
        "import torch\n",
        "from torch.optim import AdamW\n",
        "from torch.utils.data import DataLoader\n",
        "from tqdm import tqdm\n",
        "import time\n",
        "import datetime\n",
        "import random\n",
        "import numpy as np\n",
        "from sklearn.model_selection import train_test_split\n",
        "import pandas as pd\n",
        "import matplotlib.pyplot as plt"
      ]
    },
    {
      "cell_type": "code",
      "execution_count": 35,
      "metadata": {
        "colab": {
          "base_uri": "https://localhost:8080/",
          "height": 75
        },
        "id": "3NT53igI3WNy",
        "outputId": "73bd684b-d4e1-4d42-dd7c-f0d57c2da29c"
      },
      "outputs": [
        {
          "data": {
            "text/html": [
              "\n",
              "     <input type=\"file\" id=\"files-156b62a4-9f6c-4a6b-bf89-b6e4c03e559d\" name=\"files[]\" multiple disabled\n",
              "        style=\"border:none\" />\n",
              "     <output id=\"result-156b62a4-9f6c-4a6b-bf89-b6e4c03e559d\">\n",
              "      Upload widget is only available when the cell has been executed in the\n",
              "      current browser session. Please rerun this cell to enable.\n",
              "      </output>\n",
              "      <script>// Copyright 2017 Google LLC\n",
              "//\n",
              "// Licensed under the Apache License, Version 2.0 (the \"License\");\n",
              "// you may not use this file except in compliance with the License.\n",
              "// You may obtain a copy of the License at\n",
              "//\n",
              "//      http://www.apache.org/licenses/LICENSE-2.0\n",
              "//\n",
              "// Unless required by applicable law or agreed to in writing, software\n",
              "// distributed under the License is distributed on an \"AS IS\" BASIS,\n",
              "// WITHOUT WARRANTIES OR CONDITIONS OF ANY KIND, either express or implied.\n",
              "// See the License for the specific language governing permissions and\n",
              "// limitations under the License.\n",
              "\n",
              "/**\n",
              " * @fileoverview Helpers for google.colab Python module.\n",
              " */\n",
              "(function(scope) {\n",
              "function span(text, styleAttributes = {}) {\n",
              "  const element = document.createElement('span');\n",
              "  element.textContent = text;\n",
              "  for (const key of Object.keys(styleAttributes)) {\n",
              "    element.style[key] = styleAttributes[key];\n",
              "  }\n",
              "  return element;\n",
              "}\n",
              "\n",
              "// Max number of bytes which will be uploaded at a time.\n",
              "const MAX_PAYLOAD_SIZE = 100 * 1024;\n",
              "\n",
              "function _uploadFiles(inputId, outputId) {\n",
              "  const steps = uploadFilesStep(inputId, outputId);\n",
              "  const outputElement = document.getElementById(outputId);\n",
              "  // Cache steps on the outputElement to make it available for the next call\n",
              "  // to uploadFilesContinue from Python.\n",
              "  outputElement.steps = steps;\n",
              "\n",
              "  return _uploadFilesContinue(outputId);\n",
              "}\n",
              "\n",
              "// This is roughly an async generator (not supported in the browser yet),\n",
              "// where there are multiple asynchronous steps and the Python side is going\n",
              "// to poll for completion of each step.\n",
              "// This uses a Promise to block the python side on completion of each step,\n",
              "// then passes the result of the previous step as the input to the next step.\n",
              "function _uploadFilesContinue(outputId) {\n",
              "  const outputElement = document.getElementById(outputId);\n",
              "  const steps = outputElement.steps;\n",
              "\n",
              "  const next = steps.next(outputElement.lastPromiseValue);\n",
              "  return Promise.resolve(next.value.promise).then((value) => {\n",
              "    // Cache the last promise value to make it available to the next\n",
              "    // step of the generator.\n",
              "    outputElement.lastPromiseValue = value;\n",
              "    return next.value.response;\n",
              "  });\n",
              "}\n",
              "\n",
              "/**\n",
              " * Generator function which is called between each async step of the upload\n",
              " * process.\n",
              " * @param {string} inputId Element ID of the input file picker element.\n",
              " * @param {string} outputId Element ID of the output display.\n",
              " * @return {!Iterable<!Object>} Iterable of next steps.\n",
              " */\n",
              "function* uploadFilesStep(inputId, outputId) {\n",
              "  const inputElement = document.getElementById(inputId);\n",
              "  inputElement.disabled = false;\n",
              "\n",
              "  const outputElement = document.getElementById(outputId);\n",
              "  outputElement.innerHTML = '';\n",
              "\n",
              "  const pickedPromise = new Promise((resolve) => {\n",
              "    inputElement.addEventListener('change', (e) => {\n",
              "      resolve(e.target.files);\n",
              "    });\n",
              "  });\n",
              "\n",
              "  const cancel = document.createElement('button');\n",
              "  inputElement.parentElement.appendChild(cancel);\n",
              "  cancel.textContent = 'Cancel upload';\n",
              "  const cancelPromise = new Promise((resolve) => {\n",
              "    cancel.onclick = () => {\n",
              "      resolve(null);\n",
              "    };\n",
              "  });\n",
              "\n",
              "  // Wait for the user to pick the files.\n",
              "  const files = yield {\n",
              "    promise: Promise.race([pickedPromise, cancelPromise]),\n",
              "    response: {\n",
              "      action: 'starting',\n",
              "    }\n",
              "  };\n",
              "\n",
              "  cancel.remove();\n",
              "\n",
              "  // Disable the input element since further picks are not allowed.\n",
              "  inputElement.disabled = true;\n",
              "\n",
              "  if (!files) {\n",
              "    return {\n",
              "      response: {\n",
              "        action: 'complete',\n",
              "      }\n",
              "    };\n",
              "  }\n",
              "\n",
              "  for (const file of files) {\n",
              "    const li = document.createElement('li');\n",
              "    li.append(span(file.name, {fontWeight: 'bold'}));\n",
              "    li.append(span(\n",
              "        `(${file.type || 'n/a'}) - ${file.size} bytes, ` +\n",
              "        `last modified: ${\n",
              "            file.lastModifiedDate ? file.lastModifiedDate.toLocaleDateString() :\n",
              "                                    'n/a'} - `));\n",
              "    const percent = span('0% done');\n",
              "    li.appendChild(percent);\n",
              "\n",
              "    outputElement.appendChild(li);\n",
              "\n",
              "    const fileDataPromise = new Promise((resolve) => {\n",
              "      const reader = new FileReader();\n",
              "      reader.onload = (e) => {\n",
              "        resolve(e.target.result);\n",
              "      };\n",
              "      reader.readAsArrayBuffer(file);\n",
              "    });\n",
              "    // Wait for the data to be ready.\n",
              "    let fileData = yield {\n",
              "      promise: fileDataPromise,\n",
              "      response: {\n",
              "        action: 'continue',\n",
              "      }\n",
              "    };\n",
              "\n",
              "    // Use a chunked sending to avoid message size limits. See b/62115660.\n",
              "    let position = 0;\n",
              "    do {\n",
              "      const length = Math.min(fileData.byteLength - position, MAX_PAYLOAD_SIZE);\n",
              "      const chunk = new Uint8Array(fileData, position, length);\n",
              "      position += length;\n",
              "\n",
              "      const base64 = btoa(String.fromCharCode.apply(null, chunk));\n",
              "      yield {\n",
              "        response: {\n",
              "          action: 'append',\n",
              "          file: file.name,\n",
              "          data: base64,\n",
              "        },\n",
              "      };\n",
              "\n",
              "      let percentDone = fileData.byteLength === 0 ?\n",
              "          100 :\n",
              "          Math.round((position / fileData.byteLength) * 100);\n",
              "      percent.textContent = `${percentDone}% done`;\n",
              "\n",
              "    } while (position < fileData.byteLength);\n",
              "  }\n",
              "\n",
              "  // All done.\n",
              "  yield {\n",
              "    response: {\n",
              "      action: 'complete',\n",
              "    }\n",
              "  };\n",
              "}\n",
              "\n",
              "scope.google = scope.google || {};\n",
              "scope.google.colab = scope.google.colab || {};\n",
              "scope.google.colab._files = {\n",
              "  _uploadFiles,\n",
              "  _uploadFilesContinue,\n",
              "};\n",
              "})(self);\n",
              "</script> "
            ],
            "text/plain": [
              "<IPython.core.display.HTML object>"
            ]
          },
          "metadata": {},
          "output_type": "display_data"
        },
        {
          "name": "stdout",
          "output_type": "stream",
          "text": [
            "Saving mohler_dataset.csv to mohler_dataset.csv\n"
          ]
        }
      ],
      "source": [
        "from google.colab import files\n",
        "uploaded = files.upload()"
      ]
    },
    {
      "cell_type": "code",
      "execution_count": 36,
      "metadata": {
        "id": "9rbeqzs53e7C"
      },
      "outputs": [],
      "source": [
        "# Load your dataset into a Pandas DataFrame\n",
        "df = pd.read_csv('mohler_dataset.csv')\n",
        "# df = pd.read_csv('dataset.csv')"
      ]
    },
    {
      "cell_type": "code",
      "execution_count": 37,
      "metadata": {
        "colab": {
          "base_uri": "https://localhost:8080/",
          "height": 598
        },
        "id": "XHLz4FlTQnhu",
        "outputId": "7079cce5-76ef-4f21-98f6-761204ea0438"
      },
      "outputs": [
        {
          "data": {
            "text/html": [
              "\n",
              "\n",
              "  <div id=\"df-08c97abf-344b-4c51-8589-9db3eab69add\">\n",
              "    <div class=\"colab-df-container\">\n",
              "      <div>\n",
              "<style scoped>\n",
              "    .dataframe tbody tr th:only-of-type {\n",
              "        vertical-align: middle;\n",
              "    }\n",
              "\n",
              "    .dataframe tbody tr th {\n",
              "        vertical-align: top;\n",
              "    }\n",
              "\n",
              "    .dataframe thead th {\n",
              "        text-align: right;\n",
              "    }\n",
              "</style>\n",
              "<table border=\"1\" class=\"dataframe\">\n",
              "  <thead>\n",
              "    <tr style=\"text-align: right;\">\n",
              "      <th></th>\n",
              "      <th>id</th>\n",
              "      <th>question</th>\n",
              "      <th>desired_answer</th>\n",
              "      <th>student_answer</th>\n",
              "      <th>score_me</th>\n",
              "      <th>score_other</th>\n",
              "      <th>score_avg</th>\n",
              "    </tr>\n",
              "  </thead>\n",
              "  <tbody>\n",
              "    <tr>\n",
              "      <th>0</th>\n",
              "      <td>1.1</td>\n",
              "      <td>What is the role of a prototype program in pro...</td>\n",
              "      <td>To simulate the behaviour of portions of the d...</td>\n",
              "      <td>High risk problems are address in the prototyp...</td>\n",
              "      <td>4.0</td>\n",
              "      <td>3.0</td>\n",
              "      <td>3.5</td>\n",
              "    </tr>\n",
              "    <tr>\n",
              "      <th>1</th>\n",
              "      <td>1.1</td>\n",
              "      <td>What is the role of a prototype program in pro...</td>\n",
              "      <td>To simulate the behaviour of portions of the d...</td>\n",
              "      <td>To simulate portions of the desired final prod...</td>\n",
              "      <td>5.0</td>\n",
              "      <td>5.0</td>\n",
              "      <td>5.0</td>\n",
              "    </tr>\n",
              "    <tr>\n",
              "      <th>2</th>\n",
              "      <td>1.1</td>\n",
              "      <td>What is the role of a prototype program in pro...</td>\n",
              "      <td>To simulate the behaviour of portions of the d...</td>\n",
              "      <td>A prototype program simulates the behaviors of...</td>\n",
              "      <td>5.0</td>\n",
              "      <td>3.0</td>\n",
              "      <td>4.0</td>\n",
              "    </tr>\n",
              "    <tr>\n",
              "      <th>3</th>\n",
              "      <td>1.1</td>\n",
              "      <td>What is the role of a prototype program in pro...</td>\n",
              "      <td>To simulate the behaviour of portions of the d...</td>\n",
              "      <td>Defined in the Specification phase a prototype...</td>\n",
              "      <td>5.0</td>\n",
              "      <td>5.0</td>\n",
              "      <td>5.0</td>\n",
              "    </tr>\n",
              "    <tr>\n",
              "      <th>4</th>\n",
              "      <td>1.1</td>\n",
              "      <td>What is the role of a prototype program in pro...</td>\n",
              "      <td>To simulate the behaviour of portions of the d...</td>\n",
              "      <td>It is used to let the users have a first idea ...</td>\n",
              "      <td>3.0</td>\n",
              "      <td>3.0</td>\n",
              "      <td>3.0</td>\n",
              "    </tr>\n",
              "  </tbody>\n",
              "</table>\n",
              "</div>\n",
              "      <button class=\"colab-df-convert\" onclick=\"convertToInteractive('df-08c97abf-344b-4c51-8589-9db3eab69add')\"\n",
              "              title=\"Convert this dataframe to an interactive table.\"\n",
              "              style=\"display:none;\">\n",
              "\n",
              "  <svg xmlns=\"http://www.w3.org/2000/svg\" height=\"24px\"viewBox=\"0 0 24 24\"\n",
              "       width=\"24px\">\n",
              "    <path d=\"M0 0h24v24H0V0z\" fill=\"none\"/>\n",
              "    <path d=\"M18.56 5.44l.94 2.06.94-2.06 2.06-.94-2.06-.94-.94-2.06-.94 2.06-2.06.94zm-11 1L8.5 8.5l.94-2.06 2.06-.94-2.06-.94L8.5 2.5l-.94 2.06-2.06.94zm10 10l.94 2.06.94-2.06 2.06-.94-2.06-.94-.94-2.06-.94 2.06-2.06.94z\"/><path d=\"M17.41 7.96l-1.37-1.37c-.4-.4-.92-.59-1.43-.59-.52 0-1.04.2-1.43.59L10.3 9.45l-7.72 7.72c-.78.78-.78 2.05 0 2.83L4 21.41c.39.39.9.59 1.41.59.51 0 1.02-.2 1.41-.59l7.78-7.78 2.81-2.81c.8-.78.8-2.07 0-2.86zM5.41 20L4 18.59l7.72-7.72 1.47 1.35L5.41 20z\"/>\n",
              "  </svg>\n",
              "      </button>\n",
              "\n",
              "\n",
              "\n",
              "    <div id=\"df-74ab2409-62ac-4a44-8335-1f6a32c0094a\">\n",
              "      <button class=\"colab-df-quickchart\" onclick=\"quickchart('df-74ab2409-62ac-4a44-8335-1f6a32c0094a')\"\n",
              "              title=\"Suggest charts.\"\n",
              "              style=\"display:none;\">\n",
              "\n",
              "<svg xmlns=\"http://www.w3.org/2000/svg\" height=\"24px\"viewBox=\"0 0 24 24\"\n",
              "     width=\"24px\">\n",
              "    <g>\n",
              "        <path d=\"M19 3H5c-1.1 0-2 .9-2 2v14c0 1.1.9 2 2 2h14c1.1 0 2-.9 2-2V5c0-1.1-.9-2-2-2zM9 17H7v-7h2v7zm4 0h-2V7h2v10zm4 0h-2v-4h2v4z\"/>\n",
              "    </g>\n",
              "</svg>\n",
              "      </button>\n",
              "    </div>\n",
              "\n",
              "<style>\n",
              "  .colab-df-quickchart {\n",
              "    background-color: #E8F0FE;\n",
              "    border: none;\n",
              "    border-radius: 50%;\n",
              "    cursor: pointer;\n",
              "    display: none;\n",
              "    fill: #1967D2;\n",
              "    height: 32px;\n",
              "    padding: 0 0 0 0;\n",
              "    width: 32px;\n",
              "  }\n",
              "\n",
              "  .colab-df-quickchart:hover {\n",
              "    background-color: #E2EBFA;\n",
              "    box-shadow: 0px 1px 2px rgba(60, 64, 67, 0.3), 0px 1px 3px 1px rgba(60, 64, 67, 0.15);\n",
              "    fill: #174EA6;\n",
              "  }\n",
              "\n",
              "  [theme=dark] .colab-df-quickchart {\n",
              "    background-color: #3B4455;\n",
              "    fill: #D2E3FC;\n",
              "  }\n",
              "\n",
              "  [theme=dark] .colab-df-quickchart:hover {\n",
              "    background-color: #434B5C;\n",
              "    box-shadow: 0px 1px 3px 1px rgba(0, 0, 0, 0.15);\n",
              "    filter: drop-shadow(0px 1px 2px rgba(0, 0, 0, 0.3));\n",
              "    fill: #FFFFFF;\n",
              "  }\n",
              "</style>\n",
              "\n",
              "    <script>\n",
              "      async function quickchart(key) {\n",
              "        const containerElement = document.querySelector('#' + key);\n",
              "        const charts = await google.colab.kernel.invokeFunction(\n",
              "            'suggestCharts', [key], {});\n",
              "      }\n",
              "    </script>\n",
              "\n",
              "      <script>\n",
              "\n",
              "function displayQuickchartButton(domScope) {\n",
              "  let quickchartButtonEl =\n",
              "    domScope.querySelector('#df-74ab2409-62ac-4a44-8335-1f6a32c0094a button.colab-df-quickchart');\n",
              "  quickchartButtonEl.style.display =\n",
              "    google.colab.kernel.accessAllowed ? 'block' : 'none';\n",
              "}\n",
              "\n",
              "        displayQuickchartButton(document);\n",
              "      </script>\n",
              "      <style>\n",
              "    .colab-df-container {\n",
              "      display:flex;\n",
              "      flex-wrap:wrap;\n",
              "      gap: 12px;\n",
              "    }\n",
              "\n",
              "    .colab-df-convert {\n",
              "      background-color: #E8F0FE;\n",
              "      border: none;\n",
              "      border-radius: 50%;\n",
              "      cursor: pointer;\n",
              "      display: none;\n",
              "      fill: #1967D2;\n",
              "      height: 32px;\n",
              "      padding: 0 0 0 0;\n",
              "      width: 32px;\n",
              "    }\n",
              "\n",
              "    .colab-df-convert:hover {\n",
              "      background-color: #E2EBFA;\n",
              "      box-shadow: 0px 1px 2px rgba(60, 64, 67, 0.3), 0px 1px 3px 1px rgba(60, 64, 67, 0.15);\n",
              "      fill: #174EA6;\n",
              "    }\n",
              "\n",
              "    [theme=dark] .colab-df-convert {\n",
              "      background-color: #3B4455;\n",
              "      fill: #D2E3FC;\n",
              "    }\n",
              "\n",
              "    [theme=dark] .colab-df-convert:hover {\n",
              "      background-color: #434B5C;\n",
              "      box-shadow: 0px 1px 3px 1px rgba(0, 0, 0, 0.15);\n",
              "      filter: drop-shadow(0px 1px 2px rgba(0, 0, 0, 0.3));\n",
              "      fill: #FFFFFF;\n",
              "    }\n",
              "  </style>\n",
              "\n",
              "      <script>\n",
              "        const buttonEl =\n",
              "          document.querySelector('#df-08c97abf-344b-4c51-8589-9db3eab69add button.colab-df-convert');\n",
              "        buttonEl.style.display =\n",
              "          google.colab.kernel.accessAllowed ? 'block' : 'none';\n",
              "\n",
              "        async function convertToInteractive(key) {\n",
              "          const element = document.querySelector('#df-08c97abf-344b-4c51-8589-9db3eab69add');\n",
              "          const dataTable =\n",
              "            await google.colab.kernel.invokeFunction('convertToInteractive',\n",
              "                                                     [key], {});\n",
              "          if (!dataTable) return;\n",
              "\n",
              "          const docLinkHtml = 'Like what you see? Visit the ' +\n",
              "            '<a target=\"_blank\" href=https://colab.research.google.com/notebooks/data_table.ipynb>data table notebook</a>'\n",
              "            + ' to learn more about interactive tables.';\n",
              "          element.innerHTML = '';\n",
              "          dataTable['output_type'] = 'display_data';\n",
              "          await google.colab.output.renderOutput(dataTable, element);\n",
              "          const docLink = document.createElement('div');\n",
              "          docLink.innerHTML = docLinkHtml;\n",
              "          element.appendChild(docLink);\n",
              "        }\n",
              "      </script>\n",
              "    </div>\n",
              "  </div>\n"
            ],
            "text/plain": [
              "    id                                           question  \\\n",
              "0  1.1  What is the role of a prototype program in pro...   \n",
              "1  1.1  What is the role of a prototype program in pro...   \n",
              "2  1.1  What is the role of a prototype program in pro...   \n",
              "3  1.1  What is the role of a prototype program in pro...   \n",
              "4  1.1  What is the role of a prototype program in pro...   \n",
              "\n",
              "                                      desired_answer  \\\n",
              "0  To simulate the behaviour of portions of the d...   \n",
              "1  To simulate the behaviour of portions of the d...   \n",
              "2  To simulate the behaviour of portions of the d...   \n",
              "3  To simulate the behaviour of portions of the d...   \n",
              "4  To simulate the behaviour of portions of the d...   \n",
              "\n",
              "                                      student_answer  score_me  score_other  \\\n",
              "0  High risk problems are address in the prototyp...       4.0          3.0   \n",
              "1  To simulate portions of the desired final prod...       5.0          5.0   \n",
              "2  A prototype program simulates the behaviors of...       5.0          3.0   \n",
              "3  Defined in the Specification phase a prototype...       5.0          5.0   \n",
              "4  It is used to let the users have a first idea ...       3.0          3.0   \n",
              "\n",
              "   score_avg  \n",
              "0        3.5  \n",
              "1        5.0  \n",
              "2        4.0  \n",
              "3        5.0  \n",
              "4        3.0  "
            ]
          },
          "execution_count": 37,
          "metadata": {},
          "output_type": "execute_result"
        }
      ],
      "source": [
        "df[:5]"
      ]
    },
    {
      "cell_type": "code",
      "execution_count": 10,
      "metadata": {
        "colab": {
          "base_uri": "https://localhost:8080/"
        },
        "id": "jedSkzWq7Mcn",
        "outputId": "5520087e-fdfb-4a77-ff1b-5eb267b86ff4"
      },
      "outputs": [
        {
          "name": "stdout",
          "output_type": "stream",
          "text": [
            "There are 1 GPU(s) available.\n",
            "We will use the GPU: Tesla T4\n"
          ]
        }
      ],
      "source": [
        "if torch.cuda.is_available():\n",
        "    device = torch.device(\"cuda\")\n",
        "    print(f'There are {torch.cuda.device_count()} GPU(s) available.')\n",
        "    print('We will use the GPU:', torch.cuda.get_device_name(0))\n",
        "else:\n",
        "    print('No GPU available, using the CPU instead.')\n",
        "    device = torch.device(\"cpu\")"
      ]
    },
    {
      "cell_type": "code",
      "execution_count": 11,
      "metadata": {
        "id": "OJxkZtCq2npi"
      },
      "outputs": [],
      "source": [
        "# Instantiate the BERT tokenizer\n",
        "# You can use larger variants of the model, here we're using the base model\n",
        "tokenizer = BertTokenizer.from_pretrained('bert-base-uncased')"
      ]
    },
    {
      "cell_type": "code",
      "execution_count": 12,
      "metadata": {
        "id": "194k7tRi2zei"
      },
      "outputs": [],
      "source": [
        "class BDataset():\n",
        "    def __init__(self, dataset):\n",
        "        # Normalize the similarity scores in the dataset\n",
        "        similarity_scores = dataset['score_avg']\n",
        "        self.normalized_similarity_scores = [i/5.0 for i in similarity_scores]\n",
        "        self.first_sentences = dataset['desired_answer']\n",
        "        self.second_sentences = dataset['student_answer']\n",
        "        self.concatenated_sentences = [[str(x), str(y)] for x,y in zip(self.first_sentences, self.second_sentences)]\n",
        "\n",
        "    def __len__(self):\n",
        "        return len(self.concatenated_sentences)\n",
        "\n",
        "    def get_batch_labels(self, idx):\n",
        "        return torch.tensor(self.normalized_similarity_scores[idx])\n",
        "\n",
        "    def get_batch_texts(self, idx):\n",
        "        return tokenizer(self.concatenated_sentences[idx], padding='max_length', max_length=128, truncation=True, return_tensors=\"pt\")\n",
        "\n",
        "    def __getitem__(self, idx):\n",
        "        batch_texts = self.get_batch_texts(idx)\n",
        "        batch_y = self.get_batch_labels(idx)\n",
        "        return batch_texts, batch_y\n",
        "\n",
        "\n",
        "def collate_fn(texts):\n",
        "    input_ids = texts['input_ids']\n",
        "    attention_masks = texts['attention_mask']\n",
        "    features = [{'input_ids': input_id, 'attention_mask': attention_mask}\n",
        "                for input_id, attention_mask in zip(input_ids, attention_masks)]\n",
        "    return features"
      ]
    },
    {
      "cell_type": "code",
      "execution_count": 46,
      "metadata": {
        "colab": {
          "base_uri": "https://localhost:8080/"
        },
        "id": "GrIZTgzQRuaO",
        "outputId": "3c41cc0e-9442-476d-8499-3cb29fe8ef9b"
      },
      "outputs": [
        {
          "data": {
            "text/plain": [
              "2273"
            ]
          },
          "execution_count": 46,
          "metadata": {},
          "output_type": "execute_result"
        }
      ],
      "source": [
        "len(df)"
      ]
    },
    {
      "cell_type": "code",
      "execution_count": 38,
      "metadata": {
        "id": "Z_YgscXL3p4t"
      },
      "outputs": [],
      "source": [
        "# Split data into train, validation, and test sets\n",
        "train_df, test_df = train_test_split(df, test_size=0.2, random_state=42)\n",
        "train_df, val_df = train_test_split(train_df, test_size=0.1, random_state=42)"
      ]
    },
    {
      "cell_type": "code",
      "execution_count": 40,
      "metadata": {
        "id": "fc8ecR18379u"
      },
      "outputs": [],
      "source": [
        "train_ds = BDataset(df)"
      ]
    },
    {
      "cell_type": "code",
      "execution_count": 45,
      "metadata": {
        "colab": {
          "base_uri": "https://localhost:8080/"
        },
        "id": "Yk_EyLvn3QPC",
        "outputId": "494f893a-0e49-41c2-ab09-31deb6832ca2"
      },
      "outputs": [
        {
          "name": "stdout",
          "output_type": "stream",
          "text": [
            "Training samples : 1636 \n",
            "Validation samples : 182 \n"
          ]
        }
      ],
      "source": [
        "train_ds = BDataset(train_df)\n",
        "val_ds = BDataset(val_df)\n",
        "\n",
        "train_size = len(train_ds)\n",
        "val_size = len(val_ds)\n",
        "\n",
        "print('Training samples : {} '.format(train_size))\n",
        "print('Validation samples : {} '.format(val_size))"
      ]
    },
    {
      "cell_type": "code",
      "execution_count": 47,
      "metadata": {
        "id": "f-WyFTWU3Aea"
      },
      "outputs": [],
      "source": [
        "class Bert(torch.nn.Module):\n",
        "    def __init__(self):\n",
        "        super(Bert, self).__init__()\n",
        "        self.bert = models.Transformer('bert-base-uncased', max_seq_length=128)\n",
        "        self.pooling_layer = models.Pooling(self.bert.get_word_embedding_dimension())\n",
        "        self.sts_bert = SentenceTransformer(modules=[self.bert, self.pooling_layer])\n",
        "\n",
        "    def forward(self, input_data):\n",
        "        output = self.sts_bert(input_data)['sentence_embedding']\n",
        "        return output"
      ]
    },
    {
      "cell_type": "code",
      "execution_count": 48,
      "metadata": {
        "colab": {
          "base_uri": "https://localhost:8080/"
        },
        "id": "E7inWIBp3Eww",
        "outputId": "89efd2b3-64e1-4c7a-a80b-9e2eeafc2eb6"
      },
      "outputs": [
        {
          "data": {
            "text/plain": [
              "Bert(\n",
              "  (bert): Transformer({'max_seq_length': 128, 'do_lower_case': False}) with Transformer model: BertModel \n",
              "  (pooling_layer): Pooling({'word_embedding_dimension': 768, 'pooling_mode_cls_token': False, 'pooling_mode_mean_tokens': True, 'pooling_mode_max_tokens': False, 'pooling_mode_mean_sqrt_len_tokens': False})\n",
              "  (sts_bert): SentenceTransformer(\n",
              "    (0): Transformer({'max_seq_length': 128, 'do_lower_case': False}) with Transformer model: BertModel \n",
              "    (1): Pooling({'word_embedding_dimension': 768, 'pooling_mode_cls_token': False, 'pooling_mode_mean_tokens': True, 'pooling_mode_max_tokens': False, 'pooling_mode_mean_sqrt_len_tokens': False})\n",
              "  )\n",
              ")"
            ]
          },
          "execution_count": 48,
          "metadata": {},
          "output_type": "execute_result"
        }
      ],
      "source": [
        "# Instantiate the model and move it to GPU\n",
        "model = Bert()\n",
        "model.to(device)"
      ]
    },
    {
      "cell_type": "code",
      "execution_count": 49,
      "metadata": {
        "id": "CcAfrGQz3IW8"
      },
      "outputs": [],
      "source": [
        "class CosineSimilarityLoss(torch.nn.Module):\n",
        "    def __init__(self,  loss_fn=torch.nn.MSELoss(), transform_fn=torch.nn.Identity()):\n",
        "        super(CosineSimilarityLoss, self).__init__()\n",
        "        self.loss_fn = loss_fn\n",
        "        self.transform_fn = transform_fn\n",
        "        self.cos_similarity = torch.nn.CosineSimilarity(dim=1)\n",
        "\n",
        "    def forward(self, inputs, labels):\n",
        "        emb_1 = torch.stack([inp[0] for inp in inputs])\n",
        "        emb_2 = torch.stack([inp[1] for inp in inputs])\n",
        "        outputs = self.transform_fn(self.cos_similarity(emb_1, emb_2))\n",
        "        return self.loss_fn(outputs, labels.squeeze())"
      ]
    },
    {
      "cell_type": "code",
      "execution_count": 50,
      "metadata": {
        "colab": {
          "base_uri": "https://localhost:8080/"
        },
        "id": "WPTDlfTR6TFA",
        "outputId": "00cd3054-6e90-48d2-8fa1-b07576fadbe2"
      },
      "outputs": [
        {
          "name": "stderr",
          "output_type": "stream",
          "text": [
            "/usr/local/lib/python3.10/dist-packages/torch/utils/data/dataloader.py:560: UserWarning: This DataLoader will create 4 worker processes in total. Our suggested max number of worker in current system is 2, which is smaller than what this DataLoader is going to create. Please be aware that excessive worker creation might get DataLoader running slow or even freeze, lower the worker number to avoid potential slowness/freeze if necessary.\n",
            "  warnings.warn(_create_warning_msg(\n"
          ]
        }
      ],
      "source": [
        "batch_size = 8\n",
        "train_dataloader = DataLoader(\n",
        "            train_ds,  # The training samples.\n",
        "            num_workers = 4,\n",
        "            batch_size = batch_size, # Use this batch size.\n",
        "            shuffle=True # Select samples randomly for each batch\n",
        "        )\n",
        "\n",
        "validation_dataloader = DataLoader(\n",
        "            val_ds,\n",
        "            num_workers = 4,\n",
        "            batch_size = batch_size # Use the same batch size\n",
        "        )"
      ]
    },
    {
      "cell_type": "code",
      "execution_count": 20,
      "metadata": {
        "id": "9hPtLrVp7YvS"
      },
      "outputs": [],
      "source": [
        "optimizer = AdamW(model.parameters(),\n",
        "                  lr = 1e-6)"
      ]
    },
    {
      "cell_type": "code",
      "execution_count": 51,
      "metadata": {
        "id": "gm27Dn667YEM"
      },
      "outputs": [],
      "source": [
        "# total number of epochs\n",
        "epochs = 100\n",
        "\n",
        "# Total number of training steps is [number of batches] x [number of epochs].\n",
        "total_steps = len(train_dataloader) * epochs\n",
        "\n",
        "scheduler = get_linear_schedule_with_warmup(optimizer,\n",
        "                                            num_warmup_steps = 0,\n",
        "                                            num_training_steps = total_steps)"
      ]
    },
    {
      "cell_type": "code",
      "execution_count": 29,
      "metadata": {
        "id": "7uprXFNC6nIn"
      },
      "outputs": [],
      "source": [
        "def train():\n",
        "  seed_val = 42\n",
        "  criterion = CosineSimilarityLoss()\n",
        "  criterion = criterion.to(device)\n",
        "\n",
        "  random.seed(seed_val)\n",
        "  torch.manual_seed(seed_val)\n",
        "\n",
        "  # We'll store a number of quantities such as training and validation loss,\n",
        "  # validation accuracy, and timings.\n",
        "  training_stats = []\n",
        "\n",
        "  for epoch_i in range(0, epochs):\n",
        "\n",
        "      print('======== Epoch {:} / {:} ========'.format(epoch_i + 1, epochs))\n",
        "      print('Training...')\n",
        "\n",
        "      total_train_loss = 0\n",
        "\n",
        "      model.train()\n",
        "\n",
        "      # For each batch of training data...\n",
        "      for train_data, train_label in tqdm(train_dataloader):\n",
        "\n",
        "          train_data['input_ids'] = train_data['input_ids'].to(device)\n",
        "          train_data['attention_mask'] = train_data['attention_mask'].to(device)\n",
        "\n",
        "          train_data = collate_fn(train_data)\n",
        "          model.zero_grad()\n",
        "\n",
        "          output = [model(feature) for feature in train_data]\n",
        "\n",
        "          loss = criterion(output, train_label.to(device))\n",
        "          total_train_loss += loss.item()\n",
        "\n",
        "          loss.backward()\n",
        "          torch.nn.utils.clip_grad_norm_(model.parameters(), 1.0)\n",
        "          optimizer.step()\n",
        "          scheduler.step()\n",
        "\n",
        "\n",
        "      # Calculate the average loss over all of the batches.\n",
        "      avg_train_loss = total_train_loss / len(train_dataloader)\n",
        "\n",
        "      print(\"Average training loss: {0:.5f}\".format(avg_train_loss))\n",
        "      print(\"Running Validation...\")\n",
        "\n",
        "      model.eval()\n",
        "\n",
        "      total_eval_accuracy = 0\n",
        "      total_eval_loss = 0\n",
        "      nb_eval_steps = 0\n",
        "\n",
        "      # Evaluate data for one epoch\n",
        "      for val_data, val_label in tqdm(validation_dataloader):\n",
        "\n",
        "          val_data['input_ids'] = val_data['input_ids'].to(device)\n",
        "          val_data['attention_mask'] = val_data['attention_mask'].to(device)\n",
        "\n",
        "          val_data = collate_fn(val_data)\n",
        "\n",
        "          with torch.no_grad():\n",
        "              output = [model(feature) for feature in val_data]\n",
        "\n",
        "          loss = criterion(output, val_label.to(device))\n",
        "          total_eval_loss += loss.item()\n",
        "\n",
        "      # Calculate the average loss over all of the batches.\n",
        "      avg_val_loss = total_eval_loss / len(validation_dataloader)\n",
        "\n",
        "      print(\"Validation Loss: {0:.5f}\".format(avg_val_loss))\n",
        "\n",
        "      # Record all statistics from this epoch.\n",
        "      training_stats.append(\n",
        "          {\n",
        "              'epoch': epoch_i + 1,\n",
        "              'train_loss': avg_train_loss,\n",
        "              'valid_loss': avg_val_loss,\n",
        "          }\n",
        "      )\n",
        "\n",
        "  print(\"Training complete!\")\n",
        "\n",
        "  return model, training_stats"
      ]
    },
    {
      "cell_type": "code",
      "execution_count": 30,
      "metadata": {
        "colab": {
          "base_uri": "https://localhost:8080/"
        },
        "id": "uYu2WHhH79Lz",
        "outputId": "b0873ff8-b993-47d1-aeb4-4effb4f618e3"
      },
      "outputs": [
        {
          "name": "stdout",
          "output_type": "stream",
          "text": [
            "======== Epoch 1 / 200 ========\n",
            "Training...\n"
          ]
        },
        {
          "name": "stderr",
          "output_type": "stream",
          "text": [
            "100%|██████████| 2/2 [00:01<00:00,  1.91it/s]\n"
          ]
        },
        {
          "name": "stdout",
          "output_type": "stream",
          "text": [
            "Average training loss: 0.06224\n",
            "Running Validation...\n"
          ]
        },
        {
          "name": "stderr",
          "output_type": "stream",
          "text": [
            "100%|██████████| 1/1 [00:00<00:00,  2.21it/s]\n"
          ]
        },
        {
          "name": "stdout",
          "output_type": "stream",
          "text": [
            "Validation Loss: 0.05217\n",
            "======== Epoch 2 / 200 ========\n",
            "Training...\n"
          ]
        },
        {
          "name": "stderr",
          "output_type": "stream",
          "text": [
            "100%|██████████| 2/2 [00:01<00:00,  1.97it/s]\n"
          ]
        },
        {
          "name": "stdout",
          "output_type": "stream",
          "text": [
            "Average training loss: 0.03895\n",
            "Running Validation...\n"
          ]
        },
        {
          "name": "stderr",
          "output_type": "stream",
          "text": [
            "100%|██████████| 1/1 [00:00<00:00,  2.22it/s]\n"
          ]
        },
        {
          "name": "stdout",
          "output_type": "stream",
          "text": [
            "Validation Loss: 0.05231\n",
            "======== Epoch 3 / 200 ========\n",
            "Training...\n"
          ]
        },
        {
          "name": "stderr",
          "output_type": "stream",
          "text": [
            "100%|██████████| 2/2 [00:00<00:00,  2.35it/s]\n"
          ]
        },
        {
          "name": "stdout",
          "output_type": "stream",
          "text": [
            "Average training loss: 0.05060\n",
            "Running Validation...\n"
          ]
        },
        {
          "name": "stderr",
          "output_type": "stream",
          "text": [
            "100%|██████████| 1/1 [00:00<00:00,  3.32it/s]\n"
          ]
        },
        {
          "name": "stdout",
          "output_type": "stream",
          "text": [
            "Validation Loss: 0.05243\n",
            "======== Epoch 4 / 200 ========\n",
            "Training...\n"
          ]
        },
        {
          "name": "stderr",
          "output_type": "stream",
          "text": [
            "100%|██████████| 2/2 [00:00<00:00,  2.50it/s]\n"
          ]
        },
        {
          "name": "stdout",
          "output_type": "stream",
          "text": [
            "Average training loss: 0.05699\n",
            "Running Validation...\n"
          ]
        },
        {
          "name": "stderr",
          "output_type": "stream",
          "text": [
            "100%|██████████| 1/1 [00:00<00:00,  3.38it/s]\n"
          ]
        },
        {
          "name": "stdout",
          "output_type": "stream",
          "text": [
            "Validation Loss: 0.05265\n",
            "======== Epoch 5 / 200 ========\n",
            "Training...\n"
          ]
        },
        {
          "name": "stderr",
          "output_type": "stream",
          "text": [
            "100%|██████████| 2/2 [00:00<00:00,  2.51it/s]\n"
          ]
        },
        {
          "name": "stdout",
          "output_type": "stream",
          "text": [
            "Average training loss: 0.06177\n",
            "Running Validation...\n"
          ]
        },
        {
          "name": "stderr",
          "output_type": "stream",
          "text": [
            "100%|██████████| 1/1 [00:00<00:00,  3.18it/s]\n"
          ]
        },
        {
          "name": "stdout",
          "output_type": "stream",
          "text": [
            "Validation Loss: 0.05285\n",
            "======== Epoch 6 / 200 ========\n",
            "Training...\n"
          ]
        },
        {
          "name": "stderr",
          "output_type": "stream",
          "text": [
            "100%|██████████| 2/2 [00:00<00:00,  2.51it/s]\n"
          ]
        },
        {
          "name": "stdout",
          "output_type": "stream",
          "text": [
            "Average training loss: 0.04630\n",
            "Running Validation...\n"
          ]
        },
        {
          "name": "stderr",
          "output_type": "stream",
          "text": [
            "100%|██████████| 1/1 [00:00<00:00,  3.42it/s]\n"
          ]
        },
        {
          "name": "stdout",
          "output_type": "stream",
          "text": [
            "Validation Loss: 0.05302\n",
            "======== Epoch 7 / 200 ========\n",
            "Training...\n"
          ]
        },
        {
          "name": "stderr",
          "output_type": "stream",
          "text": [
            "100%|██████████| 2/2 [00:00<00:00,  2.47it/s]\n"
          ]
        },
        {
          "name": "stdout",
          "output_type": "stream",
          "text": [
            "Average training loss: 0.04367\n",
            "Running Validation...\n"
          ]
        },
        {
          "name": "stderr",
          "output_type": "stream",
          "text": [
            "100%|██████████| 1/1 [00:00<00:00,  3.25it/s]\n"
          ]
        },
        {
          "name": "stdout",
          "output_type": "stream",
          "text": [
            "Validation Loss: 0.05328\n",
            "======== Epoch 8 / 200 ========\n",
            "Training...\n"
          ]
        },
        {
          "name": "stderr",
          "output_type": "stream",
          "text": [
            "100%|██████████| 2/2 [00:00<00:00,  2.46it/s]\n"
          ]
        },
        {
          "name": "stdout",
          "output_type": "stream",
          "text": [
            "Average training loss: 0.04674\n",
            "Running Validation...\n"
          ]
        },
        {
          "name": "stderr",
          "output_type": "stream",
          "text": [
            "100%|██████████| 1/1 [00:00<00:00,  3.32it/s]\n"
          ]
        },
        {
          "name": "stdout",
          "output_type": "stream",
          "text": [
            "Validation Loss: 0.05353\n",
            "======== Epoch 9 / 200 ========\n",
            "Training...\n"
          ]
        },
        {
          "name": "stderr",
          "output_type": "stream",
          "text": [
            "100%|██████████| 2/2 [00:00<00:00,  2.48it/s]\n"
          ]
        },
        {
          "name": "stdout",
          "output_type": "stream",
          "text": [
            "Average training loss: 0.03286\n",
            "Running Validation...\n"
          ]
        },
        {
          "name": "stderr",
          "output_type": "stream",
          "text": [
            "100%|██████████| 1/1 [00:00<00:00,  3.15it/s]\n"
          ]
        },
        {
          "name": "stdout",
          "output_type": "stream",
          "text": [
            "Validation Loss: 0.05362\n",
            "======== Epoch 10 / 200 ========\n",
            "Training...\n"
          ]
        },
        {
          "name": "stderr",
          "output_type": "stream",
          "text": [
            "100%|██████████| 2/2 [00:00<00:00,  2.47it/s]\n"
          ]
        },
        {
          "name": "stdout",
          "output_type": "stream",
          "text": [
            "Average training loss: 0.05660\n",
            "Running Validation...\n"
          ]
        },
        {
          "name": "stderr",
          "output_type": "stream",
          "text": [
            "100%|██████████| 1/1 [00:00<00:00,  3.08it/s]\n"
          ]
        },
        {
          "name": "stdout",
          "output_type": "stream",
          "text": [
            "Validation Loss: 0.05366\n",
            "======== Epoch 11 / 200 ========\n",
            "Training...\n"
          ]
        },
        {
          "name": "stderr",
          "output_type": "stream",
          "text": [
            "100%|██████████| 2/2 [00:00<00:00,  2.41it/s]\n"
          ]
        },
        {
          "name": "stdout",
          "output_type": "stream",
          "text": [
            "Average training loss: 0.03538\n",
            "Running Validation...\n"
          ]
        },
        {
          "name": "stderr",
          "output_type": "stream",
          "text": [
            "100%|██████████| 1/1 [00:00<00:00,  2.46it/s]\n"
          ]
        },
        {
          "name": "stdout",
          "output_type": "stream",
          "text": [
            "Validation Loss: 0.05364\n",
            "======== Epoch 12 / 200 ========\n",
            "Training...\n"
          ]
        },
        {
          "name": "stderr",
          "output_type": "stream",
          "text": [
            "100%|██████████| 2/2 [00:01<00:00,  1.98it/s]\n"
          ]
        },
        {
          "name": "stdout",
          "output_type": "stream",
          "text": [
            "Average training loss: 0.04822\n",
            "Running Validation...\n"
          ]
        },
        {
          "name": "stderr",
          "output_type": "stream",
          "text": [
            "100%|██████████| 1/1 [00:00<00:00,  2.24it/s]\n"
          ]
        },
        {
          "name": "stdout",
          "output_type": "stream",
          "text": [
            "Validation Loss: 0.05361\n",
            "======== Epoch 13 / 200 ========\n",
            "Training...\n"
          ]
        },
        {
          "name": "stderr",
          "output_type": "stream",
          "text": [
            "100%|██████████| 2/2 [00:01<00:00,  1.94it/s]\n"
          ]
        },
        {
          "name": "stdout",
          "output_type": "stream",
          "text": [
            "Average training loss: 0.03008\n",
            "Running Validation...\n"
          ]
        },
        {
          "name": "stderr",
          "output_type": "stream",
          "text": [
            "100%|██████████| 1/1 [00:00<00:00,  2.21it/s]\n"
          ]
        },
        {
          "name": "stdout",
          "output_type": "stream",
          "text": [
            "Validation Loss: 0.05355\n",
            "======== Epoch 14 / 200 ========\n",
            "Training...\n"
          ]
        },
        {
          "name": "stderr",
          "output_type": "stream",
          "text": [
            "100%|██████████| 2/2 [00:00<00:00,  2.07it/s]\n"
          ]
        },
        {
          "name": "stdout",
          "output_type": "stream",
          "text": [
            "Average training loss: 0.02563\n",
            "Running Validation...\n"
          ]
        },
        {
          "name": "stderr",
          "output_type": "stream",
          "text": [
            "100%|██████████| 1/1 [00:00<00:00,  3.29it/s]\n"
          ]
        },
        {
          "name": "stdout",
          "output_type": "stream",
          "text": [
            "Validation Loss: 0.05350\n",
            "======== Epoch 15 / 200 ========\n",
            "Training...\n"
          ]
        },
        {
          "name": "stderr",
          "output_type": "stream",
          "text": [
            "100%|██████████| 2/2 [00:00<00:00,  2.44it/s]\n"
          ]
        },
        {
          "name": "stdout",
          "output_type": "stream",
          "text": [
            "Average training loss: 0.03282\n",
            "Running Validation...\n"
          ]
        },
        {
          "name": "stderr",
          "output_type": "stream",
          "text": [
            "100%|██████████| 1/1 [00:00<00:00,  3.13it/s]\n"
          ]
        },
        {
          "name": "stdout",
          "output_type": "stream",
          "text": [
            "Validation Loss: 0.05348\n",
            "======== Epoch 16 / 200 ========\n",
            "Training...\n"
          ]
        },
        {
          "name": "stderr",
          "output_type": "stream",
          "text": [
            "100%|██████████| 2/2 [00:00<00:00,  2.40it/s]\n"
          ]
        },
        {
          "name": "stdout",
          "output_type": "stream",
          "text": [
            "Average training loss: 0.02269\n",
            "Running Validation...\n"
          ]
        },
        {
          "name": "stderr",
          "output_type": "stream",
          "text": [
            "100%|██████████| 1/1 [00:00<00:00,  3.09it/s]\n"
          ]
        },
        {
          "name": "stdout",
          "output_type": "stream",
          "text": [
            "Validation Loss: 0.05349\n",
            "======== Epoch 17 / 200 ========\n",
            "Training...\n"
          ]
        },
        {
          "name": "stderr",
          "output_type": "stream",
          "text": [
            "100%|██████████| 2/2 [00:00<00:00,  2.40it/s]\n"
          ]
        },
        {
          "name": "stdout",
          "output_type": "stream",
          "text": [
            "Average training loss: 0.03600\n",
            "Running Validation...\n"
          ]
        },
        {
          "name": "stderr",
          "output_type": "stream",
          "text": [
            "100%|██████████| 1/1 [00:00<00:00,  3.27it/s]\n"
          ]
        },
        {
          "name": "stdout",
          "output_type": "stream",
          "text": [
            "Validation Loss: 0.05346\n",
            "======== Epoch 18 / 200 ========\n",
            "Training...\n"
          ]
        },
        {
          "name": "stderr",
          "output_type": "stream",
          "text": [
            "100%|██████████| 2/2 [00:00<00:00,  2.45it/s]\n"
          ]
        },
        {
          "name": "stdout",
          "output_type": "stream",
          "text": [
            "Average training loss: 0.02167\n",
            "Running Validation...\n"
          ]
        },
        {
          "name": "stderr",
          "output_type": "stream",
          "text": [
            "100%|██████████| 1/1 [00:00<00:00,  3.13it/s]\n"
          ]
        },
        {
          "name": "stdout",
          "output_type": "stream",
          "text": [
            "Validation Loss: 0.05340\n",
            "======== Epoch 19 / 200 ========\n",
            "Training...\n"
          ]
        },
        {
          "name": "stderr",
          "output_type": "stream",
          "text": [
            "100%|██████████| 2/2 [00:00<00:00,  2.46it/s]\n"
          ]
        },
        {
          "name": "stdout",
          "output_type": "stream",
          "text": [
            "Average training loss: 0.02932\n",
            "Running Validation...\n"
          ]
        },
        {
          "name": "stderr",
          "output_type": "stream",
          "text": [
            "100%|██████████| 1/1 [00:00<00:00,  3.11it/s]\n"
          ]
        },
        {
          "name": "stdout",
          "output_type": "stream",
          "text": [
            "Validation Loss: 0.05341\n",
            "======== Epoch 20 / 200 ========\n",
            "Training...\n"
          ]
        },
        {
          "name": "stderr",
          "output_type": "stream",
          "text": [
            "100%|██████████| 2/2 [00:00<00:00,  2.44it/s]\n"
          ]
        },
        {
          "name": "stdout",
          "output_type": "stream",
          "text": [
            "Average training loss: 0.03074\n",
            "Running Validation...\n"
          ]
        },
        {
          "name": "stderr",
          "output_type": "stream",
          "text": [
            "100%|██████████| 1/1 [00:00<00:00,  3.31it/s]\n"
          ]
        },
        {
          "name": "stdout",
          "output_type": "stream",
          "text": [
            "Validation Loss: 0.05352\n",
            "======== Epoch 21 / 200 ========\n",
            "Training...\n"
          ]
        },
        {
          "name": "stderr",
          "output_type": "stream",
          "text": [
            "100%|██████████| 2/2 [00:00<00:00,  2.47it/s]\n"
          ]
        },
        {
          "name": "stdout",
          "output_type": "stream",
          "text": [
            "Average training loss: 0.03711\n",
            "Running Validation...\n"
          ]
        },
        {
          "name": "stderr",
          "output_type": "stream",
          "text": [
            "100%|██████████| 1/1 [00:00<00:00,  3.22it/s]\n"
          ]
        },
        {
          "name": "stdout",
          "output_type": "stream",
          "text": [
            "Validation Loss: 0.05372\n",
            "======== Epoch 22 / 200 ========\n",
            "Training...\n"
          ]
        },
        {
          "name": "stderr",
          "output_type": "stream",
          "text": [
            "100%|██████████| 2/2 [00:00<00:00,  2.45it/s]\n"
          ]
        },
        {
          "name": "stdout",
          "output_type": "stream",
          "text": [
            "Average training loss: 0.03920\n",
            "Running Validation...\n"
          ]
        },
        {
          "name": "stderr",
          "output_type": "stream",
          "text": [
            "100%|██████████| 1/1 [00:00<00:00,  3.39it/s]\n"
          ]
        },
        {
          "name": "stdout",
          "output_type": "stream",
          "text": [
            "Validation Loss: 0.05392\n",
            "======== Epoch 23 / 200 ========\n",
            "Training...\n"
          ]
        },
        {
          "name": "stderr",
          "output_type": "stream",
          "text": [
            "100%|██████████| 2/2 [00:00<00:00,  2.18it/s]\n"
          ]
        },
        {
          "name": "stdout",
          "output_type": "stream",
          "text": [
            "Average training loss: 0.02761\n",
            "Running Validation...\n"
          ]
        },
        {
          "name": "stderr",
          "output_type": "stream",
          "text": [
            "100%|██████████| 1/1 [00:00<00:00,  2.33it/s]\n"
          ]
        },
        {
          "name": "stdout",
          "output_type": "stream",
          "text": [
            "Validation Loss: 0.05410\n",
            "======== Epoch 24 / 200 ========\n",
            "Training...\n"
          ]
        },
        {
          "name": "stderr",
          "output_type": "stream",
          "text": [
            "100%|██████████| 2/2 [00:00<00:00,  2.06it/s]\n"
          ]
        },
        {
          "name": "stdout",
          "output_type": "stream",
          "text": [
            "Average training loss: 0.03356\n",
            "Running Validation...\n"
          ]
        },
        {
          "name": "stderr",
          "output_type": "stream",
          "text": [
            "100%|██████████| 1/1 [00:00<00:00,  2.26it/s]\n"
          ]
        },
        {
          "name": "stdout",
          "output_type": "stream",
          "text": [
            "Validation Loss: 0.05433\n",
            "======== Epoch 25 / 200 ========\n",
            "Training...\n"
          ]
        },
        {
          "name": "stderr",
          "output_type": "stream",
          "text": [
            "100%|██████████| 2/2 [00:01<00:00,  1.94it/s]\n"
          ]
        },
        {
          "name": "stdout",
          "output_type": "stream",
          "text": [
            "Average training loss: 0.03204\n",
            "Running Validation...\n"
          ]
        },
        {
          "name": "stderr",
          "output_type": "stream",
          "text": [
            "100%|██████████| 1/1 [00:00<00:00,  2.67it/s]\n"
          ]
        },
        {
          "name": "stdout",
          "output_type": "stream",
          "text": [
            "Validation Loss: 0.05451\n",
            "======== Epoch 26 / 200 ========\n",
            "Training...\n"
          ]
        },
        {
          "name": "stderr",
          "output_type": "stream",
          "text": [
            "100%|██████████| 2/2 [00:00<00:00,  2.48it/s]\n"
          ]
        },
        {
          "name": "stdout",
          "output_type": "stream",
          "text": [
            "Average training loss: 0.03217\n",
            "Running Validation...\n"
          ]
        },
        {
          "name": "stderr",
          "output_type": "stream",
          "text": [
            "100%|██████████| 1/1 [00:00<00:00,  3.33it/s]\n"
          ]
        },
        {
          "name": "stdout",
          "output_type": "stream",
          "text": [
            "Validation Loss: 0.05463\n",
            "======== Epoch 27 / 200 ========\n",
            "Training...\n"
          ]
        },
        {
          "name": "stderr",
          "output_type": "stream",
          "text": [
            "100%|██████████| 2/2 [00:00<00:00,  2.41it/s]\n"
          ]
        },
        {
          "name": "stdout",
          "output_type": "stream",
          "text": [
            "Average training loss: 0.03349\n",
            "Running Validation...\n"
          ]
        },
        {
          "name": "stderr",
          "output_type": "stream",
          "text": [
            "100%|██████████| 1/1 [00:00<00:00,  3.33it/s]\n"
          ]
        },
        {
          "name": "stdout",
          "output_type": "stream",
          "text": [
            "Validation Loss: 0.05475\n",
            "======== Epoch 28 / 200 ========\n",
            "Training...\n"
          ]
        },
        {
          "name": "stderr",
          "output_type": "stream",
          "text": [
            "100%|██████████| 2/2 [00:00<00:00,  2.35it/s]\n"
          ]
        },
        {
          "name": "stdout",
          "output_type": "stream",
          "text": [
            "Average training loss: 0.03201\n",
            "Running Validation...\n"
          ]
        },
        {
          "name": "stderr",
          "output_type": "stream",
          "text": [
            "100%|██████████| 1/1 [00:00<00:00,  3.24it/s]\n"
          ]
        },
        {
          "name": "stdout",
          "output_type": "stream",
          "text": [
            "Validation Loss: 0.05491\n",
            "======== Epoch 29 / 200 ========\n",
            "Training...\n"
          ]
        },
        {
          "name": "stderr",
          "output_type": "stream",
          "text": [
            "100%|██████████| 2/2 [00:00<00:00,  2.43it/s]\n"
          ]
        },
        {
          "name": "stdout",
          "output_type": "stream",
          "text": [
            "Average training loss: 0.01733\n",
            "Running Validation...\n"
          ]
        },
        {
          "name": "stderr",
          "output_type": "stream",
          "text": [
            "100%|██████████| 1/1 [00:00<00:00,  3.12it/s]\n"
          ]
        },
        {
          "name": "stdout",
          "output_type": "stream",
          "text": [
            "Validation Loss: 0.05504\n",
            "======== Epoch 30 / 200 ========\n",
            "Training...\n"
          ]
        },
        {
          "name": "stderr",
          "output_type": "stream",
          "text": [
            "100%|██████████| 2/2 [00:00<00:00,  2.45it/s]\n"
          ]
        },
        {
          "name": "stdout",
          "output_type": "stream",
          "text": [
            "Average training loss: 0.02562\n",
            "Running Validation...\n"
          ]
        },
        {
          "name": "stderr",
          "output_type": "stream",
          "text": [
            "100%|██████████| 1/1 [00:00<00:00,  3.18it/s]\n"
          ]
        },
        {
          "name": "stdout",
          "output_type": "stream",
          "text": [
            "Validation Loss: 0.05513\n",
            "======== Epoch 31 / 200 ========\n",
            "Training...\n"
          ]
        },
        {
          "name": "stderr",
          "output_type": "stream",
          "text": [
            "100%|██████████| 2/2 [00:00<00:00,  2.45it/s]\n"
          ]
        },
        {
          "name": "stdout",
          "output_type": "stream",
          "text": [
            "Average training loss: 0.01759\n",
            "Running Validation...\n"
          ]
        },
        {
          "name": "stderr",
          "output_type": "stream",
          "text": [
            "100%|██████████| 1/1 [00:00<00:00,  3.17it/s]\n"
          ]
        },
        {
          "name": "stdout",
          "output_type": "stream",
          "text": [
            "Validation Loss: 0.05523\n",
            "======== Epoch 32 / 200 ========\n",
            "Training...\n"
          ]
        },
        {
          "name": "stderr",
          "output_type": "stream",
          "text": [
            "100%|██████████| 2/2 [00:00<00:00,  2.43it/s]\n"
          ]
        },
        {
          "name": "stdout",
          "output_type": "stream",
          "text": [
            "Average training loss: 0.03569\n",
            "Running Validation...\n"
          ]
        },
        {
          "name": "stderr",
          "output_type": "stream",
          "text": [
            "100%|██████████| 1/1 [00:00<00:00,  3.26it/s]\n"
          ]
        },
        {
          "name": "stdout",
          "output_type": "stream",
          "text": [
            "Validation Loss: 0.05530\n",
            "======== Epoch 33 / 200 ========\n",
            "Training...\n"
          ]
        },
        {
          "name": "stderr",
          "output_type": "stream",
          "text": [
            "100%|██████████| 2/2 [00:00<00:00,  2.43it/s]\n"
          ]
        },
        {
          "name": "stdout",
          "output_type": "stream",
          "text": [
            "Average training loss: 0.02131\n",
            "Running Validation...\n"
          ]
        },
        {
          "name": "stderr",
          "output_type": "stream",
          "text": [
            "100%|██████████| 1/1 [00:00<00:00,  3.27it/s]\n"
          ]
        },
        {
          "name": "stdout",
          "output_type": "stream",
          "text": [
            "Validation Loss: 0.05534\n",
            "======== Epoch 34 / 200 ========\n",
            "Training...\n"
          ]
        },
        {
          "name": "stderr",
          "output_type": "stream",
          "text": [
            "100%|██████████| 2/2 [00:00<00:00,  2.20it/s]\n"
          ]
        },
        {
          "name": "stdout",
          "output_type": "stream",
          "text": [
            "Average training loss: 0.01615\n",
            "Running Validation...\n"
          ]
        },
        {
          "name": "stderr",
          "output_type": "stream",
          "text": [
            "100%|██████████| 1/1 [00:00<00:00,  2.15it/s]\n"
          ]
        },
        {
          "name": "stdout",
          "output_type": "stream",
          "text": [
            "Validation Loss: 0.05532\n",
            "======== Epoch 35 / 200 ========\n",
            "Training...\n"
          ]
        },
        {
          "name": "stderr",
          "output_type": "stream",
          "text": [
            "100%|██████████| 2/2 [00:01<00:00,  1.95it/s]\n"
          ]
        },
        {
          "name": "stdout",
          "output_type": "stream",
          "text": [
            "Average training loss: 0.03126\n",
            "Running Validation...\n"
          ]
        },
        {
          "name": "stderr",
          "output_type": "stream",
          "text": [
            "100%|██████████| 1/1 [00:00<00:00,  2.19it/s]\n"
          ]
        },
        {
          "name": "stdout",
          "output_type": "stream",
          "text": [
            "Validation Loss: 0.05533\n",
            "======== Epoch 36 / 200 ========\n",
            "Training...\n"
          ]
        },
        {
          "name": "stderr",
          "output_type": "stream",
          "text": [
            "100%|██████████| 2/2 [00:01<00:00,  1.94it/s]\n"
          ]
        },
        {
          "name": "stdout",
          "output_type": "stream",
          "text": [
            "Average training loss: 0.02146\n",
            "Running Validation...\n"
          ]
        },
        {
          "name": "stderr",
          "output_type": "stream",
          "text": [
            "100%|██████████| 1/1 [00:00<00:00,  2.33it/s]\n"
          ]
        },
        {
          "name": "stdout",
          "output_type": "stream",
          "text": [
            "Validation Loss: 0.05544\n",
            "======== Epoch 37 / 200 ========\n",
            "Training...\n"
          ]
        },
        {
          "name": "stderr",
          "output_type": "stream",
          "text": [
            "100%|██████████| 2/2 [00:00<00:00,  2.26it/s]\n"
          ]
        },
        {
          "name": "stdout",
          "output_type": "stream",
          "text": [
            "Average training loss: 0.02219\n",
            "Running Validation...\n"
          ]
        },
        {
          "name": "stderr",
          "output_type": "stream",
          "text": [
            "100%|██████████| 1/1 [00:00<00:00,  2.62it/s]\n"
          ]
        },
        {
          "name": "stdout",
          "output_type": "stream",
          "text": [
            "Validation Loss: 0.05560\n",
            "======== Epoch 38 / 200 ========\n",
            "Training...\n"
          ]
        },
        {
          "name": "stderr",
          "output_type": "stream",
          "text": [
            "100%|██████████| 2/2 [00:01<00:00,  2.00it/s]\n"
          ]
        },
        {
          "name": "stdout",
          "output_type": "stream",
          "text": [
            "Average training loss: 0.02799\n",
            "Running Validation...\n"
          ]
        },
        {
          "name": "stderr",
          "output_type": "stream",
          "text": [
            "100%|██████████| 1/1 [00:00<00:00,  2.20it/s]\n"
          ]
        },
        {
          "name": "stdout",
          "output_type": "stream",
          "text": [
            "Validation Loss: 0.05580\n",
            "======== Epoch 39 / 200 ========\n",
            "Training...\n"
          ]
        },
        {
          "name": "stderr",
          "output_type": "stream",
          "text": [
            "100%|██████████| 2/2 [00:01<00:00,  1.93it/s]\n"
          ]
        },
        {
          "name": "stdout",
          "output_type": "stream",
          "text": [
            "Average training loss: 0.01808\n",
            "Running Validation...\n"
          ]
        },
        {
          "name": "stderr",
          "output_type": "stream",
          "text": [
            "100%|██████████| 1/1 [00:00<00:00,  2.16it/s]\n"
          ]
        },
        {
          "name": "stdout",
          "output_type": "stream",
          "text": [
            "Validation Loss: 0.05601\n",
            "======== Epoch 40 / 200 ========\n",
            "Training...\n"
          ]
        },
        {
          "name": "stderr",
          "output_type": "stream",
          "text": [
            "100%|██████████| 2/2 [00:00<00:00,  2.03it/s]\n"
          ]
        },
        {
          "name": "stdout",
          "output_type": "stream",
          "text": [
            "Average training loss: 0.02552\n",
            "Running Validation...\n"
          ]
        },
        {
          "name": "stderr",
          "output_type": "stream",
          "text": [
            "100%|██████████| 1/1 [00:00<00:00,  2.98it/s]\n"
          ]
        },
        {
          "name": "stdout",
          "output_type": "stream",
          "text": [
            "Validation Loss: 0.05617\n",
            "======== Epoch 41 / 200 ========\n",
            "Training...\n"
          ]
        },
        {
          "name": "stderr",
          "output_type": "stream",
          "text": [
            "100%|██████████| 2/2 [00:00<00:00,  2.42it/s]\n"
          ]
        },
        {
          "name": "stdout",
          "output_type": "stream",
          "text": [
            "Average training loss: 0.02286\n",
            "Running Validation...\n"
          ]
        },
        {
          "name": "stderr",
          "output_type": "stream",
          "text": [
            "100%|██████████| 1/1 [00:00<00:00,  3.32it/s]\n"
          ]
        },
        {
          "name": "stdout",
          "output_type": "stream",
          "text": [
            "Validation Loss: 0.05637\n",
            "======== Epoch 42 / 200 ========\n",
            "Training...\n"
          ]
        },
        {
          "name": "stderr",
          "output_type": "stream",
          "text": [
            "100%|██████████| 2/2 [00:00<00:00,  2.43it/s]\n"
          ]
        },
        {
          "name": "stdout",
          "output_type": "stream",
          "text": [
            "Average training loss: 0.02390\n",
            "Running Validation...\n"
          ]
        },
        {
          "name": "stderr",
          "output_type": "stream",
          "text": [
            "100%|██████████| 1/1 [00:00<00:00,  3.16it/s]\n"
          ]
        },
        {
          "name": "stdout",
          "output_type": "stream",
          "text": [
            "Validation Loss: 0.05656\n",
            "======== Epoch 43 / 200 ========\n",
            "Training...\n"
          ]
        },
        {
          "name": "stderr",
          "output_type": "stream",
          "text": [
            "100%|██████████| 2/2 [00:00<00:00,  2.39it/s]\n"
          ]
        },
        {
          "name": "stdout",
          "output_type": "stream",
          "text": [
            "Average training loss: 0.01814\n",
            "Running Validation...\n"
          ]
        },
        {
          "name": "stderr",
          "output_type": "stream",
          "text": [
            "100%|██████████| 1/1 [00:00<00:00,  3.15it/s]\n"
          ]
        },
        {
          "name": "stdout",
          "output_type": "stream",
          "text": [
            "Validation Loss: 0.05669\n",
            "======== Epoch 44 / 200 ========\n",
            "Training...\n"
          ]
        },
        {
          "name": "stderr",
          "output_type": "stream",
          "text": [
            "100%|██████████| 2/2 [00:00<00:00,  2.47it/s]\n"
          ]
        },
        {
          "name": "stdout",
          "output_type": "stream",
          "text": [
            "Average training loss: 0.01845\n",
            "Running Validation...\n"
          ]
        },
        {
          "name": "stderr",
          "output_type": "stream",
          "text": [
            "100%|██████████| 1/1 [00:00<00:00,  2.89it/s]\n"
          ]
        },
        {
          "name": "stdout",
          "output_type": "stream",
          "text": [
            "Validation Loss: 0.05680\n",
            "======== Epoch 45 / 200 ========\n",
            "Training...\n"
          ]
        },
        {
          "name": "stderr",
          "output_type": "stream",
          "text": [
            "100%|██████████| 2/2 [00:01<00:00,  1.97it/s]\n"
          ]
        },
        {
          "name": "stdout",
          "output_type": "stream",
          "text": [
            "Average training loss: 0.01872\n",
            "Running Validation...\n"
          ]
        },
        {
          "name": "stderr",
          "output_type": "stream",
          "text": [
            "100%|██████████| 1/1 [00:00<00:00,  2.18it/s]\n"
          ]
        },
        {
          "name": "stdout",
          "output_type": "stream",
          "text": [
            "Validation Loss: 0.05685\n",
            "======== Epoch 46 / 200 ========\n",
            "Training...\n"
          ]
        },
        {
          "name": "stderr",
          "output_type": "stream",
          "text": [
            "100%|██████████| 2/2 [00:01<00:00,  1.99it/s]\n"
          ]
        },
        {
          "name": "stdout",
          "output_type": "stream",
          "text": [
            "Average training loss: 0.01573\n",
            "Running Validation...\n"
          ]
        },
        {
          "name": "stderr",
          "output_type": "stream",
          "text": [
            "100%|██████████| 1/1 [00:00<00:00,  2.29it/s]\n"
          ]
        },
        {
          "name": "stdout",
          "output_type": "stream",
          "text": [
            "Validation Loss: 0.05685\n",
            "======== Epoch 47 / 200 ========\n",
            "Training...\n"
          ]
        },
        {
          "name": "stderr",
          "output_type": "stream",
          "text": [
            "100%|██████████| 2/2 [00:00<00:00,  2.04it/s]\n"
          ]
        },
        {
          "name": "stdout",
          "output_type": "stream",
          "text": [
            "Average training loss: 0.03087\n",
            "Running Validation...\n"
          ]
        },
        {
          "name": "stderr",
          "output_type": "stream",
          "text": [
            "100%|██████████| 1/1 [00:00<00:00,  3.23it/s]\n"
          ]
        },
        {
          "name": "stdout",
          "output_type": "stream",
          "text": [
            "Validation Loss: 0.05685\n",
            "======== Epoch 48 / 200 ========\n",
            "Training...\n"
          ]
        },
        {
          "name": "stderr",
          "output_type": "stream",
          "text": [
            "100%|██████████| 2/2 [00:00<00:00,  2.39it/s]\n"
          ]
        },
        {
          "name": "stdout",
          "output_type": "stream",
          "text": [
            "Average training loss: 0.01442\n",
            "Running Validation...\n"
          ]
        },
        {
          "name": "stderr",
          "output_type": "stream",
          "text": [
            "100%|██████████| 1/1 [00:00<00:00,  3.15it/s]\n"
          ]
        },
        {
          "name": "stdout",
          "output_type": "stream",
          "text": [
            "Validation Loss: 0.05687\n",
            "======== Epoch 49 / 200 ========\n",
            "Training...\n"
          ]
        },
        {
          "name": "stderr",
          "output_type": "stream",
          "text": [
            "100%|██████████| 2/2 [00:00<00:00,  2.45it/s]\n"
          ]
        },
        {
          "name": "stdout",
          "output_type": "stream",
          "text": [
            "Average training loss: 0.01436\n",
            "Running Validation...\n"
          ]
        },
        {
          "name": "stderr",
          "output_type": "stream",
          "text": [
            "100%|██████████| 1/1 [00:00<00:00,  3.08it/s]\n"
          ]
        },
        {
          "name": "stdout",
          "output_type": "stream",
          "text": [
            "Validation Loss: 0.05689\n",
            "======== Epoch 50 / 200 ========\n",
            "Training...\n"
          ]
        },
        {
          "name": "stderr",
          "output_type": "stream",
          "text": [
            "100%|██████████| 2/2 [00:00<00:00,  2.43it/s]\n"
          ]
        },
        {
          "name": "stdout",
          "output_type": "stream",
          "text": [
            "Average training loss: 0.01010\n",
            "Running Validation...\n"
          ]
        },
        {
          "name": "stderr",
          "output_type": "stream",
          "text": [
            "100%|██████████| 1/1 [00:00<00:00,  3.21it/s]\n"
          ]
        },
        {
          "name": "stdout",
          "output_type": "stream",
          "text": [
            "Validation Loss: 0.05693\n",
            "======== Epoch 51 / 200 ========\n",
            "Training...\n"
          ]
        },
        {
          "name": "stderr",
          "output_type": "stream",
          "text": [
            "100%|██████████| 2/2 [00:00<00:00,  2.46it/s]\n"
          ]
        },
        {
          "name": "stdout",
          "output_type": "stream",
          "text": [
            "Average training loss: 0.01691\n",
            "Running Validation...\n"
          ]
        },
        {
          "name": "stderr",
          "output_type": "stream",
          "text": [
            "100%|██████████| 1/1 [00:00<00:00,  3.08it/s]\n"
          ]
        },
        {
          "name": "stdout",
          "output_type": "stream",
          "text": [
            "Validation Loss: 0.05699\n",
            "======== Epoch 52 / 200 ========\n",
            "Training...\n"
          ]
        },
        {
          "name": "stderr",
          "output_type": "stream",
          "text": [
            "100%|██████████| 2/2 [00:00<00:00,  2.43it/s]\n"
          ]
        },
        {
          "name": "stdout",
          "output_type": "stream",
          "text": [
            "Average training loss: 0.01152\n",
            "Running Validation...\n"
          ]
        },
        {
          "name": "stderr",
          "output_type": "stream",
          "text": [
            "100%|██████████| 1/1 [00:00<00:00,  3.30it/s]\n"
          ]
        },
        {
          "name": "stdout",
          "output_type": "stream",
          "text": [
            "Validation Loss: 0.05705\n",
            "======== Epoch 53 / 200 ========\n",
            "Training...\n"
          ]
        },
        {
          "name": "stderr",
          "output_type": "stream",
          "text": [
            "100%|██████████| 2/2 [00:00<00:00,  2.43it/s]\n"
          ]
        },
        {
          "name": "stdout",
          "output_type": "stream",
          "text": [
            "Average training loss: 0.02089\n",
            "Running Validation...\n"
          ]
        },
        {
          "name": "stderr",
          "output_type": "stream",
          "text": [
            "100%|██████████| 1/1 [00:00<00:00,  3.36it/s]\n"
          ]
        },
        {
          "name": "stdout",
          "output_type": "stream",
          "text": [
            "Validation Loss: 0.05710\n",
            "======== Epoch 54 / 200 ========\n",
            "Training...\n"
          ]
        },
        {
          "name": "stderr",
          "output_type": "stream",
          "text": [
            "100%|██████████| 2/2 [00:00<00:00,  2.43it/s]\n"
          ]
        },
        {
          "name": "stdout",
          "output_type": "stream",
          "text": [
            "Average training loss: 0.01104\n",
            "Running Validation...\n"
          ]
        },
        {
          "name": "stderr",
          "output_type": "stream",
          "text": [
            "100%|██████████| 1/1 [00:00<00:00,  3.27it/s]\n"
          ]
        },
        {
          "name": "stdout",
          "output_type": "stream",
          "text": [
            "Validation Loss: 0.05710\n",
            "======== Epoch 55 / 200 ========\n",
            "Training...\n"
          ]
        },
        {
          "name": "stderr",
          "output_type": "stream",
          "text": [
            "100%|██████████| 2/2 [00:00<00:00,  2.38it/s]\n"
          ]
        },
        {
          "name": "stdout",
          "output_type": "stream",
          "text": [
            "Average training loss: 0.01431\n",
            "Running Validation...\n"
          ]
        },
        {
          "name": "stderr",
          "output_type": "stream",
          "text": [
            "100%|██████████| 1/1 [00:00<00:00,  3.29it/s]\n"
          ]
        },
        {
          "name": "stdout",
          "output_type": "stream",
          "text": [
            "Validation Loss: 0.05707\n",
            "======== Epoch 56 / 200 ========\n",
            "Training...\n"
          ]
        },
        {
          "name": "stderr",
          "output_type": "stream",
          "text": [
            "100%|██████████| 2/2 [00:00<00:00,  2.12it/s]\n"
          ]
        },
        {
          "name": "stdout",
          "output_type": "stream",
          "text": [
            "Average training loss: 0.01351\n",
            "Running Validation...\n"
          ]
        },
        {
          "name": "stderr",
          "output_type": "stream",
          "text": [
            "100%|██████████| 1/1 [00:00<00:00,  2.28it/s]\n"
          ]
        },
        {
          "name": "stdout",
          "output_type": "stream",
          "text": [
            "Validation Loss: 0.05704\n",
            "======== Epoch 57 / 200 ========\n",
            "Training...\n"
          ]
        },
        {
          "name": "stderr",
          "output_type": "stream",
          "text": [
            "100%|██████████| 2/2 [00:01<00:00,  1.99it/s]\n"
          ]
        },
        {
          "name": "stdout",
          "output_type": "stream",
          "text": [
            "Average training loss: 0.00898\n",
            "Running Validation...\n"
          ]
        },
        {
          "name": "stderr",
          "output_type": "stream",
          "text": [
            "100%|██████████| 1/1 [00:00<00:00,  2.24it/s]\n"
          ]
        },
        {
          "name": "stdout",
          "output_type": "stream",
          "text": [
            "Validation Loss: 0.05699\n",
            "======== Epoch 58 / 200 ========\n",
            "Training...\n"
          ]
        },
        {
          "name": "stderr",
          "output_type": "stream",
          "text": [
            "100%|██████████| 2/2 [00:01<00:00,  1.96it/s]\n"
          ]
        },
        {
          "name": "stdout",
          "output_type": "stream",
          "text": [
            "Average training loss: 0.01205\n",
            "Running Validation...\n"
          ]
        },
        {
          "name": "stderr",
          "output_type": "stream",
          "text": [
            "100%|██████████| 1/1 [00:00<00:00,  2.43it/s]\n"
          ]
        },
        {
          "name": "stdout",
          "output_type": "stream",
          "text": [
            "Validation Loss: 0.05695\n",
            "======== Epoch 59 / 200 ========\n",
            "Training...\n"
          ]
        },
        {
          "name": "stderr",
          "output_type": "stream",
          "text": [
            "100%|██████████| 2/2 [00:00<00:00,  2.42it/s]\n"
          ]
        },
        {
          "name": "stdout",
          "output_type": "stream",
          "text": [
            "Average training loss: 0.01521\n",
            "Running Validation...\n"
          ]
        },
        {
          "name": "stderr",
          "output_type": "stream",
          "text": [
            "100%|██████████| 1/1 [00:00<00:00,  3.15it/s]\n"
          ]
        },
        {
          "name": "stdout",
          "output_type": "stream",
          "text": [
            "Validation Loss: 0.05695\n",
            "======== Epoch 60 / 200 ========\n",
            "Training...\n"
          ]
        },
        {
          "name": "stderr",
          "output_type": "stream",
          "text": [
            "100%|██████████| 2/2 [00:00<00:00,  2.35it/s]\n"
          ]
        },
        {
          "name": "stdout",
          "output_type": "stream",
          "text": [
            "Average training loss: 0.01410\n",
            "Running Validation...\n"
          ]
        },
        {
          "name": "stderr",
          "output_type": "stream",
          "text": [
            "100%|██████████| 1/1 [00:00<00:00,  3.18it/s]\n"
          ]
        },
        {
          "name": "stdout",
          "output_type": "stream",
          "text": [
            "Validation Loss: 0.05699\n",
            "======== Epoch 61 / 200 ========\n",
            "Training...\n"
          ]
        },
        {
          "name": "stderr",
          "output_type": "stream",
          "text": [
            "100%|██████████| 2/2 [00:00<00:00,  2.38it/s]\n"
          ]
        },
        {
          "name": "stdout",
          "output_type": "stream",
          "text": [
            "Average training loss: 0.00899\n",
            "Running Validation...\n"
          ]
        },
        {
          "name": "stderr",
          "output_type": "stream",
          "text": [
            "100%|██████████| 1/1 [00:00<00:00,  3.26it/s]\n"
          ]
        },
        {
          "name": "stdout",
          "output_type": "stream",
          "text": [
            "Validation Loss: 0.05702\n",
            "======== Epoch 62 / 200 ========\n",
            "Training...\n"
          ]
        },
        {
          "name": "stderr",
          "output_type": "stream",
          "text": [
            "100%|██████████| 2/2 [00:00<00:00,  2.39it/s]\n"
          ]
        },
        {
          "name": "stdout",
          "output_type": "stream",
          "text": [
            "Average training loss: 0.01977\n",
            "Running Validation...\n"
          ]
        },
        {
          "name": "stderr",
          "output_type": "stream",
          "text": [
            "100%|██████████| 1/1 [00:00<00:00,  3.11it/s]\n"
          ]
        },
        {
          "name": "stdout",
          "output_type": "stream",
          "text": [
            "Validation Loss: 0.05707\n",
            "======== Epoch 63 / 200 ========\n",
            "Training...\n"
          ]
        },
        {
          "name": "stderr",
          "output_type": "stream",
          "text": [
            "100%|██████████| 2/2 [00:00<00:00,  2.41it/s]\n"
          ]
        },
        {
          "name": "stdout",
          "output_type": "stream",
          "text": [
            "Average training loss: 0.01985\n",
            "Running Validation...\n"
          ]
        },
        {
          "name": "stderr",
          "output_type": "stream",
          "text": [
            "100%|██████████| 1/1 [00:00<00:00,  3.12it/s]\n"
          ]
        },
        {
          "name": "stdout",
          "output_type": "stream",
          "text": [
            "Validation Loss: 0.05712\n",
            "======== Epoch 64 / 200 ========\n",
            "Training...\n"
          ]
        },
        {
          "name": "stderr",
          "output_type": "stream",
          "text": [
            "100%|██████████| 2/2 [00:00<00:00,  2.32it/s]\n"
          ]
        },
        {
          "name": "stdout",
          "output_type": "stream",
          "text": [
            "Average training loss: 0.01380\n",
            "Running Validation...\n"
          ]
        },
        {
          "name": "stderr",
          "output_type": "stream",
          "text": [
            "100%|██████████| 1/1 [00:00<00:00,  3.18it/s]\n"
          ]
        },
        {
          "name": "stdout",
          "output_type": "stream",
          "text": [
            "Validation Loss: 0.05716\n",
            "======== Epoch 65 / 200 ========\n",
            "Training...\n"
          ]
        },
        {
          "name": "stderr",
          "output_type": "stream",
          "text": [
            "100%|██████████| 2/2 [00:00<00:00,  2.42it/s]\n"
          ]
        },
        {
          "name": "stdout",
          "output_type": "stream",
          "text": [
            "Average training loss: 0.00991\n",
            "Running Validation...\n"
          ]
        },
        {
          "name": "stderr",
          "output_type": "stream",
          "text": [
            "100%|██████████| 1/1 [00:00<00:00,  3.03it/s]\n"
          ]
        },
        {
          "name": "stdout",
          "output_type": "stream",
          "text": [
            "Validation Loss: 0.05717\n",
            "======== Epoch 66 / 200 ========\n",
            "Training...\n"
          ]
        },
        {
          "name": "stderr",
          "output_type": "stream",
          "text": [
            "100%|██████████| 2/2 [00:00<00:00,  2.39it/s]\n"
          ]
        },
        {
          "name": "stdout",
          "output_type": "stream",
          "text": [
            "Average training loss: 0.01770\n",
            "Running Validation...\n"
          ]
        },
        {
          "name": "stderr",
          "output_type": "stream",
          "text": [
            "100%|██████████| 1/1 [00:00<00:00,  3.27it/s]\n"
          ]
        },
        {
          "name": "stdout",
          "output_type": "stream",
          "text": [
            "Validation Loss: 0.05719\n",
            "======== Epoch 67 / 200 ========\n",
            "Training...\n"
          ]
        },
        {
          "name": "stderr",
          "output_type": "stream",
          "text": [
            "100%|██████████| 2/2 [00:00<00:00,  2.19it/s]\n"
          ]
        },
        {
          "name": "stdout",
          "output_type": "stream",
          "text": [
            "Average training loss: 0.01270\n",
            "Running Validation...\n"
          ]
        },
        {
          "name": "stderr",
          "output_type": "stream",
          "text": [
            "100%|██████████| 1/1 [00:00<00:00,  2.02it/s]\n"
          ]
        },
        {
          "name": "stdout",
          "output_type": "stream",
          "text": [
            "Validation Loss: 0.05722\n",
            "======== Epoch 68 / 200 ========\n",
            "Training...\n"
          ]
        },
        {
          "name": "stderr",
          "output_type": "stream",
          "text": [
            "100%|██████████| 2/2 [00:01<00:00,  1.96it/s]\n"
          ]
        },
        {
          "name": "stdout",
          "output_type": "stream",
          "text": [
            "Average training loss: 0.01204\n",
            "Running Validation...\n"
          ]
        },
        {
          "name": "stderr",
          "output_type": "stream",
          "text": [
            "100%|██████████| 1/1 [00:00<00:00,  2.20it/s]\n"
          ]
        },
        {
          "name": "stdout",
          "output_type": "stream",
          "text": [
            "Validation Loss: 0.05726\n",
            "======== Epoch 69 / 200 ========\n",
            "Training...\n"
          ]
        },
        {
          "name": "stderr",
          "output_type": "stream",
          "text": [
            "100%|██████████| 2/2 [00:01<00:00,  1.94it/s]\n"
          ]
        },
        {
          "name": "stdout",
          "output_type": "stream",
          "text": [
            "Average training loss: 0.01477\n",
            "Running Validation...\n"
          ]
        },
        {
          "name": "stderr",
          "output_type": "stream",
          "text": [
            "100%|██████████| 1/1 [00:00<00:00,  2.20it/s]\n"
          ]
        },
        {
          "name": "stdout",
          "output_type": "stream",
          "text": [
            "Validation Loss: 0.05732\n",
            "======== Epoch 70 / 200 ========\n",
            "Training...\n"
          ]
        },
        {
          "name": "stderr",
          "output_type": "stream",
          "text": [
            "100%|██████████| 2/2 [00:00<00:00,  2.37it/s]\n"
          ]
        },
        {
          "name": "stdout",
          "output_type": "stream",
          "text": [
            "Average training loss: 0.01374\n",
            "Running Validation...\n"
          ]
        },
        {
          "name": "stderr",
          "output_type": "stream",
          "text": [
            "100%|██████████| 1/1 [00:00<00:00,  3.28it/s]\n"
          ]
        },
        {
          "name": "stdout",
          "output_type": "stream",
          "text": [
            "Validation Loss: 0.05737\n",
            "======== Epoch 71 / 200 ========\n",
            "Training...\n"
          ]
        },
        {
          "name": "stderr",
          "output_type": "stream",
          "text": [
            "100%|██████████| 2/2 [00:00<00:00,  2.40it/s]\n"
          ]
        },
        {
          "name": "stdout",
          "output_type": "stream",
          "text": [
            "Average training loss: 0.01441\n",
            "Running Validation...\n"
          ]
        },
        {
          "name": "stderr",
          "output_type": "stream",
          "text": [
            "100%|██████████| 1/1 [00:00<00:00,  3.19it/s]\n"
          ]
        },
        {
          "name": "stdout",
          "output_type": "stream",
          "text": [
            "Validation Loss: 0.05739\n",
            "======== Epoch 72 / 200 ========\n",
            "Training...\n"
          ]
        },
        {
          "name": "stderr",
          "output_type": "stream",
          "text": [
            "100%|██████████| 2/2 [00:00<00:00,  2.36it/s]\n"
          ]
        },
        {
          "name": "stdout",
          "output_type": "stream",
          "text": [
            "Average training loss: 0.00844\n",
            "Running Validation...\n"
          ]
        },
        {
          "name": "stderr",
          "output_type": "stream",
          "text": [
            "100%|██████████| 1/1 [00:00<00:00,  3.16it/s]\n"
          ]
        },
        {
          "name": "stdout",
          "output_type": "stream",
          "text": [
            "Validation Loss: 0.05742\n",
            "======== Epoch 73 / 200 ========\n",
            "Training...\n"
          ]
        },
        {
          "name": "stderr",
          "output_type": "stream",
          "text": [
            "100%|██████████| 2/2 [00:00<00:00,  2.36it/s]\n"
          ]
        },
        {
          "name": "stdout",
          "output_type": "stream",
          "text": [
            "Average training loss: 0.00983\n",
            "Running Validation...\n"
          ]
        },
        {
          "name": "stderr",
          "output_type": "stream",
          "text": [
            "100%|██████████| 1/1 [00:00<00:00,  3.09it/s]\n"
          ]
        },
        {
          "name": "stdout",
          "output_type": "stream",
          "text": [
            "Validation Loss: 0.05741\n",
            "======== Epoch 74 / 200 ========\n",
            "Training...\n"
          ]
        },
        {
          "name": "stderr",
          "output_type": "stream",
          "text": [
            "100%|██████████| 2/2 [00:00<00:00,  2.33it/s]\n"
          ]
        },
        {
          "name": "stdout",
          "output_type": "stream",
          "text": [
            "Average training loss: 0.01983\n",
            "Running Validation...\n"
          ]
        },
        {
          "name": "stderr",
          "output_type": "stream",
          "text": [
            "100%|██████████| 1/1 [00:00<00:00,  3.16it/s]\n"
          ]
        },
        {
          "name": "stdout",
          "output_type": "stream",
          "text": [
            "Validation Loss: 0.05740\n",
            "======== Epoch 75 / 200 ========\n",
            "Training...\n"
          ]
        },
        {
          "name": "stderr",
          "output_type": "stream",
          "text": [
            "100%|██████████| 2/2 [00:00<00:00,  2.34it/s]\n"
          ]
        },
        {
          "name": "stdout",
          "output_type": "stream",
          "text": [
            "Average training loss: 0.01270\n",
            "Running Validation...\n"
          ]
        },
        {
          "name": "stderr",
          "output_type": "stream",
          "text": [
            "100%|██████████| 1/1 [00:00<00:00,  3.19it/s]\n"
          ]
        },
        {
          "name": "stdout",
          "output_type": "stream",
          "text": [
            "Validation Loss: 0.05743\n",
            "======== Epoch 76 / 200 ========\n",
            "Training...\n"
          ]
        },
        {
          "name": "stderr",
          "output_type": "stream",
          "text": [
            "100%|██████████| 2/2 [00:00<00:00,  2.29it/s]\n"
          ]
        },
        {
          "name": "stdout",
          "output_type": "stream",
          "text": [
            "Average training loss: 0.01539\n",
            "Running Validation...\n"
          ]
        },
        {
          "name": "stderr",
          "output_type": "stream",
          "text": [
            "100%|██████████| 1/1 [00:00<00:00,  3.25it/s]\n"
          ]
        },
        {
          "name": "stdout",
          "output_type": "stream",
          "text": [
            "Validation Loss: 0.05745\n",
            "======== Epoch 77 / 200 ========\n",
            "Training...\n"
          ]
        },
        {
          "name": "stderr",
          "output_type": "stream",
          "text": [
            "100%|██████████| 2/2 [00:00<00:00,  2.37it/s]\n"
          ]
        },
        {
          "name": "stdout",
          "output_type": "stream",
          "text": [
            "Average training loss: 0.01557\n",
            "Running Validation...\n"
          ]
        },
        {
          "name": "stderr",
          "output_type": "stream",
          "text": [
            "100%|██████████| 1/1 [00:00<00:00,  3.27it/s]\n"
          ]
        },
        {
          "name": "stdout",
          "output_type": "stream",
          "text": [
            "Validation Loss: 0.05749\n",
            "======== Epoch 78 / 200 ========\n",
            "Training...\n"
          ]
        },
        {
          "name": "stderr",
          "output_type": "stream",
          "text": [
            "100%|██████████| 2/2 [00:00<00:00,  2.19it/s]\n"
          ]
        },
        {
          "name": "stdout",
          "output_type": "stream",
          "text": [
            "Average training loss: 0.01017\n",
            "Running Validation...\n"
          ]
        },
        {
          "name": "stderr",
          "output_type": "stream",
          "text": [
            "100%|██████████| 1/1 [00:00<00:00,  1.97it/s]\n"
          ]
        },
        {
          "name": "stdout",
          "output_type": "stream",
          "text": [
            "Validation Loss: 0.05757\n",
            "======== Epoch 79 / 200 ========\n",
            "Training...\n"
          ]
        },
        {
          "name": "stderr",
          "output_type": "stream",
          "text": [
            "100%|██████████| 2/2 [00:01<00:00,  1.93it/s]\n"
          ]
        },
        {
          "name": "stdout",
          "output_type": "stream",
          "text": [
            "Average training loss: 0.01709\n",
            "Running Validation...\n"
          ]
        },
        {
          "name": "stderr",
          "output_type": "stream",
          "text": [
            "100%|██████████| 1/1 [00:00<00:00,  2.06it/s]\n"
          ]
        },
        {
          "name": "stdout",
          "output_type": "stream",
          "text": [
            "Validation Loss: 0.05764\n",
            "======== Epoch 80 / 200 ========\n",
            "Training...\n"
          ]
        },
        {
          "name": "stderr",
          "output_type": "stream",
          "text": [
            "100%|██████████| 2/2 [00:01<00:00,  1.87it/s]\n"
          ]
        },
        {
          "name": "stdout",
          "output_type": "stream",
          "text": [
            "Average training loss: 0.01217\n",
            "Running Validation...\n"
          ]
        },
        {
          "name": "stderr",
          "output_type": "stream",
          "text": [
            "100%|██████████| 1/1 [00:00<00:00,  2.37it/s]\n"
          ]
        },
        {
          "name": "stdout",
          "output_type": "stream",
          "text": [
            "Validation Loss: 0.05768\n",
            "======== Epoch 81 / 200 ========\n",
            "Training...\n"
          ]
        },
        {
          "name": "stderr",
          "output_type": "stream",
          "text": [
            "100%|██████████| 2/2 [00:00<00:00,  2.35it/s]\n"
          ]
        },
        {
          "name": "stdout",
          "output_type": "stream",
          "text": [
            "Average training loss: 0.01147\n",
            "Running Validation...\n"
          ]
        },
        {
          "name": "stderr",
          "output_type": "stream",
          "text": [
            "100%|██████████| 1/1 [00:00<00:00,  3.06it/s]\n"
          ]
        },
        {
          "name": "stdout",
          "output_type": "stream",
          "text": [
            "Validation Loss: 0.05774\n",
            "======== Epoch 82 / 200 ========\n",
            "Training...\n"
          ]
        },
        {
          "name": "stderr",
          "output_type": "stream",
          "text": [
            "100%|██████████| 2/2 [00:00<00:00,  2.35it/s]\n"
          ]
        },
        {
          "name": "stdout",
          "output_type": "stream",
          "text": [
            "Average training loss: 0.01098\n",
            "Running Validation...\n"
          ]
        },
        {
          "name": "stderr",
          "output_type": "stream",
          "text": [
            "100%|██████████| 1/1 [00:00<00:00,  3.18it/s]\n"
          ]
        },
        {
          "name": "stdout",
          "output_type": "stream",
          "text": [
            "Validation Loss: 0.05785\n",
            "======== Epoch 83 / 200 ========\n",
            "Training...\n"
          ]
        },
        {
          "name": "stderr",
          "output_type": "stream",
          "text": [
            "100%|██████████| 2/2 [00:00<00:00,  2.38it/s]\n"
          ]
        },
        {
          "name": "stdout",
          "output_type": "stream",
          "text": [
            "Average training loss: 0.01313\n",
            "Running Validation...\n"
          ]
        },
        {
          "name": "stderr",
          "output_type": "stream",
          "text": [
            "100%|██████████| 1/1 [00:00<00:00,  3.22it/s]\n"
          ]
        },
        {
          "name": "stdout",
          "output_type": "stream",
          "text": [
            "Validation Loss: 0.05792\n",
            "======== Epoch 84 / 200 ========\n",
            "Training...\n"
          ]
        },
        {
          "name": "stderr",
          "output_type": "stream",
          "text": [
            "100%|██████████| 2/2 [00:00<00:00,  2.31it/s]\n"
          ]
        },
        {
          "name": "stdout",
          "output_type": "stream",
          "text": [
            "Average training loss: 0.00943\n",
            "Running Validation...\n"
          ]
        },
        {
          "name": "stderr",
          "output_type": "stream",
          "text": [
            "100%|██████████| 1/1 [00:00<00:00,  3.12it/s]\n"
          ]
        },
        {
          "name": "stdout",
          "output_type": "stream",
          "text": [
            "Validation Loss: 0.05800\n",
            "======== Epoch 85 / 200 ========\n",
            "Training...\n"
          ]
        },
        {
          "name": "stderr",
          "output_type": "stream",
          "text": [
            "100%|██████████| 2/2 [00:00<00:00,  2.38it/s]\n"
          ]
        },
        {
          "name": "stdout",
          "output_type": "stream",
          "text": [
            "Average training loss: 0.00506\n",
            "Running Validation...\n"
          ]
        },
        {
          "name": "stderr",
          "output_type": "stream",
          "text": [
            "100%|██████████| 1/1 [00:00<00:00,  3.21it/s]\n"
          ]
        },
        {
          "name": "stdout",
          "output_type": "stream",
          "text": [
            "Validation Loss: 0.05811\n",
            "======== Epoch 86 / 200 ========\n",
            "Training...\n"
          ]
        },
        {
          "name": "stderr",
          "output_type": "stream",
          "text": [
            "100%|██████████| 2/2 [00:00<00:00,  2.38it/s]\n"
          ]
        },
        {
          "name": "stdout",
          "output_type": "stream",
          "text": [
            "Average training loss: 0.00814\n",
            "Running Validation...\n"
          ]
        },
        {
          "name": "stderr",
          "output_type": "stream",
          "text": [
            "100%|██████████| 1/1 [00:00<00:00,  3.02it/s]\n"
          ]
        },
        {
          "name": "stdout",
          "output_type": "stream",
          "text": [
            "Validation Loss: 0.05818\n",
            "======== Epoch 87 / 200 ========\n",
            "Training...\n"
          ]
        },
        {
          "name": "stderr",
          "output_type": "stream",
          "text": [
            "100%|██████████| 2/2 [00:00<00:00,  2.35it/s]\n"
          ]
        },
        {
          "name": "stdout",
          "output_type": "stream",
          "text": [
            "Average training loss: 0.00933\n",
            "Running Validation...\n"
          ]
        },
        {
          "name": "stderr",
          "output_type": "stream",
          "text": [
            "100%|██████████| 1/1 [00:00<00:00,  3.12it/s]\n"
          ]
        },
        {
          "name": "stdout",
          "output_type": "stream",
          "text": [
            "Validation Loss: 0.05823\n",
            "======== Epoch 88 / 200 ========\n",
            "Training...\n"
          ]
        },
        {
          "name": "stderr",
          "output_type": "stream",
          "text": [
            "100%|██████████| 2/2 [00:00<00:00,  2.18it/s]\n"
          ]
        },
        {
          "name": "stdout",
          "output_type": "stream",
          "text": [
            "Average training loss: 0.01231\n",
            "Running Validation...\n"
          ]
        },
        {
          "name": "stderr",
          "output_type": "stream",
          "text": [
            "100%|██████████| 1/1 [00:00<00:00,  3.26it/s]\n"
          ]
        },
        {
          "name": "stdout",
          "output_type": "stream",
          "text": [
            "Validation Loss: 0.05830\n",
            "======== Epoch 89 / 200 ========\n",
            "Training...\n"
          ]
        },
        {
          "name": "stderr",
          "output_type": "stream",
          "text": [
            "100%|██████████| 2/2 [00:00<00:00,  2.16it/s]\n"
          ]
        },
        {
          "name": "stdout",
          "output_type": "stream",
          "text": [
            "Average training loss: 0.01006\n",
            "Running Validation...\n"
          ]
        },
        {
          "name": "stderr",
          "output_type": "stream",
          "text": [
            "100%|██████████| 1/1 [00:00<00:00,  2.00it/s]\n"
          ]
        },
        {
          "name": "stdout",
          "output_type": "stream",
          "text": [
            "Validation Loss: 0.05840\n",
            "======== Epoch 90 / 200 ========\n",
            "Training...\n"
          ]
        },
        {
          "name": "stderr",
          "output_type": "stream",
          "text": [
            "100%|██████████| 2/2 [00:01<00:00,  1.93it/s]\n"
          ]
        },
        {
          "name": "stdout",
          "output_type": "stream",
          "text": [
            "Average training loss: 0.01485\n",
            "Running Validation...\n"
          ]
        },
        {
          "name": "stderr",
          "output_type": "stream",
          "text": [
            "100%|██████████| 1/1 [00:00<00:00,  2.29it/s]\n"
          ]
        },
        {
          "name": "stdout",
          "output_type": "stream",
          "text": [
            "Validation Loss: 0.05850\n",
            "======== Epoch 91 / 200 ========\n",
            "Training...\n"
          ]
        },
        {
          "name": "stderr",
          "output_type": "stream",
          "text": [
            "100%|██████████| 2/2 [00:01<00:00,  1.81it/s]\n"
          ]
        },
        {
          "name": "stdout",
          "output_type": "stream",
          "text": [
            "Average training loss: 0.01125\n",
            "Running Validation...\n"
          ]
        },
        {
          "name": "stderr",
          "output_type": "stream",
          "text": [
            "100%|██████████| 1/1 [00:00<00:00,  2.42it/s]\n"
          ]
        },
        {
          "name": "stdout",
          "output_type": "stream",
          "text": [
            "Validation Loss: 0.05863\n",
            "======== Epoch 92 / 200 ========\n",
            "Training...\n"
          ]
        },
        {
          "name": "stderr",
          "output_type": "stream",
          "text": [
            "100%|██████████| 2/2 [00:00<00:00,  2.35it/s]\n"
          ]
        },
        {
          "name": "stdout",
          "output_type": "stream",
          "text": [
            "Average training loss: 0.00661\n",
            "Running Validation...\n"
          ]
        },
        {
          "name": "stderr",
          "output_type": "stream",
          "text": [
            "100%|██████████| 1/1 [00:00<00:00,  3.03it/s]\n"
          ]
        },
        {
          "name": "stdout",
          "output_type": "stream",
          "text": [
            "Validation Loss: 0.05876\n",
            "======== Epoch 93 / 200 ========\n",
            "Training...\n"
          ]
        },
        {
          "name": "stderr",
          "output_type": "stream",
          "text": [
            "100%|██████████| 2/2 [00:00<00:00,  2.34it/s]\n"
          ]
        },
        {
          "name": "stdout",
          "output_type": "stream",
          "text": [
            "Average training loss: 0.00987\n",
            "Running Validation...\n"
          ]
        },
        {
          "name": "stderr",
          "output_type": "stream",
          "text": [
            "100%|██████████| 1/1 [00:00<00:00,  3.10it/s]\n"
          ]
        },
        {
          "name": "stdout",
          "output_type": "stream",
          "text": [
            "Validation Loss: 0.05888\n",
            "======== Epoch 94 / 200 ========\n",
            "Training...\n"
          ]
        },
        {
          "name": "stderr",
          "output_type": "stream",
          "text": [
            "100%|██████████| 2/2 [00:00<00:00,  2.37it/s]\n"
          ]
        },
        {
          "name": "stdout",
          "output_type": "stream",
          "text": [
            "Average training loss: 0.00596\n",
            "Running Validation...\n"
          ]
        },
        {
          "name": "stderr",
          "output_type": "stream",
          "text": [
            "100%|██████████| 1/1 [00:00<00:00,  3.20it/s]\n"
          ]
        },
        {
          "name": "stdout",
          "output_type": "stream",
          "text": [
            "Validation Loss: 0.05896\n",
            "======== Epoch 95 / 200 ========\n",
            "Training...\n"
          ]
        },
        {
          "name": "stderr",
          "output_type": "stream",
          "text": [
            "100%|██████████| 2/2 [00:00<00:00,  2.30it/s]\n"
          ]
        },
        {
          "name": "stdout",
          "output_type": "stream",
          "text": [
            "Average training loss: 0.01053\n",
            "Running Validation...\n"
          ]
        },
        {
          "name": "stderr",
          "output_type": "stream",
          "text": [
            "100%|██████████| 1/1 [00:00<00:00,  3.19it/s]\n"
          ]
        },
        {
          "name": "stdout",
          "output_type": "stream",
          "text": [
            "Validation Loss: 0.05900\n",
            "======== Epoch 96 / 200 ========\n",
            "Training...\n"
          ]
        },
        {
          "name": "stderr",
          "output_type": "stream",
          "text": [
            "100%|██████████| 2/2 [00:00<00:00,  2.35it/s]\n"
          ]
        },
        {
          "name": "stdout",
          "output_type": "stream",
          "text": [
            "Average training loss: 0.00945\n",
            "Running Validation...\n"
          ]
        },
        {
          "name": "stderr",
          "output_type": "stream",
          "text": [
            "100%|██████████| 1/1 [00:00<00:00,  3.22it/s]\n"
          ]
        },
        {
          "name": "stdout",
          "output_type": "stream",
          "text": [
            "Validation Loss: 0.05903\n",
            "======== Epoch 97 / 200 ========\n",
            "Training...\n"
          ]
        },
        {
          "name": "stderr",
          "output_type": "stream",
          "text": [
            "100%|██████████| 2/2 [00:00<00:00,  2.41it/s]\n"
          ]
        },
        {
          "name": "stdout",
          "output_type": "stream",
          "text": [
            "Average training loss: 0.01186\n",
            "Running Validation...\n"
          ]
        },
        {
          "name": "stderr",
          "output_type": "stream",
          "text": [
            "100%|██████████| 1/1 [00:00<00:00,  3.12it/s]\n"
          ]
        },
        {
          "name": "stdout",
          "output_type": "stream",
          "text": [
            "Validation Loss: 0.05905\n",
            "======== Epoch 98 / 200 ========\n",
            "Training...\n"
          ]
        },
        {
          "name": "stderr",
          "output_type": "stream",
          "text": [
            "100%|██████████| 2/2 [00:00<00:00,  2.36it/s]\n"
          ]
        },
        {
          "name": "stdout",
          "output_type": "stream",
          "text": [
            "Average training loss: 0.01239\n",
            "Running Validation...\n"
          ]
        },
        {
          "name": "stderr",
          "output_type": "stream",
          "text": [
            "100%|██████████| 1/1 [00:00<00:00,  3.14it/s]\n"
          ]
        },
        {
          "name": "stdout",
          "output_type": "stream",
          "text": [
            "Validation Loss: 0.05905\n",
            "======== Epoch 99 / 200 ========\n",
            "Training...\n"
          ]
        },
        {
          "name": "stderr",
          "output_type": "stream",
          "text": [
            "100%|██████████| 2/2 [00:00<00:00,  2.31it/s]\n"
          ]
        },
        {
          "name": "stdout",
          "output_type": "stream",
          "text": [
            "Average training loss: 0.00964\n",
            "Running Validation...\n"
          ]
        },
        {
          "name": "stderr",
          "output_type": "stream",
          "text": [
            "100%|██████████| 1/1 [00:00<00:00,  3.15it/s]\n"
          ]
        },
        {
          "name": "stdout",
          "output_type": "stream",
          "text": [
            "Validation Loss: 0.05904\n",
            "======== Epoch 100 / 200 ========\n",
            "Training...\n"
          ]
        },
        {
          "name": "stderr",
          "output_type": "stream",
          "text": [
            "100%|██████████| 2/2 [00:00<00:00,  2.09it/s]\n"
          ]
        },
        {
          "name": "stdout",
          "output_type": "stream",
          "text": [
            "Average training loss: 0.00774\n",
            "Running Validation...\n"
          ]
        },
        {
          "name": "stderr",
          "output_type": "stream",
          "text": [
            "100%|██████████| 1/1 [00:00<00:00,  2.06it/s]\n"
          ]
        },
        {
          "name": "stdout",
          "output_type": "stream",
          "text": [
            "Validation Loss: 0.05905\n",
            "======== Epoch 101 / 200 ========\n",
            "Training...\n"
          ]
        },
        {
          "name": "stderr",
          "output_type": "stream",
          "text": [
            "100%|██████████| 2/2 [00:01<00:00,  1.88it/s]\n"
          ]
        },
        {
          "name": "stdout",
          "output_type": "stream",
          "text": [
            "Average training loss: 0.00600\n",
            "Running Validation...\n"
          ]
        },
        {
          "name": "stderr",
          "output_type": "stream",
          "text": [
            "100%|██████████| 1/1 [00:00<00:00,  2.27it/s]\n"
          ]
        },
        {
          "name": "stdout",
          "output_type": "stream",
          "text": [
            "Validation Loss: 0.05904\n",
            "======== Epoch 102 / 200 ========\n",
            "Training...\n"
          ]
        },
        {
          "name": "stderr",
          "output_type": "stream",
          "text": [
            "100%|██████████| 2/2 [00:01<00:00,  1.90it/s]\n"
          ]
        },
        {
          "name": "stdout",
          "output_type": "stream",
          "text": [
            "Average training loss: 0.00941\n",
            "Running Validation...\n"
          ]
        },
        {
          "name": "stderr",
          "output_type": "stream",
          "text": [
            "100%|██████████| 1/1 [00:00<00:00,  2.54it/s]\n"
          ]
        },
        {
          "name": "stdout",
          "output_type": "stream",
          "text": [
            "Validation Loss: 0.05902\n",
            "======== Epoch 103 / 200 ========\n",
            "Training...\n"
          ]
        },
        {
          "name": "stderr",
          "output_type": "stream",
          "text": [
            "100%|██████████| 2/2 [00:00<00:00,  2.34it/s]\n"
          ]
        },
        {
          "name": "stdout",
          "output_type": "stream",
          "text": [
            "Average training loss: 0.00540\n",
            "Running Validation...\n"
          ]
        },
        {
          "name": "stderr",
          "output_type": "stream",
          "text": [
            "100%|██████████| 1/1 [00:00<00:00,  3.23it/s]\n"
          ]
        },
        {
          "name": "stdout",
          "output_type": "stream",
          "text": [
            "Validation Loss: 0.05901\n",
            "======== Epoch 104 / 200 ========\n",
            "Training...\n"
          ]
        },
        {
          "name": "stderr",
          "output_type": "stream",
          "text": [
            "100%|██████████| 2/2 [00:00<00:00,  2.33it/s]\n"
          ]
        },
        {
          "name": "stdout",
          "output_type": "stream",
          "text": [
            "Average training loss: 0.00711\n",
            "Running Validation...\n"
          ]
        },
        {
          "name": "stderr",
          "output_type": "stream",
          "text": [
            "100%|██████████| 1/1 [00:00<00:00,  3.18it/s]\n"
          ]
        },
        {
          "name": "stdout",
          "output_type": "stream",
          "text": [
            "Validation Loss: 0.05899\n",
            "======== Epoch 105 / 200 ========\n",
            "Training...\n"
          ]
        },
        {
          "name": "stderr",
          "output_type": "stream",
          "text": [
            "100%|██████████| 2/2 [00:00<00:00,  2.38it/s]\n"
          ]
        },
        {
          "name": "stdout",
          "output_type": "stream",
          "text": [
            "Average training loss: 0.00513\n",
            "Running Validation...\n"
          ]
        },
        {
          "name": "stderr",
          "output_type": "stream",
          "text": [
            "100%|██████████| 1/1 [00:00<00:00,  3.22it/s]\n"
          ]
        },
        {
          "name": "stdout",
          "output_type": "stream",
          "text": [
            "Validation Loss: 0.05899\n",
            "======== Epoch 106 / 200 ========\n",
            "Training...\n"
          ]
        },
        {
          "name": "stderr",
          "output_type": "stream",
          "text": [
            "100%|██████████| 2/2 [00:00<00:00,  2.36it/s]\n"
          ]
        },
        {
          "name": "stdout",
          "output_type": "stream",
          "text": [
            "Average training loss: 0.00657\n",
            "Running Validation...\n"
          ]
        },
        {
          "name": "stderr",
          "output_type": "stream",
          "text": [
            "100%|██████████| 1/1 [00:00<00:00,  3.16it/s]\n"
          ]
        },
        {
          "name": "stdout",
          "output_type": "stream",
          "text": [
            "Validation Loss: 0.05899\n",
            "======== Epoch 107 / 200 ========\n",
            "Training...\n"
          ]
        },
        {
          "name": "stderr",
          "output_type": "stream",
          "text": [
            "100%|██████████| 2/2 [00:00<00:00,  2.34it/s]\n"
          ]
        },
        {
          "name": "stdout",
          "output_type": "stream",
          "text": [
            "Average training loss: 0.00850\n",
            "Running Validation...\n"
          ]
        },
        {
          "name": "stderr",
          "output_type": "stream",
          "text": [
            "100%|██████████| 1/1 [00:00<00:00,  3.04it/s]\n"
          ]
        },
        {
          "name": "stdout",
          "output_type": "stream",
          "text": [
            "Validation Loss: 0.05899\n",
            "======== Epoch 108 / 200 ========\n",
            "Training...\n"
          ]
        },
        {
          "name": "stderr",
          "output_type": "stream",
          "text": [
            "100%|██████████| 2/2 [00:00<00:00,  2.38it/s]\n"
          ]
        },
        {
          "name": "stdout",
          "output_type": "stream",
          "text": [
            "Average training loss: 0.00917\n",
            "Running Validation...\n"
          ]
        },
        {
          "name": "stderr",
          "output_type": "stream",
          "text": [
            "100%|██████████| 1/1 [00:00<00:00,  3.16it/s]\n"
          ]
        },
        {
          "name": "stdout",
          "output_type": "stream",
          "text": [
            "Validation Loss: 0.05899\n",
            "======== Epoch 109 / 200 ========\n",
            "Training...\n"
          ]
        },
        {
          "name": "stderr",
          "output_type": "stream",
          "text": [
            "100%|██████████| 2/2 [00:00<00:00,  2.30it/s]\n"
          ]
        },
        {
          "name": "stdout",
          "output_type": "stream",
          "text": [
            "Average training loss: 0.00654\n",
            "Running Validation...\n"
          ]
        },
        {
          "name": "stderr",
          "output_type": "stream",
          "text": [
            "100%|██████████| 1/1 [00:00<00:00,  3.23it/s]\n"
          ]
        },
        {
          "name": "stdout",
          "output_type": "stream",
          "text": [
            "Validation Loss: 0.05901\n",
            "======== Epoch 110 / 200 ========\n",
            "Training...\n"
          ]
        },
        {
          "name": "stderr",
          "output_type": "stream",
          "text": [
            "100%|██████████| 2/2 [00:00<00:00,  2.35it/s]\n"
          ]
        },
        {
          "name": "stdout",
          "output_type": "stream",
          "text": [
            "Average training loss: 0.01029\n",
            "Running Validation...\n"
          ]
        },
        {
          "name": "stderr",
          "output_type": "stream",
          "text": [
            "100%|██████████| 1/1 [00:00<00:00,  3.11it/s]\n"
          ]
        },
        {
          "name": "stdout",
          "output_type": "stream",
          "text": [
            "Validation Loss: 0.05905\n",
            "======== Epoch 111 / 200 ========\n",
            "Training...\n"
          ]
        },
        {
          "name": "stderr",
          "output_type": "stream",
          "text": [
            "100%|██████████| 2/2 [00:00<00:00,  2.13it/s]\n"
          ]
        },
        {
          "name": "stdout",
          "output_type": "stream",
          "text": [
            "Average training loss: 0.00771\n",
            "Running Validation...\n"
          ]
        },
        {
          "name": "stderr",
          "output_type": "stream",
          "text": [
            "100%|██████████| 1/1 [00:00<00:00,  1.67it/s]\n"
          ]
        },
        {
          "name": "stdout",
          "output_type": "stream",
          "text": [
            "Validation Loss: 0.05909\n",
            "======== Epoch 112 / 200 ========\n",
            "Training...\n"
          ]
        },
        {
          "name": "stderr",
          "output_type": "stream",
          "text": [
            "100%|██████████| 2/2 [00:01<00:00,  1.87it/s]\n"
          ]
        },
        {
          "name": "stdout",
          "output_type": "stream",
          "text": [
            "Average training loss: 0.00610\n",
            "Running Validation...\n"
          ]
        },
        {
          "name": "stderr",
          "output_type": "stream",
          "text": [
            "100%|██████████| 1/1 [00:00<00:00,  2.11it/s]\n"
          ]
        },
        {
          "name": "stdout",
          "output_type": "stream",
          "text": [
            "Validation Loss: 0.05913\n",
            "======== Epoch 113 / 200 ========\n",
            "Training...\n"
          ]
        },
        {
          "name": "stderr",
          "output_type": "stream",
          "text": [
            "100%|██████████| 2/2 [00:01<00:00,  1.84it/s]\n"
          ]
        },
        {
          "name": "stdout",
          "output_type": "stream",
          "text": [
            "Average training loss: 0.00598\n",
            "Running Validation...\n"
          ]
        },
        {
          "name": "stderr",
          "output_type": "stream",
          "text": [
            "100%|██████████| 1/1 [00:00<00:00,  3.02it/s]\n"
          ]
        },
        {
          "name": "stdout",
          "output_type": "stream",
          "text": [
            "Validation Loss: 0.05917\n",
            "======== Epoch 114 / 200 ========\n",
            "Training...\n"
          ]
        },
        {
          "name": "stderr",
          "output_type": "stream",
          "text": [
            "100%|██████████| 2/2 [00:00<00:00,  2.28it/s]\n"
          ]
        },
        {
          "name": "stdout",
          "output_type": "stream",
          "text": [
            "Average training loss: 0.00611\n",
            "Running Validation...\n"
          ]
        },
        {
          "name": "stderr",
          "output_type": "stream",
          "text": [
            "100%|██████████| 1/1 [00:00<00:00,  3.12it/s]\n"
          ]
        },
        {
          "name": "stdout",
          "output_type": "stream",
          "text": [
            "Validation Loss: 0.05920\n",
            "======== Epoch 115 / 200 ========\n",
            "Training...\n"
          ]
        },
        {
          "name": "stderr",
          "output_type": "stream",
          "text": [
            "100%|██████████| 2/2 [00:00<00:00,  2.37it/s]\n"
          ]
        },
        {
          "name": "stdout",
          "output_type": "stream",
          "text": [
            "Average training loss: 0.00570\n",
            "Running Validation...\n"
          ]
        },
        {
          "name": "stderr",
          "output_type": "stream",
          "text": [
            "100%|██████████| 1/1 [00:00<00:00,  3.15it/s]\n"
          ]
        },
        {
          "name": "stdout",
          "output_type": "stream",
          "text": [
            "Validation Loss: 0.05922\n",
            "======== Epoch 116 / 200 ========\n",
            "Training...\n"
          ]
        },
        {
          "name": "stderr",
          "output_type": "stream",
          "text": [
            "100%|██████████| 2/2 [00:00<00:00,  2.32it/s]\n"
          ]
        },
        {
          "name": "stdout",
          "output_type": "stream",
          "text": [
            "Average training loss: 0.00487\n",
            "Running Validation...\n"
          ]
        },
        {
          "name": "stderr",
          "output_type": "stream",
          "text": [
            "100%|██████████| 1/1 [00:00<00:00,  3.24it/s]\n"
          ]
        },
        {
          "name": "stdout",
          "output_type": "stream",
          "text": [
            "Validation Loss: 0.05925\n",
            "======== Epoch 117 / 200 ========\n",
            "Training...\n"
          ]
        },
        {
          "name": "stderr",
          "output_type": "stream",
          "text": [
            "100%|██████████| 2/2 [00:00<00:00,  2.37it/s]\n"
          ]
        },
        {
          "name": "stdout",
          "output_type": "stream",
          "text": [
            "Average training loss: 0.00716\n",
            "Running Validation...\n"
          ]
        },
        {
          "name": "stderr",
          "output_type": "stream",
          "text": [
            "100%|██████████| 1/1 [00:00<00:00,  3.14it/s]\n"
          ]
        },
        {
          "name": "stdout",
          "output_type": "stream",
          "text": [
            "Validation Loss: 0.05929\n",
            "======== Epoch 118 / 200 ========\n",
            "Training...\n"
          ]
        },
        {
          "name": "stderr",
          "output_type": "stream",
          "text": [
            "100%|██████████| 2/2 [00:00<00:00,  2.36it/s]\n"
          ]
        },
        {
          "name": "stdout",
          "output_type": "stream",
          "text": [
            "Average training loss: 0.00545\n",
            "Running Validation...\n"
          ]
        },
        {
          "name": "stderr",
          "output_type": "stream",
          "text": [
            "100%|██████████| 1/1 [00:00<00:00,  3.24it/s]\n"
          ]
        },
        {
          "name": "stdout",
          "output_type": "stream",
          "text": [
            "Validation Loss: 0.05931\n",
            "======== Epoch 119 / 200 ========\n",
            "Training...\n"
          ]
        },
        {
          "name": "stderr",
          "output_type": "stream",
          "text": [
            "100%|██████████| 2/2 [00:00<00:00,  2.28it/s]\n"
          ]
        },
        {
          "name": "stdout",
          "output_type": "stream",
          "text": [
            "Average training loss: 0.00491\n",
            "Running Validation...\n"
          ]
        },
        {
          "name": "stderr",
          "output_type": "stream",
          "text": [
            "100%|██████████| 1/1 [00:00<00:00,  3.23it/s]\n"
          ]
        },
        {
          "name": "stdout",
          "output_type": "stream",
          "text": [
            "Validation Loss: 0.05931\n",
            "======== Epoch 120 / 200 ========\n",
            "Training...\n"
          ]
        },
        {
          "name": "stderr",
          "output_type": "stream",
          "text": [
            "100%|██████████| 2/2 [00:00<00:00,  2.33it/s]\n"
          ]
        },
        {
          "name": "stdout",
          "output_type": "stream",
          "text": [
            "Average training loss: 0.00816\n",
            "Running Validation...\n"
          ]
        },
        {
          "name": "stderr",
          "output_type": "stream",
          "text": [
            "100%|██████████| 1/1 [00:00<00:00,  2.97it/s]\n"
          ]
        },
        {
          "name": "stdout",
          "output_type": "stream",
          "text": [
            "Validation Loss: 0.05931\n",
            "======== Epoch 121 / 200 ========\n",
            "Training...\n"
          ]
        },
        {
          "name": "stderr",
          "output_type": "stream",
          "text": [
            "100%|██████████| 2/2 [00:00<00:00,  2.40it/s]\n"
          ]
        },
        {
          "name": "stdout",
          "output_type": "stream",
          "text": [
            "Average training loss: 0.00463\n",
            "Running Validation...\n"
          ]
        },
        {
          "name": "stderr",
          "output_type": "stream",
          "text": [
            "100%|██████████| 1/1 [00:00<00:00,  3.08it/s]\n"
          ]
        },
        {
          "name": "stdout",
          "output_type": "stream",
          "text": [
            "Validation Loss: 0.05929\n",
            "======== Epoch 122 / 200 ========\n",
            "Training...\n"
          ]
        },
        {
          "name": "stderr",
          "output_type": "stream",
          "text": [
            "100%|██████████| 2/2 [00:01<00:00,  1.91it/s]\n"
          ]
        },
        {
          "name": "stdout",
          "output_type": "stream",
          "text": [
            "Average training loss: 0.00740\n",
            "Running Validation...\n"
          ]
        },
        {
          "name": "stderr",
          "output_type": "stream",
          "text": [
            "100%|██████████| 1/1 [00:00<00:00,  2.00it/s]\n"
          ]
        },
        {
          "name": "stdout",
          "output_type": "stream",
          "text": [
            "Validation Loss: 0.05923\n",
            "======== Epoch 123 / 200 ========\n",
            "Training...\n"
          ]
        },
        {
          "name": "stderr",
          "output_type": "stream",
          "text": [
            "100%|██████████| 2/2 [00:01<00:00,  1.93it/s]\n"
          ]
        },
        {
          "name": "stdout",
          "output_type": "stream",
          "text": [
            "Average training loss: 0.01004\n",
            "Running Validation...\n"
          ]
        },
        {
          "name": "stderr",
          "output_type": "stream",
          "text": [
            "100%|██████████| 1/1 [00:00<00:00,  2.11it/s]\n"
          ]
        },
        {
          "name": "stdout",
          "output_type": "stream",
          "text": [
            "Validation Loss: 0.05920\n",
            "======== Epoch 124 / 200 ========\n",
            "Training...\n"
          ]
        },
        {
          "name": "stderr",
          "output_type": "stream",
          "text": [
            "100%|██████████| 2/2 [00:01<00:00,  1.95it/s]\n"
          ]
        },
        {
          "name": "stdout",
          "output_type": "stream",
          "text": [
            "Average training loss: 0.00940\n",
            "Running Validation...\n"
          ]
        },
        {
          "name": "stderr",
          "output_type": "stream",
          "text": [
            "100%|██████████| 1/1 [00:00<00:00,  3.11it/s]\n"
          ]
        },
        {
          "name": "stdout",
          "output_type": "stream",
          "text": [
            "Validation Loss: 0.05917\n",
            "======== Epoch 125 / 200 ========\n",
            "Training...\n"
          ]
        },
        {
          "name": "stderr",
          "output_type": "stream",
          "text": [
            "100%|██████████| 2/2 [00:00<00:00,  2.34it/s]\n"
          ]
        },
        {
          "name": "stdout",
          "output_type": "stream",
          "text": [
            "Average training loss: 0.00520\n",
            "Running Validation...\n"
          ]
        },
        {
          "name": "stderr",
          "output_type": "stream",
          "text": [
            "100%|██████████| 1/1 [00:00<00:00,  3.16it/s]\n"
          ]
        },
        {
          "name": "stdout",
          "output_type": "stream",
          "text": [
            "Validation Loss: 0.05915\n",
            "======== Epoch 126 / 200 ========\n",
            "Training...\n"
          ]
        },
        {
          "name": "stderr",
          "output_type": "stream",
          "text": [
            "100%|██████████| 2/2 [00:00<00:00,  2.37it/s]\n"
          ]
        },
        {
          "name": "stdout",
          "output_type": "stream",
          "text": [
            "Average training loss: 0.00792\n",
            "Running Validation...\n"
          ]
        },
        {
          "name": "stderr",
          "output_type": "stream",
          "text": [
            "100%|██████████| 1/1 [00:00<00:00,  3.13it/s]\n"
          ]
        },
        {
          "name": "stdout",
          "output_type": "stream",
          "text": [
            "Validation Loss: 0.05916\n",
            "======== Epoch 127 / 200 ========\n",
            "Training...\n"
          ]
        },
        {
          "name": "stderr",
          "output_type": "stream",
          "text": [
            "100%|██████████| 2/2 [00:00<00:00,  2.37it/s]\n"
          ]
        },
        {
          "name": "stdout",
          "output_type": "stream",
          "text": [
            "Average training loss: 0.00702\n",
            "Running Validation...\n"
          ]
        },
        {
          "name": "stderr",
          "output_type": "stream",
          "text": [
            "100%|██████████| 1/1 [00:00<00:00,  3.15it/s]\n"
          ]
        },
        {
          "name": "stdout",
          "output_type": "stream",
          "text": [
            "Validation Loss: 0.05917\n",
            "======== Epoch 128 / 200 ========\n",
            "Training...\n"
          ]
        },
        {
          "name": "stderr",
          "output_type": "stream",
          "text": [
            "100%|██████████| 2/2 [00:00<00:00,  2.37it/s]\n"
          ]
        },
        {
          "name": "stdout",
          "output_type": "stream",
          "text": [
            "Average training loss: 0.00680\n",
            "Running Validation...\n"
          ]
        },
        {
          "name": "stderr",
          "output_type": "stream",
          "text": [
            "100%|██████████| 1/1 [00:00<00:00,  2.97it/s]\n"
          ]
        },
        {
          "name": "stdout",
          "output_type": "stream",
          "text": [
            "Validation Loss: 0.05919\n",
            "======== Epoch 129 / 200 ========\n",
            "Training...\n"
          ]
        },
        {
          "name": "stderr",
          "output_type": "stream",
          "text": [
            "100%|██████████| 2/2 [00:00<00:00,  2.30it/s]\n"
          ]
        },
        {
          "name": "stdout",
          "output_type": "stream",
          "text": [
            "Average training loss: 0.00483\n",
            "Running Validation...\n"
          ]
        },
        {
          "name": "stderr",
          "output_type": "stream",
          "text": [
            "100%|██████████| 1/1 [00:00<00:00,  3.15it/s]\n"
          ]
        },
        {
          "name": "stdout",
          "output_type": "stream",
          "text": [
            "Validation Loss: 0.05921\n",
            "======== Epoch 130 / 200 ========\n",
            "Training...\n"
          ]
        },
        {
          "name": "stderr",
          "output_type": "stream",
          "text": [
            "100%|██████████| 2/2 [00:00<00:00,  2.36it/s]\n"
          ]
        },
        {
          "name": "stdout",
          "output_type": "stream",
          "text": [
            "Average training loss: 0.00936\n",
            "Running Validation...\n"
          ]
        },
        {
          "name": "stderr",
          "output_type": "stream",
          "text": [
            "100%|██████████| 1/1 [00:00<00:00,  3.19it/s]\n"
          ]
        },
        {
          "name": "stdout",
          "output_type": "stream",
          "text": [
            "Validation Loss: 0.05924\n",
            "======== Epoch 131 / 200 ========\n",
            "Training...\n"
          ]
        },
        {
          "name": "stderr",
          "output_type": "stream",
          "text": [
            "100%|██████████| 2/2 [00:00<00:00,  2.36it/s]\n"
          ]
        },
        {
          "name": "stdout",
          "output_type": "stream",
          "text": [
            "Average training loss: 0.00548\n",
            "Running Validation...\n"
          ]
        },
        {
          "name": "stderr",
          "output_type": "stream",
          "text": [
            "100%|██████████| 1/1 [00:00<00:00,  3.08it/s]\n"
          ]
        },
        {
          "name": "stdout",
          "output_type": "stream",
          "text": [
            "Validation Loss: 0.05929\n",
            "======== Epoch 132 / 200 ========\n",
            "Training...\n"
          ]
        },
        {
          "name": "stderr",
          "output_type": "stream",
          "text": [
            "100%|██████████| 2/2 [00:00<00:00,  2.36it/s]\n"
          ]
        },
        {
          "name": "stdout",
          "output_type": "stream",
          "text": [
            "Average training loss: 0.00562\n",
            "Running Validation...\n"
          ]
        },
        {
          "name": "stderr",
          "output_type": "stream",
          "text": [
            "100%|██████████| 1/1 [00:00<00:00,  2.90it/s]\n"
          ]
        },
        {
          "name": "stdout",
          "output_type": "stream",
          "text": [
            "Validation Loss: 0.05934\n",
            "======== Epoch 133 / 200 ========\n",
            "Training...\n"
          ]
        },
        {
          "name": "stderr",
          "output_type": "stream",
          "text": [
            "100%|██████████| 2/2 [00:01<00:00,  1.83it/s]\n"
          ]
        },
        {
          "name": "stdout",
          "output_type": "stream",
          "text": [
            "Average training loss: 0.00603\n",
            "Running Validation...\n"
          ]
        },
        {
          "name": "stderr",
          "output_type": "stream",
          "text": [
            "100%|██████████| 1/1 [00:00<00:00,  1.84it/s]\n"
          ]
        },
        {
          "name": "stdout",
          "output_type": "stream",
          "text": [
            "Validation Loss: 0.05937\n",
            "======== Epoch 134 / 200 ========\n",
            "Training...\n"
          ]
        },
        {
          "name": "stderr",
          "output_type": "stream",
          "text": [
            "100%|██████████| 2/2 [00:01<00:00,  1.84it/s]\n"
          ]
        },
        {
          "name": "stdout",
          "output_type": "stream",
          "text": [
            "Average training loss: 0.00527\n",
            "Running Validation...\n"
          ]
        },
        {
          "name": "stderr",
          "output_type": "stream",
          "text": [
            "100%|██████████| 1/1 [00:00<00:00,  1.98it/s]\n"
          ]
        },
        {
          "name": "stdout",
          "output_type": "stream",
          "text": [
            "Validation Loss: 0.05939\n",
            "======== Epoch 135 / 200 ========\n",
            "Training...\n"
          ]
        },
        {
          "name": "stderr",
          "output_type": "stream",
          "text": [
            "100%|██████████| 2/2 [00:01<00:00,  1.98it/s]\n"
          ]
        },
        {
          "name": "stdout",
          "output_type": "stream",
          "text": [
            "Average training loss: 0.00522\n",
            "Running Validation...\n"
          ]
        },
        {
          "name": "stderr",
          "output_type": "stream",
          "text": [
            "100%|██████████| 1/1 [00:00<00:00,  3.08it/s]\n"
          ]
        },
        {
          "name": "stdout",
          "output_type": "stream",
          "text": [
            "Validation Loss: 0.05941\n",
            "======== Epoch 136 / 200 ========\n",
            "Training...\n"
          ]
        },
        {
          "name": "stderr",
          "output_type": "stream",
          "text": [
            "100%|██████████| 2/2 [00:00<00:00,  2.32it/s]\n"
          ]
        },
        {
          "name": "stdout",
          "output_type": "stream",
          "text": [
            "Average training loss: 0.00693\n",
            "Running Validation...\n"
          ]
        },
        {
          "name": "stderr",
          "output_type": "stream",
          "text": [
            "100%|██████████| 1/1 [00:00<00:00,  3.12it/s]\n"
          ]
        },
        {
          "name": "stdout",
          "output_type": "stream",
          "text": [
            "Validation Loss: 0.05942\n",
            "======== Epoch 137 / 200 ========\n",
            "Training...\n"
          ]
        },
        {
          "name": "stderr",
          "output_type": "stream",
          "text": [
            "100%|██████████| 2/2 [00:00<00:00,  2.35it/s]\n"
          ]
        },
        {
          "name": "stdout",
          "output_type": "stream",
          "text": [
            "Average training loss: 0.00445\n",
            "Running Validation...\n"
          ]
        },
        {
          "name": "stderr",
          "output_type": "stream",
          "text": [
            "100%|██████████| 1/1 [00:00<00:00,  3.16it/s]\n"
          ]
        },
        {
          "name": "stdout",
          "output_type": "stream",
          "text": [
            "Validation Loss: 0.05943\n",
            "======== Epoch 138 / 200 ========\n",
            "Training...\n"
          ]
        },
        {
          "name": "stderr",
          "output_type": "stream",
          "text": [
            "100%|██████████| 2/2 [00:00<00:00,  2.38it/s]\n"
          ]
        },
        {
          "name": "stdout",
          "output_type": "stream",
          "text": [
            "Average training loss: 0.00639\n",
            "Running Validation...\n"
          ]
        },
        {
          "name": "stderr",
          "output_type": "stream",
          "text": [
            "100%|██████████| 1/1 [00:00<00:00,  3.32it/s]\n"
          ]
        },
        {
          "name": "stdout",
          "output_type": "stream",
          "text": [
            "Validation Loss: 0.05944\n",
            "======== Epoch 139 / 200 ========\n",
            "Training...\n"
          ]
        },
        {
          "name": "stderr",
          "output_type": "stream",
          "text": [
            "100%|██████████| 2/2 [00:00<00:00,  2.37it/s]\n"
          ]
        },
        {
          "name": "stdout",
          "output_type": "stream",
          "text": [
            "Average training loss: 0.00540\n",
            "Running Validation...\n"
          ]
        },
        {
          "name": "stderr",
          "output_type": "stream",
          "text": [
            "100%|██████████| 1/1 [00:00<00:00,  3.20it/s]\n"
          ]
        },
        {
          "name": "stdout",
          "output_type": "stream",
          "text": [
            "Validation Loss: 0.05944\n",
            "======== Epoch 140 / 200 ========\n",
            "Training...\n"
          ]
        },
        {
          "name": "stderr",
          "output_type": "stream",
          "text": [
            "100%|██████████| 2/2 [00:00<00:00,  2.33it/s]\n"
          ]
        },
        {
          "name": "stdout",
          "output_type": "stream",
          "text": [
            "Average training loss: 0.00489\n",
            "Running Validation...\n"
          ]
        },
        {
          "name": "stderr",
          "output_type": "stream",
          "text": [
            "100%|██████████| 1/1 [00:00<00:00,  3.07it/s]\n"
          ]
        },
        {
          "name": "stdout",
          "output_type": "stream",
          "text": [
            "Validation Loss: 0.05943\n",
            "======== Epoch 141 / 200 ========\n",
            "Training...\n"
          ]
        },
        {
          "name": "stderr",
          "output_type": "stream",
          "text": [
            "100%|██████████| 2/2 [00:00<00:00,  2.34it/s]\n"
          ]
        },
        {
          "name": "stdout",
          "output_type": "stream",
          "text": [
            "Average training loss: 0.00636\n",
            "Running Validation...\n"
          ]
        },
        {
          "name": "stderr",
          "output_type": "stream",
          "text": [
            "100%|██████████| 1/1 [00:00<00:00,  3.00it/s]\n"
          ]
        },
        {
          "name": "stdout",
          "output_type": "stream",
          "text": [
            "Validation Loss: 0.05943\n",
            "======== Epoch 142 / 200 ========\n",
            "Training...\n"
          ]
        },
        {
          "name": "stderr",
          "output_type": "stream",
          "text": [
            "100%|██████████| 2/2 [00:00<00:00,  2.33it/s]\n"
          ]
        },
        {
          "name": "stdout",
          "output_type": "stream",
          "text": [
            "Average training loss: 0.00412\n",
            "Running Validation...\n"
          ]
        },
        {
          "name": "stderr",
          "output_type": "stream",
          "text": [
            "100%|██████████| 1/1 [00:00<00:00,  3.05it/s]\n"
          ]
        },
        {
          "name": "stdout",
          "output_type": "stream",
          "text": [
            "Validation Loss: 0.05944\n",
            "======== Epoch 143 / 200 ========\n",
            "Training...\n"
          ]
        },
        {
          "name": "stderr",
          "output_type": "stream",
          "text": [
            "100%|██████████| 2/2 [00:00<00:00,  2.28it/s]\n"
          ]
        },
        {
          "name": "stdout",
          "output_type": "stream",
          "text": [
            "Average training loss: 0.00571\n",
            "Running Validation...\n"
          ]
        },
        {
          "name": "stderr",
          "output_type": "stream",
          "text": [
            "100%|██████████| 1/1 [00:00<00:00,  2.17it/s]\n"
          ]
        },
        {
          "name": "stdout",
          "output_type": "stream",
          "text": [
            "Validation Loss: 0.05944\n",
            "======== Epoch 144 / 200 ========\n",
            "Training...\n"
          ]
        },
        {
          "name": "stderr",
          "output_type": "stream",
          "text": [
            "100%|██████████| 2/2 [00:01<00:00,  1.83it/s]\n"
          ]
        },
        {
          "name": "stdout",
          "output_type": "stream",
          "text": [
            "Average training loss: 0.00655\n",
            "Running Validation...\n"
          ]
        },
        {
          "name": "stderr",
          "output_type": "stream",
          "text": [
            "100%|██████████| 1/1 [00:00<00:00,  1.95it/s]\n"
          ]
        },
        {
          "name": "stdout",
          "output_type": "stream",
          "text": [
            "Validation Loss: 0.05945\n",
            "======== Epoch 145 / 200 ========\n",
            "Training...\n"
          ]
        },
        {
          "name": "stderr",
          "output_type": "stream",
          "text": [
            "100%|██████████| 2/2 [00:01<00:00,  1.84it/s]\n"
          ]
        },
        {
          "name": "stdout",
          "output_type": "stream",
          "text": [
            "Average training loss: 0.00805\n",
            "Running Validation...\n"
          ]
        },
        {
          "name": "stderr",
          "output_type": "stream",
          "text": [
            "100%|██████████| 1/1 [00:00<00:00,  2.10it/s]\n"
          ]
        },
        {
          "name": "stdout",
          "output_type": "stream",
          "text": [
            "Validation Loss: 0.05948\n",
            "======== Epoch 146 / 200 ========\n",
            "Training...\n"
          ]
        },
        {
          "name": "stderr",
          "output_type": "stream",
          "text": [
            "100%|██████████| 2/2 [00:00<00:00,  2.05it/s]\n"
          ]
        },
        {
          "name": "stdout",
          "output_type": "stream",
          "text": [
            "Average training loss: 0.00629\n",
            "Running Validation...\n"
          ]
        },
        {
          "name": "stderr",
          "output_type": "stream",
          "text": [
            "100%|██████████| 1/1 [00:00<00:00,  2.95it/s]\n"
          ]
        },
        {
          "name": "stdout",
          "output_type": "stream",
          "text": [
            "Validation Loss: 0.05953\n",
            "======== Epoch 147 / 200 ========\n",
            "Training...\n"
          ]
        },
        {
          "name": "stderr",
          "output_type": "stream",
          "text": [
            "100%|██████████| 2/2 [00:00<00:00,  2.36it/s]\n"
          ]
        },
        {
          "name": "stdout",
          "output_type": "stream",
          "text": [
            "Average training loss: 0.00698\n",
            "Running Validation...\n"
          ]
        },
        {
          "name": "stderr",
          "output_type": "stream",
          "text": [
            "100%|██████████| 1/1 [00:00<00:00,  2.94it/s]\n"
          ]
        },
        {
          "name": "stdout",
          "output_type": "stream",
          "text": [
            "Validation Loss: 0.05957\n",
            "======== Epoch 148 / 200 ========\n",
            "Training...\n"
          ]
        },
        {
          "name": "stderr",
          "output_type": "stream",
          "text": [
            "100%|██████████| 2/2 [00:00<00:00,  2.34it/s]\n"
          ]
        },
        {
          "name": "stdout",
          "output_type": "stream",
          "text": [
            "Average training loss: 0.00409\n",
            "Running Validation...\n"
          ]
        },
        {
          "name": "stderr",
          "output_type": "stream",
          "text": [
            "100%|██████████| 1/1 [00:00<00:00,  3.21it/s]\n"
          ]
        },
        {
          "name": "stdout",
          "output_type": "stream",
          "text": [
            "Validation Loss: 0.05960\n",
            "======== Epoch 149 / 200 ========\n",
            "Training...\n"
          ]
        },
        {
          "name": "stderr",
          "output_type": "stream",
          "text": [
            "100%|██████████| 2/2 [00:00<00:00,  2.38it/s]\n"
          ]
        },
        {
          "name": "stdout",
          "output_type": "stream",
          "text": [
            "Average training loss: 0.00755\n",
            "Running Validation...\n"
          ]
        },
        {
          "name": "stderr",
          "output_type": "stream",
          "text": [
            "100%|██████████| 1/1 [00:00<00:00,  3.17it/s]\n"
          ]
        },
        {
          "name": "stdout",
          "output_type": "stream",
          "text": [
            "Validation Loss: 0.05963\n",
            "======== Epoch 150 / 200 ========\n",
            "Training...\n"
          ]
        },
        {
          "name": "stderr",
          "output_type": "stream",
          "text": [
            "100%|██████████| 2/2 [00:00<00:00,  2.36it/s]\n"
          ]
        },
        {
          "name": "stdout",
          "output_type": "stream",
          "text": [
            "Average training loss: 0.00748\n",
            "Running Validation...\n"
          ]
        },
        {
          "name": "stderr",
          "output_type": "stream",
          "text": [
            "100%|██████████| 1/1 [00:00<00:00,  3.13it/s]\n"
          ]
        },
        {
          "name": "stdout",
          "output_type": "stream",
          "text": [
            "Validation Loss: 0.05965\n",
            "======== Epoch 151 / 200 ========\n",
            "Training...\n"
          ]
        },
        {
          "name": "stderr",
          "output_type": "stream",
          "text": [
            "100%|██████████| 2/2 [00:00<00:00,  2.32it/s]\n"
          ]
        },
        {
          "name": "stdout",
          "output_type": "stream",
          "text": [
            "Average training loss: 0.00378\n",
            "Running Validation...\n"
          ]
        },
        {
          "name": "stderr",
          "output_type": "stream",
          "text": [
            "100%|██████████| 1/1 [00:00<00:00,  3.11it/s]\n"
          ]
        },
        {
          "name": "stdout",
          "output_type": "stream",
          "text": [
            "Validation Loss: 0.05966\n",
            "======== Epoch 152 / 200 ========\n",
            "Training...\n"
          ]
        },
        {
          "name": "stderr",
          "output_type": "stream",
          "text": [
            "100%|██████████| 2/2 [00:00<00:00,  2.35it/s]\n"
          ]
        },
        {
          "name": "stdout",
          "output_type": "stream",
          "text": [
            "Average training loss: 0.00397\n",
            "Running Validation...\n"
          ]
        },
        {
          "name": "stderr",
          "output_type": "stream",
          "text": [
            "100%|██████████| 1/1 [00:00<00:00,  2.88it/s]\n"
          ]
        },
        {
          "name": "stdout",
          "output_type": "stream",
          "text": [
            "Validation Loss: 0.05967\n",
            "======== Epoch 153 / 200 ========\n",
            "Training...\n"
          ]
        },
        {
          "name": "stderr",
          "output_type": "stream",
          "text": [
            "100%|██████████| 2/2 [00:00<00:00,  2.30it/s]\n"
          ]
        },
        {
          "name": "stdout",
          "output_type": "stream",
          "text": [
            "Average training loss: 0.00516\n",
            "Running Validation...\n"
          ]
        },
        {
          "name": "stderr",
          "output_type": "stream",
          "text": [
            "100%|██████████| 1/1 [00:00<00:00,  3.07it/s]\n"
          ]
        },
        {
          "name": "stdout",
          "output_type": "stream",
          "text": [
            "Validation Loss: 0.05969\n",
            "======== Epoch 154 / 200 ========\n",
            "Training...\n"
          ]
        },
        {
          "name": "stderr",
          "output_type": "stream",
          "text": [
            "100%|██████████| 2/2 [00:00<00:00,  2.19it/s]\n"
          ]
        },
        {
          "name": "stdout",
          "output_type": "stream",
          "text": [
            "Average training loss: 0.00380\n",
            "Running Validation...\n"
          ]
        },
        {
          "name": "stderr",
          "output_type": "stream",
          "text": [
            "100%|██████████| 1/1 [00:00<00:00,  2.12it/s]\n"
          ]
        },
        {
          "name": "stdout",
          "output_type": "stream",
          "text": [
            "Validation Loss: 0.05973\n",
            "======== Epoch 155 / 200 ========\n",
            "Training...\n"
          ]
        },
        {
          "name": "stderr",
          "output_type": "stream",
          "text": [
            "100%|██████████| 2/2 [00:01<00:00,  1.89it/s]\n"
          ]
        },
        {
          "name": "stdout",
          "output_type": "stream",
          "text": [
            "Average training loss: 0.00439\n",
            "Running Validation...\n"
          ]
        },
        {
          "name": "stderr",
          "output_type": "stream",
          "text": [
            "100%|██████████| 1/1 [00:00<00:00,  2.00it/s]\n"
          ]
        },
        {
          "name": "stdout",
          "output_type": "stream",
          "text": [
            "Validation Loss: 0.05976\n",
            "======== Epoch 156 / 200 ========\n",
            "Training...\n"
          ]
        },
        {
          "name": "stderr",
          "output_type": "stream",
          "text": [
            "100%|██████████| 2/2 [00:01<00:00,  1.81it/s]\n"
          ]
        },
        {
          "name": "stdout",
          "output_type": "stream",
          "text": [
            "Average training loss: 0.00447\n",
            "Running Validation...\n"
          ]
        },
        {
          "name": "stderr",
          "output_type": "stream",
          "text": [
            "100%|██████████| 1/1 [00:00<00:00,  1.98it/s]\n"
          ]
        },
        {
          "name": "stdout",
          "output_type": "stream",
          "text": [
            "Validation Loss: 0.05979\n",
            "======== Epoch 157 / 200 ========\n",
            "Training...\n"
          ]
        },
        {
          "name": "stderr",
          "output_type": "stream",
          "text": [
            "100%|██████████| 2/2 [00:00<00:00,  2.29it/s]\n"
          ]
        },
        {
          "name": "stdout",
          "output_type": "stream",
          "text": [
            "Average training loss: 0.00667\n",
            "Running Validation...\n"
          ]
        },
        {
          "name": "stderr",
          "output_type": "stream",
          "text": [
            "100%|██████████| 1/1 [00:00<00:00,  3.13it/s]\n"
          ]
        },
        {
          "name": "stdout",
          "output_type": "stream",
          "text": [
            "Validation Loss: 0.05982\n",
            "======== Epoch 158 / 200 ========\n",
            "Training...\n"
          ]
        },
        {
          "name": "stderr",
          "output_type": "stream",
          "text": [
            "100%|██████████| 2/2 [00:00<00:00,  2.19it/s]\n"
          ]
        },
        {
          "name": "stdout",
          "output_type": "stream",
          "text": [
            "Average training loss: 0.00560\n",
            "Running Validation...\n"
          ]
        },
        {
          "name": "stderr",
          "output_type": "stream",
          "text": [
            "100%|██████████| 1/1 [00:00<00:00,  3.03it/s]\n"
          ]
        },
        {
          "name": "stdout",
          "output_type": "stream",
          "text": [
            "Validation Loss: 0.05986\n",
            "======== Epoch 159 / 200 ========\n",
            "Training...\n"
          ]
        },
        {
          "name": "stderr",
          "output_type": "stream",
          "text": [
            "100%|██████████| 2/2 [00:00<00:00,  2.30it/s]\n"
          ]
        },
        {
          "name": "stdout",
          "output_type": "stream",
          "text": [
            "Average training loss: 0.00473\n",
            "Running Validation...\n"
          ]
        },
        {
          "name": "stderr",
          "output_type": "stream",
          "text": [
            "100%|██████████| 1/1 [00:00<00:00,  3.15it/s]\n"
          ]
        },
        {
          "name": "stdout",
          "output_type": "stream",
          "text": [
            "Validation Loss: 0.05988\n",
            "======== Epoch 160 / 200 ========\n",
            "Training...\n"
          ]
        },
        {
          "name": "stderr",
          "output_type": "stream",
          "text": [
            "100%|██████████| 2/2 [00:00<00:00,  2.22it/s]\n"
          ]
        },
        {
          "name": "stdout",
          "output_type": "stream",
          "text": [
            "Average training loss: 0.00954\n",
            "Running Validation...\n"
          ]
        },
        {
          "name": "stderr",
          "output_type": "stream",
          "text": [
            "100%|██████████| 1/1 [00:00<00:00,  2.97it/s]\n"
          ]
        },
        {
          "name": "stdout",
          "output_type": "stream",
          "text": [
            "Validation Loss: 0.05990\n",
            "======== Epoch 161 / 200 ========\n",
            "Training...\n"
          ]
        },
        {
          "name": "stderr",
          "output_type": "stream",
          "text": [
            "100%|██████████| 2/2 [00:00<00:00,  2.27it/s]\n"
          ]
        },
        {
          "name": "stdout",
          "output_type": "stream",
          "text": [
            "Average training loss: 0.00811\n",
            "Running Validation...\n"
          ]
        },
        {
          "name": "stderr",
          "output_type": "stream",
          "text": [
            "100%|██████████| 1/1 [00:00<00:00,  3.03it/s]\n"
          ]
        },
        {
          "name": "stdout",
          "output_type": "stream",
          "text": [
            "Validation Loss: 0.05993\n",
            "======== Epoch 162 / 200 ========\n",
            "Training...\n"
          ]
        },
        {
          "name": "stderr",
          "output_type": "stream",
          "text": [
            "100%|██████████| 2/2 [00:00<00:00,  2.31it/s]\n"
          ]
        },
        {
          "name": "stdout",
          "output_type": "stream",
          "text": [
            "Average training loss: 0.00704\n",
            "Running Validation...\n"
          ]
        },
        {
          "name": "stderr",
          "output_type": "stream",
          "text": [
            "100%|██████████| 1/1 [00:00<00:00,  3.04it/s]\n"
          ]
        },
        {
          "name": "stdout",
          "output_type": "stream",
          "text": [
            "Validation Loss: 0.05995\n",
            "======== Epoch 163 / 200 ========\n",
            "Training...\n"
          ]
        },
        {
          "name": "stderr",
          "output_type": "stream",
          "text": [
            "100%|██████████| 2/2 [00:00<00:00,  2.12it/s]\n"
          ]
        },
        {
          "name": "stdout",
          "output_type": "stream",
          "text": [
            "Average training loss: 0.00775\n",
            "Running Validation...\n"
          ]
        },
        {
          "name": "stderr",
          "output_type": "stream",
          "text": [
            "100%|██████████| 1/1 [00:00<00:00,  2.02it/s]\n"
          ]
        },
        {
          "name": "stdout",
          "output_type": "stream",
          "text": [
            "Validation Loss: 0.05997\n",
            "======== Epoch 164 / 200 ========\n",
            "Training...\n"
          ]
        },
        {
          "name": "stderr",
          "output_type": "stream",
          "text": [
            "100%|██████████| 2/2 [00:01<00:00,  1.82it/s]\n"
          ]
        },
        {
          "name": "stdout",
          "output_type": "stream",
          "text": [
            "Average training loss: 0.00584\n",
            "Running Validation...\n"
          ]
        },
        {
          "name": "stderr",
          "output_type": "stream",
          "text": [
            "100%|██████████| 1/1 [00:00<00:00,  1.66it/s]\n"
          ]
        },
        {
          "name": "stdout",
          "output_type": "stream",
          "text": [
            "Validation Loss: 0.05999\n",
            "======== Epoch 165 / 200 ========\n",
            "Training...\n"
          ]
        },
        {
          "name": "stderr",
          "output_type": "stream",
          "text": [
            "100%|██████████| 2/2 [00:01<00:00,  1.60it/s]\n"
          ]
        },
        {
          "name": "stdout",
          "output_type": "stream",
          "text": [
            "Average training loss: 0.00632\n",
            "Running Validation...\n"
          ]
        },
        {
          "name": "stderr",
          "output_type": "stream",
          "text": [
            "100%|██████████| 1/1 [00:00<00:00,  1.65it/s]\n"
          ]
        },
        {
          "name": "stdout",
          "output_type": "stream",
          "text": [
            "Validation Loss: 0.06000\n",
            "======== Epoch 166 / 200 ========\n",
            "Training...\n"
          ]
        },
        {
          "name": "stderr",
          "output_type": "stream",
          "text": [
            "100%|██████████| 2/2 [00:01<00:00,  1.59it/s]\n"
          ]
        },
        {
          "name": "stdout",
          "output_type": "stream",
          "text": [
            "Average training loss: 0.00458\n",
            "Running Validation...\n"
          ]
        },
        {
          "name": "stderr",
          "output_type": "stream",
          "text": [
            "100%|██████████| 1/1 [00:00<00:00,  2.06it/s]\n"
          ]
        },
        {
          "name": "stdout",
          "output_type": "stream",
          "text": [
            "Validation Loss: 0.06002\n",
            "======== Epoch 167 / 200 ========\n",
            "Training...\n"
          ]
        },
        {
          "name": "stderr",
          "output_type": "stream",
          "text": [
            "100%|██████████| 2/2 [00:01<00:00,  1.86it/s]\n"
          ]
        },
        {
          "name": "stdout",
          "output_type": "stream",
          "text": [
            "Average training loss: 0.00311\n",
            "Running Validation...\n"
          ]
        },
        {
          "name": "stderr",
          "output_type": "stream",
          "text": [
            "100%|██████████| 1/1 [00:00<00:00,  3.08it/s]\n"
          ]
        },
        {
          "name": "stdout",
          "output_type": "stream",
          "text": [
            "Validation Loss: 0.06002\n",
            "======== Epoch 168 / 200 ========\n",
            "Training...\n"
          ]
        },
        {
          "name": "stderr",
          "output_type": "stream",
          "text": [
            "100%|██████████| 2/2 [00:00<00:00,  2.29it/s]\n"
          ]
        },
        {
          "name": "stdout",
          "output_type": "stream",
          "text": [
            "Average training loss: 0.00452\n",
            "Running Validation...\n"
          ]
        },
        {
          "name": "stderr",
          "output_type": "stream",
          "text": [
            "100%|██████████| 1/1 [00:00<00:00,  3.08it/s]\n"
          ]
        },
        {
          "name": "stdout",
          "output_type": "stream",
          "text": [
            "Validation Loss: 0.06003\n",
            "======== Epoch 169 / 200 ========\n",
            "Training...\n"
          ]
        },
        {
          "name": "stderr",
          "output_type": "stream",
          "text": [
            "100%|██████████| 2/2 [00:00<00:00,  2.35it/s]\n"
          ]
        },
        {
          "name": "stdout",
          "output_type": "stream",
          "text": [
            "Average training loss: 0.00325\n",
            "Running Validation...\n"
          ]
        },
        {
          "name": "stderr",
          "output_type": "stream",
          "text": [
            "100%|██████████| 1/1 [00:00<00:00,  3.02it/s]\n"
          ]
        },
        {
          "name": "stdout",
          "output_type": "stream",
          "text": [
            "Validation Loss: 0.06004\n",
            "======== Epoch 170 / 200 ========\n",
            "Training...\n"
          ]
        },
        {
          "name": "stderr",
          "output_type": "stream",
          "text": [
            "100%|██████████| 2/2 [00:00<00:00,  2.31it/s]\n"
          ]
        },
        {
          "name": "stdout",
          "output_type": "stream",
          "text": [
            "Average training loss: 0.00654\n",
            "Running Validation...\n"
          ]
        },
        {
          "name": "stderr",
          "output_type": "stream",
          "text": [
            "100%|██████████| 1/1 [00:00<00:00,  3.08it/s]\n"
          ]
        },
        {
          "name": "stdout",
          "output_type": "stream",
          "text": [
            "Validation Loss: 0.06004\n",
            "======== Epoch 171 / 200 ========\n",
            "Training...\n"
          ]
        },
        {
          "name": "stderr",
          "output_type": "stream",
          "text": [
            "100%|██████████| 2/2 [00:00<00:00,  2.30it/s]\n"
          ]
        },
        {
          "name": "stdout",
          "output_type": "stream",
          "text": [
            "Average training loss: 0.00666\n",
            "Running Validation...\n"
          ]
        },
        {
          "name": "stderr",
          "output_type": "stream",
          "text": [
            "100%|██████████| 1/1 [00:00<00:00,  3.05it/s]\n"
          ]
        },
        {
          "name": "stdout",
          "output_type": "stream",
          "text": [
            "Validation Loss: 0.06006\n",
            "======== Epoch 172 / 200 ========\n",
            "Training...\n"
          ]
        },
        {
          "name": "stderr",
          "output_type": "stream",
          "text": [
            "100%|██████████| 2/2 [00:00<00:00,  2.31it/s]\n"
          ]
        },
        {
          "name": "stdout",
          "output_type": "stream",
          "text": [
            "Average training loss: 0.00672\n",
            "Running Validation...\n"
          ]
        },
        {
          "name": "stderr",
          "output_type": "stream",
          "text": [
            "100%|██████████| 1/1 [00:00<00:00,  3.11it/s]\n"
          ]
        },
        {
          "name": "stdout",
          "output_type": "stream",
          "text": [
            "Validation Loss: 0.06007\n",
            "======== Epoch 173 / 200 ========\n",
            "Training...\n"
          ]
        },
        {
          "name": "stderr",
          "output_type": "stream",
          "text": [
            "100%|██████████| 2/2 [00:00<00:00,  2.33it/s]\n"
          ]
        },
        {
          "name": "stdout",
          "output_type": "stream",
          "text": [
            "Average training loss: 0.00500\n",
            "Running Validation...\n"
          ]
        },
        {
          "name": "stderr",
          "output_type": "stream",
          "text": [
            "100%|██████████| 1/1 [00:00<00:00,  3.09it/s]\n"
          ]
        },
        {
          "name": "stdout",
          "output_type": "stream",
          "text": [
            "Validation Loss: 0.06008\n",
            "======== Epoch 174 / 200 ========\n",
            "Training...\n"
          ]
        },
        {
          "name": "stderr",
          "output_type": "stream",
          "text": [
            "100%|██████████| 2/2 [00:00<00:00,  2.27it/s]\n"
          ]
        },
        {
          "name": "stdout",
          "output_type": "stream",
          "text": [
            "Average training loss: 0.00360\n",
            "Running Validation...\n"
          ]
        },
        {
          "name": "stderr",
          "output_type": "stream",
          "text": [
            "100%|██████████| 1/1 [00:00<00:00,  2.96it/s]\n"
          ]
        },
        {
          "name": "stdout",
          "output_type": "stream",
          "text": [
            "Validation Loss: 0.06008\n",
            "======== Epoch 175 / 200 ========\n",
            "Training...\n"
          ]
        },
        {
          "name": "stderr",
          "output_type": "stream",
          "text": [
            "100%|██████████| 2/2 [00:00<00:00,  2.30it/s]\n"
          ]
        },
        {
          "name": "stdout",
          "output_type": "stream",
          "text": [
            "Average training loss: 0.00491\n",
            "Running Validation...\n"
          ]
        },
        {
          "name": "stderr",
          "output_type": "stream",
          "text": [
            "100%|██████████| 1/1 [00:00<00:00,  2.62it/s]\n"
          ]
        },
        {
          "name": "stdout",
          "output_type": "stream",
          "text": [
            "Validation Loss: 0.06007\n",
            "======== Epoch 176 / 200 ========\n",
            "Training...\n"
          ]
        },
        {
          "name": "stderr",
          "output_type": "stream",
          "text": [
            "100%|██████████| 2/2 [00:01<00:00,  1.86it/s]\n"
          ]
        },
        {
          "name": "stdout",
          "output_type": "stream",
          "text": [
            "Average training loss: 0.00605\n",
            "Running Validation...\n"
          ]
        },
        {
          "name": "stderr",
          "output_type": "stream",
          "text": [
            "100%|██████████| 1/1 [00:00<00:00,  2.00it/s]\n"
          ]
        },
        {
          "name": "stdout",
          "output_type": "stream",
          "text": [
            "Validation Loss: 0.06007\n",
            "======== Epoch 177 / 200 ========\n",
            "Training...\n"
          ]
        },
        {
          "name": "stderr",
          "output_type": "stream",
          "text": [
            "100%|██████████| 2/2 [00:01<00:00,  1.94it/s]\n"
          ]
        },
        {
          "name": "stdout",
          "output_type": "stream",
          "text": [
            "Average training loss: 0.00356\n",
            "Running Validation...\n"
          ]
        },
        {
          "name": "stderr",
          "output_type": "stream",
          "text": [
            "100%|██████████| 1/1 [00:00<00:00,  2.14it/s]\n"
          ]
        },
        {
          "name": "stdout",
          "output_type": "stream",
          "text": [
            "Validation Loss: 0.06006\n",
            "======== Epoch 178 / 200 ========\n",
            "Training...\n"
          ]
        },
        {
          "name": "stderr",
          "output_type": "stream",
          "text": [
            "100%|██████████| 2/2 [00:01<00:00,  1.86it/s]\n"
          ]
        },
        {
          "name": "stdout",
          "output_type": "stream",
          "text": [
            "Average training loss: 0.00539\n",
            "Running Validation...\n"
          ]
        },
        {
          "name": "stderr",
          "output_type": "stream",
          "text": [
            "100%|██████████| 1/1 [00:00<00:00,  3.06it/s]\n"
          ]
        },
        {
          "name": "stdout",
          "output_type": "stream",
          "text": [
            "Validation Loss: 0.06006\n",
            "======== Epoch 179 / 200 ========\n",
            "Training...\n"
          ]
        },
        {
          "name": "stderr",
          "output_type": "stream",
          "text": [
            "100%|██████████| 2/2 [00:00<00:00,  2.36it/s]\n"
          ]
        },
        {
          "name": "stdout",
          "output_type": "stream",
          "text": [
            "Average training loss: 0.00677\n",
            "Running Validation...\n"
          ]
        },
        {
          "name": "stderr",
          "output_type": "stream",
          "text": [
            "100%|██████████| 1/1 [00:00<00:00,  3.11it/s]\n"
          ]
        },
        {
          "name": "stdout",
          "output_type": "stream",
          "text": [
            "Validation Loss: 0.06005\n",
            "======== Epoch 180 / 200 ========\n",
            "Training...\n"
          ]
        },
        {
          "name": "stderr",
          "output_type": "stream",
          "text": [
            "100%|██████████| 2/2 [00:00<00:00,  2.30it/s]\n"
          ]
        },
        {
          "name": "stdout",
          "output_type": "stream",
          "text": [
            "Average training loss: 0.00492\n",
            "Running Validation...\n"
          ]
        },
        {
          "name": "stderr",
          "output_type": "stream",
          "text": [
            "100%|██████████| 1/1 [00:00<00:00,  3.13it/s]\n"
          ]
        },
        {
          "name": "stdout",
          "output_type": "stream",
          "text": [
            "Validation Loss: 0.06005\n",
            "======== Epoch 181 / 200 ========\n",
            "Training...\n"
          ]
        },
        {
          "name": "stderr",
          "output_type": "stream",
          "text": [
            "100%|██████████| 2/2 [00:00<00:00,  2.33it/s]\n"
          ]
        },
        {
          "name": "stdout",
          "output_type": "stream",
          "text": [
            "Average training loss: 0.00409\n",
            "Running Validation...\n"
          ]
        },
        {
          "name": "stderr",
          "output_type": "stream",
          "text": [
            "100%|██████████| 1/1 [00:00<00:00,  3.01it/s]\n"
          ]
        },
        {
          "name": "stdout",
          "output_type": "stream",
          "text": [
            "Validation Loss: 0.06006\n",
            "======== Epoch 182 / 200 ========\n",
            "Training...\n"
          ]
        },
        {
          "name": "stderr",
          "output_type": "stream",
          "text": [
            "100%|██████████| 2/2 [00:00<00:00,  2.31it/s]\n"
          ]
        },
        {
          "name": "stdout",
          "output_type": "stream",
          "text": [
            "Average training loss: 0.00479\n",
            "Running Validation...\n"
          ]
        },
        {
          "name": "stderr",
          "output_type": "stream",
          "text": [
            "100%|██████████| 1/1 [00:00<00:00,  3.04it/s]\n"
          ]
        },
        {
          "name": "stdout",
          "output_type": "stream",
          "text": [
            "Validation Loss: 0.06006\n",
            "======== Epoch 183 / 200 ========\n",
            "Training...\n"
          ]
        },
        {
          "name": "stderr",
          "output_type": "stream",
          "text": [
            "100%|██████████| 2/2 [00:00<00:00,  2.34it/s]\n"
          ]
        },
        {
          "name": "stdout",
          "output_type": "stream",
          "text": [
            "Average training loss: 0.00436\n",
            "Running Validation...\n"
          ]
        },
        {
          "name": "stderr",
          "output_type": "stream",
          "text": [
            "100%|██████████| 1/1 [00:00<00:00,  3.15it/s]\n"
          ]
        },
        {
          "name": "stdout",
          "output_type": "stream",
          "text": [
            "Validation Loss: 0.06007\n",
            "======== Epoch 184 / 200 ========\n",
            "Training...\n"
          ]
        },
        {
          "name": "stderr",
          "output_type": "stream",
          "text": [
            "100%|██████████| 2/2 [00:00<00:00,  2.35it/s]\n"
          ]
        },
        {
          "name": "stdout",
          "output_type": "stream",
          "text": [
            "Average training loss: 0.00378\n",
            "Running Validation...\n"
          ]
        },
        {
          "name": "stderr",
          "output_type": "stream",
          "text": [
            "100%|██████████| 1/1 [00:00<00:00,  2.92it/s]\n"
          ]
        },
        {
          "name": "stdout",
          "output_type": "stream",
          "text": [
            "Validation Loss: 0.06007\n",
            "======== Epoch 185 / 200 ========\n",
            "Training...\n"
          ]
        },
        {
          "name": "stderr",
          "output_type": "stream",
          "text": [
            "100%|██████████| 2/2 [00:00<00:00,  2.33it/s]\n"
          ]
        },
        {
          "name": "stdout",
          "output_type": "stream",
          "text": [
            "Average training loss: 0.00507\n",
            "Running Validation...\n"
          ]
        },
        {
          "name": "stderr",
          "output_type": "stream",
          "text": [
            "100%|██████████| 1/1 [00:00<00:00,  3.15it/s]\n"
          ]
        },
        {
          "name": "stdout",
          "output_type": "stream",
          "text": [
            "Validation Loss: 0.06007\n",
            "======== Epoch 186 / 200 ========\n",
            "Training...\n"
          ]
        },
        {
          "name": "stderr",
          "output_type": "stream",
          "text": [
            "100%|██████████| 2/2 [00:00<00:00,  2.32it/s]\n"
          ]
        },
        {
          "name": "stdout",
          "output_type": "stream",
          "text": [
            "Average training loss: 0.00570\n",
            "Running Validation...\n"
          ]
        },
        {
          "name": "stderr",
          "output_type": "stream",
          "text": [
            "100%|██████████| 1/1 [00:00<00:00,  2.22it/s]\n"
          ]
        },
        {
          "name": "stdout",
          "output_type": "stream",
          "text": [
            "Validation Loss: 0.06008\n",
            "======== Epoch 187 / 200 ========\n",
            "Training...\n"
          ]
        },
        {
          "name": "stderr",
          "output_type": "stream",
          "text": [
            "100%|██████████| 2/2 [00:01<00:00,  1.84it/s]\n"
          ]
        },
        {
          "name": "stdout",
          "output_type": "stream",
          "text": [
            "Average training loss: 0.00593\n",
            "Running Validation...\n"
          ]
        },
        {
          "name": "stderr",
          "output_type": "stream",
          "text": [
            "100%|██████████| 1/1 [00:00<00:00,  1.96it/s]\n"
          ]
        },
        {
          "name": "stdout",
          "output_type": "stream",
          "text": [
            "Validation Loss: 0.06008\n",
            "======== Epoch 188 / 200 ========\n",
            "Training...\n"
          ]
        },
        {
          "name": "stderr",
          "output_type": "stream",
          "text": [
            "100%|██████████| 2/2 [00:01<00:00,  1.86it/s]\n"
          ]
        },
        {
          "name": "stdout",
          "output_type": "stream",
          "text": [
            "Average training loss: 0.00450\n",
            "Running Validation...\n"
          ]
        },
        {
          "name": "stderr",
          "output_type": "stream",
          "text": [
            "100%|██████████| 1/1 [00:00<00:00,  2.01it/s]\n"
          ]
        },
        {
          "name": "stdout",
          "output_type": "stream",
          "text": [
            "Validation Loss: 0.06009\n",
            "======== Epoch 189 / 200 ========\n",
            "Training...\n"
          ]
        },
        {
          "name": "stderr",
          "output_type": "stream",
          "text": [
            "100%|██████████| 2/2 [00:00<00:00,  2.02it/s]\n"
          ]
        },
        {
          "name": "stdout",
          "output_type": "stream",
          "text": [
            "Average training loss: 0.00641\n",
            "Running Validation...\n"
          ]
        },
        {
          "name": "stderr",
          "output_type": "stream",
          "text": [
            "100%|██████████| 1/1 [00:00<00:00,  3.01it/s]\n"
          ]
        },
        {
          "name": "stdout",
          "output_type": "stream",
          "text": [
            "Validation Loss: 0.06009\n",
            "======== Epoch 190 / 200 ========\n",
            "Training...\n"
          ]
        },
        {
          "name": "stderr",
          "output_type": "stream",
          "text": [
            "100%|██████████| 2/2 [00:00<00:00,  2.32it/s]\n"
          ]
        },
        {
          "name": "stdout",
          "output_type": "stream",
          "text": [
            "Average training loss: 0.00500\n",
            "Running Validation...\n"
          ]
        },
        {
          "name": "stderr",
          "output_type": "stream",
          "text": [
            "100%|██████████| 1/1 [00:00<00:00,  3.04it/s]\n"
          ]
        },
        {
          "name": "stdout",
          "output_type": "stream",
          "text": [
            "Validation Loss: 0.06009\n",
            "======== Epoch 191 / 200 ========\n",
            "Training...\n"
          ]
        },
        {
          "name": "stderr",
          "output_type": "stream",
          "text": [
            "100%|██████████| 2/2 [00:00<00:00,  2.36it/s]\n"
          ]
        },
        {
          "name": "stdout",
          "output_type": "stream",
          "text": [
            "Average training loss: 0.00335\n",
            "Running Validation...\n"
          ]
        },
        {
          "name": "stderr",
          "output_type": "stream",
          "text": [
            "100%|██████████| 1/1 [00:00<00:00,  2.83it/s]\n"
          ]
        },
        {
          "name": "stdout",
          "output_type": "stream",
          "text": [
            "Validation Loss: 0.06009\n",
            "======== Epoch 192 / 200 ========\n",
            "Training...\n"
          ]
        },
        {
          "name": "stderr",
          "output_type": "stream",
          "text": [
            "100%|██████████| 2/2 [00:00<00:00,  2.32it/s]\n"
          ]
        },
        {
          "name": "stdout",
          "output_type": "stream",
          "text": [
            "Average training loss: 0.00415\n",
            "Running Validation...\n"
          ]
        },
        {
          "name": "stderr",
          "output_type": "stream",
          "text": [
            "100%|██████████| 1/1 [00:00<00:00,  2.96it/s]\n"
          ]
        },
        {
          "name": "stdout",
          "output_type": "stream",
          "text": [
            "Validation Loss: 0.06009\n",
            "======== Epoch 193 / 200 ========\n",
            "Training...\n"
          ]
        },
        {
          "name": "stderr",
          "output_type": "stream",
          "text": [
            "100%|██████████| 2/2 [00:00<00:00,  2.28it/s]\n"
          ]
        },
        {
          "name": "stdout",
          "output_type": "stream",
          "text": [
            "Average training loss: 0.00544\n",
            "Running Validation...\n"
          ]
        },
        {
          "name": "stderr",
          "output_type": "stream",
          "text": [
            "100%|██████████| 1/1 [00:00<00:00,  3.05it/s]\n"
          ]
        },
        {
          "name": "stdout",
          "output_type": "stream",
          "text": [
            "Validation Loss: 0.06009\n",
            "======== Epoch 194 / 200 ========\n",
            "Training...\n"
          ]
        },
        {
          "name": "stderr",
          "output_type": "stream",
          "text": [
            "100%|██████████| 2/2 [00:00<00:00,  2.31it/s]\n"
          ]
        },
        {
          "name": "stdout",
          "output_type": "stream",
          "text": [
            "Average training loss: 0.00330\n",
            "Running Validation...\n"
          ]
        },
        {
          "name": "stderr",
          "output_type": "stream",
          "text": [
            "100%|██████████| 1/1 [00:00<00:00,  3.13it/s]\n"
          ]
        },
        {
          "name": "stdout",
          "output_type": "stream",
          "text": [
            "Validation Loss: 0.06009\n",
            "======== Epoch 195 / 200 ========\n",
            "Training...\n"
          ]
        },
        {
          "name": "stderr",
          "output_type": "stream",
          "text": [
            "100%|██████████| 2/2 [00:00<00:00,  2.35it/s]\n"
          ]
        },
        {
          "name": "stdout",
          "output_type": "stream",
          "text": [
            "Average training loss: 0.00306\n",
            "Running Validation...\n"
          ]
        },
        {
          "name": "stderr",
          "output_type": "stream",
          "text": [
            "100%|██████████| 1/1 [00:00<00:00,  3.08it/s]\n"
          ]
        },
        {
          "name": "stdout",
          "output_type": "stream",
          "text": [
            "Validation Loss: 0.06009\n",
            "======== Epoch 196 / 200 ========\n",
            "Training...\n"
          ]
        },
        {
          "name": "stderr",
          "output_type": "stream",
          "text": [
            "100%|██████████| 2/2 [00:00<00:00,  2.35it/s]\n"
          ]
        },
        {
          "name": "stdout",
          "output_type": "stream",
          "text": [
            "Average training loss: 0.00346\n",
            "Running Validation...\n"
          ]
        },
        {
          "name": "stderr",
          "output_type": "stream",
          "text": [
            "100%|██████████| 1/1 [00:00<00:00,  3.15it/s]\n"
          ]
        },
        {
          "name": "stdout",
          "output_type": "stream",
          "text": [
            "Validation Loss: 0.06009\n",
            "======== Epoch 197 / 200 ========\n",
            "Training...\n"
          ]
        },
        {
          "name": "stderr",
          "output_type": "stream",
          "text": [
            "100%|██████████| 2/2 [00:00<00:00,  2.10it/s]\n"
          ]
        },
        {
          "name": "stdout",
          "output_type": "stream",
          "text": [
            "Average training loss: 0.00565\n",
            "Running Validation...\n"
          ]
        },
        {
          "name": "stderr",
          "output_type": "stream",
          "text": [
            "100%|██████████| 1/1 [00:00<00:00,  2.18it/s]\n"
          ]
        },
        {
          "name": "stdout",
          "output_type": "stream",
          "text": [
            "Validation Loss: 0.06009\n",
            "======== Epoch 198 / 200 ========\n",
            "Training...\n"
          ]
        },
        {
          "name": "stderr",
          "output_type": "stream",
          "text": [
            "100%|██████████| 2/2 [00:01<00:00,  1.90it/s]\n"
          ]
        },
        {
          "name": "stdout",
          "output_type": "stream",
          "text": [
            "Average training loss: 0.00360\n",
            "Running Validation...\n"
          ]
        },
        {
          "name": "stderr",
          "output_type": "stream",
          "text": [
            "100%|██████████| 1/1 [00:00<00:00,  2.04it/s]\n"
          ]
        },
        {
          "name": "stdout",
          "output_type": "stream",
          "text": [
            "Validation Loss: 0.06009\n",
            "======== Epoch 199 / 200 ========\n",
            "Training...\n"
          ]
        },
        {
          "name": "stderr",
          "output_type": "stream",
          "text": [
            "100%|██████████| 2/2 [00:01<00:00,  1.89it/s]\n"
          ]
        },
        {
          "name": "stdout",
          "output_type": "stream",
          "text": [
            "Average training loss: 0.00654\n",
            "Running Validation...\n"
          ]
        },
        {
          "name": "stderr",
          "output_type": "stream",
          "text": [
            "100%|██████████| 1/1 [00:00<00:00,  2.12it/s]\n"
          ]
        },
        {
          "name": "stdout",
          "output_type": "stream",
          "text": [
            "Validation Loss: 0.06009\n",
            "======== Epoch 200 / 200 ========\n",
            "Training...\n"
          ]
        },
        {
          "name": "stderr",
          "output_type": "stream",
          "text": [
            "100%|██████████| 2/2 [00:00<00:00,  2.13it/s]\n"
          ]
        },
        {
          "name": "stdout",
          "output_type": "stream",
          "text": [
            "Average training loss: 0.00376\n",
            "Running Validation...\n"
          ]
        },
        {
          "name": "stderr",
          "output_type": "stream",
          "text": [
            "100%|██████████| 1/1 [00:00<00:00,  3.01it/s]"
          ]
        },
        {
          "name": "stdout",
          "output_type": "stream",
          "text": [
            "Validation Loss: 0.06009\n",
            "Training complete!\n"
          ]
        },
        {
          "name": "stderr",
          "output_type": "stream",
          "text": [
            "\n"
          ]
        }
      ],
      "source": [
        "# Launch the training\n",
        "model, training_stats = train()"
      ]
    },
    {
      "cell_type": "code",
      "execution_count": 34,
      "metadata": {
        "colab": {
          "base_uri": "https://localhost:8080/"
        },
        "id": "sZiLalIA95ls",
        "outputId": "cd89754b-b0ae-4008-ae01-ff26efd65a46"
      },
      "outputs": [
        {
          "data": {
            "text/plain": [
              "[{'epoch': 1,\n",
              "  'train_loss': 0.06224045902490616,\n",
              "  'valid_loss': 0.052172768861055374},\n",
              " {'epoch': 2,\n",
              "  'train_loss': 0.03894537687301636,\n",
              "  'valid_loss': 0.052306003868579865},\n",
              " {'epoch': 3,\n",
              "  'train_loss': 0.05059681460261345,\n",
              "  'valid_loss': 0.052434056997299194},\n",
              " {'epoch': 4,\n",
              "  'train_loss': 0.05698549561202526,\n",
              "  'valid_loss': 0.0526498407125473},\n",
              " {'epoch': 5,\n",
              "  'train_loss': 0.06176658719778061,\n",
              "  'valid_loss': 0.05285392701625824},\n",
              " {'epoch': 6,\n",
              "  'train_loss': 0.04630063287913799,\n",
              "  'valid_loss': 0.05301505699753761},\n",
              " {'epoch': 7,\n",
              "  'train_loss': 0.0436662957072258,\n",
              "  'valid_loss': 0.053281933069229126},\n",
              " {'epoch': 8,\n",
              "  'train_loss': 0.04673873074352741,\n",
              "  'valid_loss': 0.05353342369198799},\n",
              " {'epoch': 9,\n",
              "  'train_loss': 0.03286355268210173,\n",
              "  'valid_loss': 0.05361923575401306},\n",
              " {'epoch': 10,\n",
              "  'train_loss': 0.05660043656826019,\n",
              "  'valid_loss': 0.053663626313209534},\n",
              " {'epoch': 11,\n",
              "  'train_loss': 0.035380296409130096,\n",
              "  'valid_loss': 0.05364181101322174},\n",
              " {'epoch': 12,\n",
              "  'train_loss': 0.048216016963124275,\n",
              "  'valid_loss': 0.05361032485961914},\n",
              " {'epoch': 13,\n",
              "  'train_loss': 0.030084253288805485,\n",
              "  'valid_loss': 0.05354867875576019},\n",
              " {'epoch': 14,\n",
              "  'train_loss': 0.025626241462305188,\n",
              "  'valid_loss': 0.05349893122911453},\n",
              " {'epoch': 15,\n",
              "  'train_loss': 0.03281613998115063,\n",
              "  'valid_loss': 0.053476665169000626},\n",
              " {'epoch': 16,\n",
              "  'train_loss': 0.022691382793709636,\n",
              "  'valid_loss': 0.05348905920982361},\n",
              " {'epoch': 17,\n",
              "  'train_loss': 0.03599593602120876,\n",
              "  'valid_loss': 0.05346070975065231},\n",
              " {'epoch': 18,\n",
              "  'train_loss': 0.02166779595427215,\n",
              "  'valid_loss': 0.053397566080093384},\n",
              " {'epoch': 19,\n",
              "  'train_loss': 0.02932082489132881,\n",
              "  'valid_loss': 0.05340626463294029},\n",
              " {'epoch': 20,\n",
              "  'train_loss': 0.030742675065994263,\n",
              "  'valid_loss': 0.05352471023797989},\n",
              " {'epoch': 21,\n",
              "  'train_loss': 0.03711174614727497,\n",
              "  'valid_loss': 0.0537165105342865},\n",
              " {'epoch': 22,\n",
              "  'train_loss': 0.03919943980872631,\n",
              "  'valid_loss': 0.053916655480861664},\n",
              " {'epoch': 23,\n",
              "  'train_loss': 0.027612119913101196,\n",
              "  'valid_loss': 0.05410338193178177},\n",
              " {'epoch': 24,\n",
              "  'train_loss': 0.03356471098959446,\n",
              "  'valid_loss': 0.054325200617313385},\n",
              " {'epoch': 25,\n",
              "  'train_loss': 0.03203505836427212,\n",
              "  'valid_loss': 0.054506510496139526},\n",
              " {'epoch': 26,\n",
              "  'train_loss': 0.03216734156012535,\n",
              "  'valid_loss': 0.05462926626205444},\n",
              " {'epoch': 27,\n",
              "  'train_loss': 0.033492887392640114,\n",
              "  'valid_loss': 0.054748132824897766},\n",
              " {'epoch': 28,\n",
              "  'train_loss': 0.03200532682240009,\n",
              "  'valid_loss': 0.05491146445274353},\n",
              " {'epoch': 29,\n",
              "  'train_loss': 0.017330143135041,\n",
              "  'valid_loss': 0.05504147335886955},\n",
              " {'epoch': 30,\n",
              "  'train_loss': 0.02561983559280634,\n",
              "  'valid_loss': 0.05513452738523483},\n",
              " {'epoch': 31,\n",
              "  'train_loss': 0.017588673159480095,\n",
              "  'valid_loss': 0.055228546261787415},\n",
              " {'epoch': 32,\n",
              "  'train_loss': 0.035688795149326324,\n",
              "  'valid_loss': 0.05530466139316559},\n",
              " {'epoch': 33,\n",
              "  'train_loss': 0.02131222514435649,\n",
              "  'valid_loss': 0.0553378090262413},\n",
              " {'epoch': 34,\n",
              "  'train_loss': 0.016145422123372555,\n",
              "  'valid_loss': 0.0553242452442646},\n",
              " {'epoch': 35,\n",
              "  'train_loss': 0.031263260170817375,\n",
              "  'valid_loss': 0.05533202737569809},\n",
              " {'epoch': 36,\n",
              "  'train_loss': 0.021458539180457592,\n",
              "  'valid_loss': 0.05544430762529373},\n",
              " {'epoch': 37,\n",
              "  'train_loss': 0.022194609977304935,\n",
              "  'valid_loss': 0.055602073669433594},\n",
              " {'epoch': 38,\n",
              "  'train_loss': 0.027991902083158493,\n",
              "  'valid_loss': 0.05579809844493866},\n",
              " {'epoch': 39,\n",
              "  'train_loss': 0.018077963031828403,\n",
              "  'valid_loss': 0.05600712448358536},\n",
              " {'epoch': 40,\n",
              "  'train_loss': 0.025523383170366287,\n",
              "  'valid_loss': 0.0561697855591774},\n",
              " {'epoch': 41,\n",
              "  'train_loss': 0.0228632353246212,\n",
              "  'valid_loss': 0.0563691183924675},\n",
              " {'epoch': 42,\n",
              "  'train_loss': 0.023903186433017254,\n",
              "  'valid_loss': 0.05655531585216522},\n",
              " {'epoch': 43,\n",
              "  'train_loss': 0.018138316459953785,\n",
              "  'valid_loss': 0.05668816715478897},\n",
              " {'epoch': 44,\n",
              "  'train_loss': 0.018450576812028885,\n",
              "  'valid_loss': 0.05679755657911301},\n",
              " {'epoch': 45,\n",
              "  'train_loss': 0.01872359961271286,\n",
              "  'valid_loss': 0.0568481907248497},\n",
              " {'epoch': 46,\n",
              "  'train_loss': 0.015731334686279297,\n",
              "  'valid_loss': 0.05684610456228256},\n",
              " {'epoch': 47,\n",
              "  'train_loss': 0.03087102249264717,\n",
              "  'valid_loss': 0.05685083568096161},\n",
              " {'epoch': 48,\n",
              "  'train_loss': 0.014418215490877628,\n",
              "  'valid_loss': 0.05687045305967331},\n",
              " {'epoch': 49,\n",
              "  'train_loss': 0.014361224370077252,\n",
              "  'valid_loss': 0.056886523962020874},\n",
              " {'epoch': 50,\n",
              "  'train_loss': 0.01010008726734668,\n",
              "  'valid_loss': 0.05693487823009491},\n",
              " {'epoch': 51,\n",
              "  'train_loss': 0.016911583486944437,\n",
              "  'valid_loss': 0.05699212849140167},\n",
              " {'epoch': 52,\n",
              "  'train_loss': 0.01152409365749918,\n",
              "  'valid_loss': 0.05704846605658531},\n",
              " {'epoch': 53,\n",
              "  'train_loss': 0.02089440729469061,\n",
              "  'valid_loss': 0.05709615349769592},\n",
              " {'epoch': 54,\n",
              "  'train_loss': 0.011037899879738688,\n",
              "  'valid_loss': 0.05710442364215851},\n",
              " {'epoch': 55,\n",
              "  'train_loss': 0.014306530822068453,\n",
              "  'valid_loss': 0.057074859738349915},\n",
              " {'epoch': 56,\n",
              "  'train_loss': 0.013507967814803123,\n",
              "  'valid_loss': 0.057039663195610046},\n",
              " {'epoch': 57,\n",
              "  'train_loss': 0.008980428101494908,\n",
              "  'valid_loss': 0.05698831379413605},\n",
              " {'epoch': 58,\n",
              "  'train_loss': 0.012049666605889797,\n",
              "  'valid_loss': 0.05695045366883278},\n",
              " {'epoch': 59,\n",
              "  'train_loss': 0.01520584849640727,\n",
              "  'valid_loss': 0.05694896727800369},\n",
              " {'epoch': 60,\n",
              "  'train_loss': 0.014096769504249096,\n",
              "  'valid_loss': 0.05699422210454941},\n",
              " {'epoch': 61,\n",
              "  'train_loss': 0.00899356574518606,\n",
              "  'valid_loss': 0.05702478438615799},\n",
              " {'epoch': 62,\n",
              "  'train_loss': 0.019773070700466633,\n",
              "  'valid_loss': 0.057066306471824646},\n",
              " {'epoch': 63,\n",
              "  'train_loss': 0.01985012087970972,\n",
              "  'valid_loss': 0.057118866592645645},\n",
              " {'epoch': 64,\n",
              "  'train_loss': 0.013803906738758087,\n",
              "  'valid_loss': 0.057156212627887726},\n",
              " {'epoch': 65,\n",
              "  'train_loss': 0.00990808624192141,\n",
              "  'valid_loss': 0.057168930768966675},\n",
              " {'epoch': 66,\n",
              "  'train_loss': 0.01770204585045576,\n",
              "  'valid_loss': 0.05719197541475296},\n",
              " {'epoch': 67,\n",
              "  'train_loss': 0.012696515303105116,\n",
              "  'valid_loss': 0.05722466856241226},\n",
              " {'epoch': 68,\n",
              "  'train_loss': 0.012044304748997092,\n",
              "  'valid_loss': 0.057261332869529724},\n",
              " {'epoch': 69,\n",
              "  'train_loss': 0.014772181864827871,\n",
              "  'valid_loss': 0.05731762945652008},\n",
              " {'epoch': 70,\n",
              "  'train_loss': 0.013740932568907738,\n",
              "  'valid_loss': 0.05737272650003433},\n",
              " {'epoch': 71,\n",
              "  'train_loss': 0.014405879657715559,\n",
              "  'valid_loss': 0.057392217218875885},\n",
              " {'epoch': 72,\n",
              "  'train_loss': 0.008442724240012467,\n",
              "  'valid_loss': 0.05742084980010986},\n",
              " {'epoch': 73,\n",
              "  'train_loss': 0.009833475574851036,\n",
              "  'valid_loss': 0.05741003900766373},\n",
              " {'epoch': 74,\n",
              "  'train_loss': 0.019831120502203703,\n",
              "  'valid_loss': 0.0573982372879982},\n",
              " {'epoch': 75,\n",
              "  'train_loss': 0.012696473859250546,\n",
              "  'valid_loss': 0.057433128356933594},\n",
              " {'epoch': 76,\n",
              "  'train_loss': 0.015388971660286188,\n",
              "  'valid_loss': 0.0574529804289341},\n",
              " {'epoch': 77,\n",
              "  'train_loss': 0.015568421687930822,\n",
              "  'valid_loss': 0.057494960725307465},\n",
              " {'epoch': 78,\n",
              "  'train_loss': 0.010171504691243172,\n",
              "  'valid_loss': 0.05757322162389755},\n",
              " {'epoch': 79,\n",
              "  'train_loss': 0.01709229312837124,\n",
              "  'valid_loss': 0.05764469504356384},\n",
              " {'epoch': 80,\n",
              "  'train_loss': 0.012173488270491362,\n",
              "  'valid_loss': 0.05768440663814545},\n",
              " {'epoch': 81,\n",
              "  'train_loss': 0.011473383288830519,\n",
              "  'valid_loss': 0.05774037539958954},\n",
              " {'epoch': 82,\n",
              "  'train_loss': 0.010978384409099817,\n",
              "  'valid_loss': 0.05784696713089943},\n",
              " {'epoch': 83,\n",
              "  'train_loss': 0.013131263200193644,\n",
              "  'valid_loss': 0.05791735649108887},\n",
              " {'epoch': 84,\n",
              "  'train_loss': 0.009426343254745007,\n",
              "  'valid_loss': 0.058002084493637085},\n",
              " {'epoch': 85,\n",
              "  'train_loss': 0.0050644041621126235,\n",
              "  'valid_loss': 0.058106422424316406},\n",
              " {'epoch': 86,\n",
              "  'train_loss': 0.008142478298395872,\n",
              "  'valid_loss': 0.05817737430334091},\n",
              " {'epoch': 87,\n",
              "  'train_loss': 0.009325303602963686,\n",
              "  'valid_loss': 0.058227211236953735},\n",
              " {'epoch': 88,\n",
              "  'train_loss': 0.012308328412473202,\n",
              "  'valid_loss': 0.058296456933021545},\n",
              " {'epoch': 89,\n",
              "  'train_loss': 0.010058216517791152,\n",
              "  'valid_loss': 0.05840077996253967},\n",
              " {'epoch': 90,\n",
              "  'train_loss': 0.014851315412670374,\n",
              "  'valid_loss': 0.05850358307361603},\n",
              " {'epoch': 91,\n",
              "  'train_loss': 0.011247691232711077,\n",
              "  'valid_loss': 0.0586283877491951},\n",
              " {'epoch': 92,\n",
              "  'train_loss': 0.006610323209315538,\n",
              "  'valid_loss': 0.05876443162560463},\n",
              " {'epoch': 93,\n",
              "  'train_loss': 0.009869723580777645,\n",
              "  'valid_loss': 0.058878615498542786},\n",
              " {'epoch': 94,\n",
              "  'train_loss': 0.005956266424618661,\n",
              "  'valid_loss': 0.058959223330020905},\n",
              " {'epoch': 95,\n",
              "  'train_loss': 0.010533519554883242,\n",
              "  'valid_loss': 0.05900093913078308},\n",
              " {'epoch': 96,\n",
              "  'train_loss': 0.009454337414354086,\n",
              "  'valid_loss': 0.05903021991252899},\n",
              " {'epoch': 97,\n",
              "  'train_loss': 0.011864360887557268,\n",
              "  'valid_loss': 0.05905058607459068},\n",
              " {'epoch': 98,\n",
              "  'train_loss': 0.01238630199804902,\n",
              "  'valid_loss': 0.05905225872993469},\n",
              " {'epoch': 99,\n",
              "  'train_loss': 0.009642502758651972,\n",
              "  'valid_loss': 0.05904305353760719},\n",
              " {'epoch': 100,\n",
              "  'train_loss': 0.007739072199910879,\n",
              "  'valid_loss': 0.059053465723991394},\n",
              " {'epoch': 101,\n",
              "  'train_loss': 0.005999621469527483,\n",
              "  'valid_loss': 0.05904432013630867},\n",
              " {'epoch': 102,\n",
              "  'train_loss': 0.009411245584487915,\n",
              "  'valid_loss': 0.05902464687824249},\n",
              " {'epoch': 103,\n",
              "  'train_loss': 0.00540195545181632,\n",
              "  'valid_loss': 0.059007272124290466},\n",
              " {'epoch': 104,\n",
              "  'train_loss': 0.007111747283488512,\n",
              "  'valid_loss': 0.05899447947740555},\n",
              " {'epoch': 105,\n",
              "  'train_loss': 0.005127055919729173,\n",
              "  'valid_loss': 0.058991603553295135},\n",
              " {'epoch': 106,\n",
              "  'train_loss': 0.006571787176653743,\n",
              "  'valid_loss': 0.058987148106098175},\n",
              " {'epoch': 107,\n",
              "  'train_loss': 0.008502531098201871,\n",
              "  'valid_loss': 0.058985866606235504},\n",
              " {'epoch': 108,\n",
              "  'train_loss': 0.009165025549009442,\n",
              "  'valid_loss': 0.05899018794298172},\n",
              " {'epoch': 109,\n",
              "  'train_loss': 0.006538153393194079,\n",
              "  'valid_loss': 0.05901145190000534},\n",
              " {'epoch': 110,\n",
              "  'train_loss': 0.010290123522281647,\n",
              "  'valid_loss': 0.05904863029718399},\n",
              " {'epoch': 111,\n",
              "  'train_loss': 0.007712355814874172,\n",
              "  'valid_loss': 0.05909310281276703},\n",
              " {'epoch': 112,\n",
              "  'train_loss': 0.006097218720242381,\n",
              "  'valid_loss': 0.05912657082080841},\n",
              " {'epoch': 113,\n",
              "  'train_loss': 0.005975373089313507,\n",
              "  'valid_loss': 0.0591682568192482},\n",
              " {'epoch': 114,\n",
              "  'train_loss': 0.0061111594550311565,\n",
              "  'valid_loss': 0.05919816344976425},\n",
              " {'epoch': 115,\n",
              "  'train_loss': 0.005703539471141994,\n",
              "  'valid_loss': 0.059221599251031876},\n",
              " {'epoch': 116,\n",
              "  'train_loss': 0.0048676610458642244,\n",
              "  'valid_loss': 0.05924752354621887},\n",
              " {'epoch': 117,\n",
              "  'train_loss': 0.007162758149206638,\n",
              "  'valid_loss': 0.059285663068294525},\n",
              " {'epoch': 118,\n",
              "  'train_loss': 0.005449112853966653,\n",
              "  'valid_loss': 0.059313565492630005},\n",
              " {'epoch': 119,\n",
              "  'train_loss': 0.004907939524855465,\n",
              "  'valid_loss': 0.0593123659491539},\n",
              " {'epoch': 120,\n",
              "  'train_loss': 0.00816498976200819,\n",
              "  'valid_loss': 0.05930805951356888},\n",
              " {'epoch': 121,\n",
              "  'train_loss': 0.0046333057107403874,\n",
              "  'valid_loss': 0.05929076671600342},\n",
              " {'epoch': 122,\n",
              "  'train_loss': 0.007399081019684672,\n",
              "  'valid_loss': 0.05922987312078476},\n",
              " {'epoch': 123,\n",
              "  'train_loss': 0.0100361667573452,\n",
              "  'valid_loss': 0.05919668823480606},\n",
              " {'epoch': 124,\n",
              "  'train_loss': 0.009400056675076485,\n",
              "  'valid_loss': 0.05917338654398918},\n",
              " {'epoch': 125,\n",
              "  'train_loss': 0.00520187895745039,\n",
              "  'valid_loss': 0.059153564274311066},\n",
              " {'epoch': 126,\n",
              "  'train_loss': 0.007922484772279859,\n",
              "  'valid_loss': 0.05915693938732147},\n",
              " {'epoch': 127,\n",
              "  'train_loss': 0.007018950534984469,\n",
              "  'valid_loss': 0.05917396396398544},\n",
              " {'epoch': 128,\n",
              "  'train_loss': 0.006798622896894813,\n",
              "  'valid_loss': 0.059194937348365784},\n",
              " {'epoch': 129,\n",
              "  'train_loss': 0.004827130469493568,\n",
              "  'valid_loss': 0.05921363830566406},\n",
              " {'epoch': 130,\n",
              "  'train_loss': 0.009364866418763995,\n",
              "  'valid_loss': 0.059244006872177124},\n",
              " {'epoch': 131,\n",
              "  'train_loss': 0.005482794484123588,\n",
              "  'valid_loss': 0.0592927411198616},\n",
              " {'epoch': 132,\n",
              "  'train_loss': 0.005618062452413142,\n",
              "  'valid_loss': 0.05933839827775955},\n",
              " {'epoch': 133,\n",
              "  'train_loss': 0.006026722490787506,\n",
              "  'valid_loss': 0.059372078627347946},\n",
              " {'epoch': 134,\n",
              "  'train_loss': 0.005269862012937665,\n",
              "  'valid_loss': 0.0593925416469574},\n",
              " {'epoch': 135,\n",
              "  'train_loss': 0.005223067244514823,\n",
              "  'valid_loss': 0.059408385306596756},\n",
              " {'epoch': 136,\n",
              "  'train_loss': 0.0069337773602455854,\n",
              "  'valid_loss': 0.05941777676343918},\n",
              " {'epoch': 137,\n",
              "  'train_loss': 0.004454834503121674,\n",
              "  'valid_loss': 0.059425510466098785},\n",
              " {'epoch': 138,\n",
              "  'train_loss': 0.00639281771145761,\n",
              "  'valid_loss': 0.05944109708070755},\n",
              " {'epoch': 139,\n",
              "  'train_loss': 0.005398598499596119,\n",
              "  'valid_loss': 0.05944102257490158},\n",
              " {'epoch': 140,\n",
              "  'train_loss': 0.004886362235993147,\n",
              "  'valid_loss': 0.05943014472723007},\n",
              " {'epoch': 141,\n",
              "  'train_loss': 0.006360631436109543,\n",
              "  'valid_loss': 0.05942989140748978},\n",
              " {'epoch': 142,\n",
              "  'train_loss': 0.004117518314160407,\n",
              "  'valid_loss': 0.059436649084091187},\n",
              " {'epoch': 143,\n",
              "  'train_loss': 0.005709031829610467,\n",
              "  'valid_loss': 0.0594373494386673},\n",
              " {'epoch': 144,\n",
              "  'train_loss': 0.006554536521434784,\n",
              "  'valid_loss': 0.05944652110338211},\n",
              " {'epoch': 145,\n",
              "  'train_loss': 0.00805368972942233,\n",
              "  'valid_loss': 0.059482015669345856},\n",
              " {'epoch': 146,\n",
              "  'train_loss': 0.006293092854321003,\n",
              "  'valid_loss': 0.0595255047082901},\n",
              " {'epoch': 147,\n",
              "  'train_loss': 0.006982163991779089,\n",
              "  'valid_loss': 0.05956653878092766},\n",
              " {'epoch': 148,\n",
              "  'train_loss': 0.004085142631083727,\n",
              "  'valid_loss': 0.05959966406226158},\n",
              " {'epoch': 149,\n",
              "  'train_loss': 0.007547874702140689,\n",
              "  'valid_loss': 0.05962538346648216},\n",
              " {'epoch': 150,\n",
              "  'train_loss': 0.007477822247892618,\n",
              "  'valid_loss': 0.05964748561382294},\n",
              " {'epoch': 151,\n",
              "  'train_loss': 0.003777367586735636,\n",
              "  'valid_loss': 0.05966176837682724},\n",
              " {'epoch': 152,\n",
              "  'train_loss': 0.003966636024415493,\n",
              "  'valid_loss': 0.059670157730579376},\n",
              " {'epoch': 153,\n",
              "  'train_loss': 0.005164875881746411,\n",
              "  'valid_loss': 0.05969228595495224},\n",
              " {'epoch': 154,\n",
              "  'train_loss': 0.00379948562476784,\n",
              "  'valid_loss': 0.05972808972001076},\n",
              " {'epoch': 155,\n",
              "  'train_loss': 0.004392286064103246,\n",
              "  'valid_loss': 0.05976073816418648},\n",
              " {'epoch': 156,\n",
              "  'train_loss': 0.004469946026802063,\n",
              "  'valid_loss': 0.05978754907846451},\n",
              " {'epoch': 157,\n",
              "  'train_loss': 0.006670083850622177,\n",
              "  'valid_loss': 0.059821274131536484},\n",
              " {'epoch': 158,\n",
              "  'train_loss': 0.005595402559265494,\n",
              "  'valid_loss': 0.05985521152615547},\n",
              " {'epoch': 159,\n",
              "  'train_loss': 0.004732778994366527,\n",
              "  'valid_loss': 0.05988166481256485},\n",
              " {'epoch': 160,\n",
              "  'train_loss': 0.009535203222185373,\n",
              "  'valid_loss': 0.05990412458777428},\n",
              " {'epoch': 161,\n",
              "  'train_loss': 0.008110775612294674,\n",
              "  'valid_loss': 0.059927865862846375},\n",
              " {'epoch': 162,\n",
              "  'train_loss': 0.007039172924123704,\n",
              "  'valid_loss': 0.059948213398456573},\n",
              " {'epoch': 163,\n",
              "  'train_loss': 0.007747001247480512,\n",
              "  'valid_loss': 0.059970494359731674},\n",
              " {'epoch': 164,\n",
              "  'train_loss': 0.005836923839524388,\n",
              "  'valid_loss': 0.05998798459768295},\n",
              " {'epoch': 165,\n",
              "  'train_loss': 0.006323034642264247,\n",
              "  'valid_loss': 0.06000221520662308},\n",
              " {'epoch': 166,\n",
              "  'train_loss': 0.0045779908541589975,\n",
              "  'valid_loss': 0.0600152350962162},\n",
              " {'epoch': 167,\n",
              "  'train_loss': 0.00311040022643283,\n",
              "  'valid_loss': 0.06002449244260788},\n",
              " {'epoch': 168,\n",
              "  'train_loss': 0.004524442134425044,\n",
              "  'valid_loss': 0.06003250181674957},\n",
              " {'epoch': 169,\n",
              "  'train_loss': 0.0032478953362442553,\n",
              "  'valid_loss': 0.06003756448626518},\n",
              " {'epoch': 170,\n",
              "  'train_loss': 0.006544432602822781,\n",
              "  'valid_loss': 0.06004483252763748},\n",
              " {'epoch': 171,\n",
              "  'train_loss': 0.006662220461294055,\n",
              "  'valid_loss': 0.06006038561463356},\n",
              " {'epoch': 172,\n",
              "  'train_loss': 0.0067209964618086815,\n",
              "  'valid_loss': 0.06007310748100281},\n",
              " {'epoch': 173,\n",
              "  'train_loss': 0.005003391532227397,\n",
              "  'valid_loss': 0.06007910519838333},\n",
              " {'epoch': 174,\n",
              "  'train_loss': 0.003603549557738006,\n",
              "  'valid_loss': 0.060076527297496796},\n",
              " {'epoch': 175,\n",
              "  'train_loss': 0.004908297210931778,\n",
              "  'valid_loss': 0.060072652995586395},\n",
              " {'epoch': 176,\n",
              "  'train_loss': 0.006046112626791,\n",
              "  'valid_loss': 0.06006758660078049},\n",
              " {'epoch': 177,\n",
              "  'train_loss': 0.0035551730543375015,\n",
              "  'valid_loss': 0.06006084010004997},\n",
              " {'epoch': 178,\n",
              "  'train_loss': 0.005388851510360837,\n",
              "  'valid_loss': 0.060055941343307495},\n",
              " {'epoch': 179,\n",
              "  'train_loss': 0.0067675004247576,\n",
              "  'valid_loss': 0.060054659843444824},\n",
              " {'epoch': 180,\n",
              "  'train_loss': 0.004924350185319781,\n",
              "  'valid_loss': 0.06005379557609558},\n",
              " {'epoch': 181,\n",
              "  'train_loss': 0.004094348754733801,\n",
              "  'valid_loss': 0.06005723774433136},\n",
              " {'epoch': 182,\n",
              "  'train_loss': 0.004791667219251394,\n",
              "  'valid_loss': 0.060062237083911896},\n",
              " {'epoch': 183,\n",
              "  'train_loss': 0.004356430901680142,\n",
              "  'valid_loss': 0.06006723269820213},\n",
              " {'epoch': 184,\n",
              "  'train_loss': 0.0037779471604153514,\n",
              "  'valid_loss': 0.0600707083940506},\n",
              " {'epoch': 185,\n",
              "  'train_loss': 0.005067960824817419,\n",
              "  'valid_loss': 0.060073234140872955},\n",
              " {'epoch': 186,\n",
              "  'train_loss': 0.0057010657619684935,\n",
              "  'valid_loss': 0.060076743364334106},\n",
              " {'epoch': 187,\n",
              "  'train_loss': 0.005929837701842189,\n",
              "  'valid_loss': 0.060081224888563156},\n",
              " {'epoch': 188,\n",
              "  'train_loss': 0.004499749629758298,\n",
              "  'valid_loss': 0.060085006058216095},\n",
              " {'epoch': 189,\n",
              "  'train_loss': 0.006408506189472973,\n",
              "  'valid_loss': 0.06008802354335785},\n",
              " {'epoch': 190,\n",
              "  'train_loss': 0.004997595911845565,\n",
              "  'valid_loss': 0.06008879095315933},\n",
              " {'epoch': 191,\n",
              "  'train_loss': 0.0033530333857925143,\n",
              "  'valid_loss': 0.060088545083999634},\n",
              " {'epoch': 192,\n",
              "  'train_loss': 0.004154490539804101,\n",
              "  'valid_loss': 0.06008930504322052},\n",
              " {'epoch': 193,\n",
              "  'train_loss': 0.005437088198959827,\n",
              "  'valid_loss': 0.060090743005275726},\n",
              " {'epoch': 194,\n",
              "  'train_loss': 0.003298532115877606,\n",
              "  'valid_loss': 0.06009073555469513},\n",
              " {'epoch': 195,\n",
              "  'train_loss': 0.0030578179575968534,\n",
              "  'valid_loss': 0.060090549290180206},\n",
              " {'epoch': 196,\n",
              "  'train_loss': 0.0034601432853378356,\n",
              "  'valid_loss': 0.06009029969573021},\n",
              " {'epoch': 197,\n",
              "  'train_loss': 0.005654351785778999,\n",
              "  'valid_loss': 0.06009073555469513},\n",
              " {'epoch': 198,\n",
              "  'train_loss': 0.0036041626008227468,\n",
              "  'valid_loss': 0.060091160237789154},\n",
              " {'epoch': 199,\n",
              "  'train_loss': 0.006542636081576347,\n",
              "  'valid_loss': 0.06009180098772049},\n",
              " {'epoch': 200,\n",
              "  'train_loss': 0.0037620997754856944,\n",
              "  'valid_loss': 0.06009213626384735}]"
            ]
          },
          "execution_count": 34,
          "metadata": {},
          "output_type": "execute_result"
        }
      ],
      "source": [
        "training_stats"
      ]
    },
    {
      "cell_type": "code",
      "execution_count": 31,
      "metadata": {
        "id": "Yprs7s9h_H_5"
      },
      "outputs": [],
      "source": [
        "train_loss = []\n",
        "valid_loss = []\n",
        "for i in range(len(training_stats)):\n",
        "    train_loss.append(training_stats[i]['train_loss'])\n",
        "    valid_loss.append(training_stats[i]['valid_loss'])"
      ]
    },
    {
      "cell_type": "code",
      "execution_count": 32,
      "metadata": {
        "colab": {
          "base_uri": "https://localhost:8080/",
          "height": 449
        },
        "id": "b542qWza-agE",
        "outputId": "de36500d-cf49-4204-dd20-b1e78f7dcf61"
      },
      "outputs": [
        {
          "data": {
            "image/png": "[encoded data removed]",
            "text/plain": [
              "<Figure size 640x480 with 1 Axes>"
            ]
          },
          "metadata": {},
          "output_type": "display_data"
        }
      ],
      "source": [
        "# Plot the loss values\n",
        "epochs = range(1, epochs + 1)\n",
        "plt.plot(epochs, train_loss, label='Training Loss')\n",
        "plt.plot(epochs, valid_loss, label='Validation Loss')\n",
        "plt.xlabel('Epoch')\n",
        "plt.ylabel('Loss')\n",
        "plt.legend()\n",
        "plt.show()"
      ]
    },
    {
      "cell_type": "code",
      "execution_count": 33,
      "metadata": {
        "colab": {
          "base_uri": "https://localhost:8080/",
          "height": 993
        },
        "id": "UKBcmUl08nIk",
        "outputId": "41f81a9f-c891-4f22-96b0-957758c816ed"
      },
      "outputs": [
        {
          "data": {
            "text/html": [
              "\n",
              "\n",
              "  <div id=\"df-7ced0525-33d4-4b5e-8ab9-330b6d2768b4\">\n",
              "    <div class=\"colab-df-container\">\n",
              "      <div>\n",
              "<style scoped>\n",
              "    .dataframe tbody tr th:only-of-type {\n",
              "        vertical-align: middle;\n",
              "    }\n",
              "\n",
              "    .dataframe tbody tr th {\n",
              "        vertical-align: top;\n",
              "    }\n",
              "\n",
              "    .dataframe thead th {\n",
              "        text-align: right;\n",
              "    }\n",
              "</style>\n",
              "<table border=\"1\" class=\"dataframe\">\n",
              "  <thead>\n",
              "    <tr style=\"text-align: right;\">\n",
              "      <th></th>\n",
              "      <th>train_loss</th>\n",
              "      <th>valid_loss</th>\n",
              "    </tr>\n",
              "    <tr>\n",
              "      <th>epoch</th>\n",
              "      <th></th>\n",
              "      <th></th>\n",
              "    </tr>\n",
              "  </thead>\n",
              "  <tbody>\n",
              "    <tr>\n",
              "      <th>1</th>\n",
              "      <td>0.062240</td>\n",
              "      <td>0.052173</td>\n",
              "    </tr>\n",
              "    <tr>\n",
              "      <th>2</th>\n",
              "      <td>0.038945</td>\n",
              "      <td>0.052306</td>\n",
              "    </tr>\n",
              "    <tr>\n",
              "      <th>3</th>\n",
              "      <td>0.050597</td>\n",
              "      <td>0.052434</td>\n",
              "    </tr>\n",
              "    <tr>\n",
              "      <th>4</th>\n",
              "      <td>0.056985</td>\n",
              "      <td>0.052650</td>\n",
              "    </tr>\n",
              "    <tr>\n",
              "      <th>5</th>\n",
              "      <td>0.061767</td>\n",
              "      <td>0.052854</td>\n",
              "    </tr>\n",
              "    <tr>\n",
              "      <th>...</th>\n",
              "      <td>...</td>\n",
              "      <td>...</td>\n",
              "    </tr>\n",
              "    <tr>\n",
              "      <th>196</th>\n",
              "      <td>0.003460</td>\n",
              "      <td>0.060090</td>\n",
              "    </tr>\n",
              "    <tr>\n",
              "      <th>197</th>\n",
              "      <td>0.005654</td>\n",
              "      <td>0.060091</td>\n",
              "    </tr>\n",
              "    <tr>\n",
              "      <th>198</th>\n",
              "      <td>0.003604</td>\n",
              "      <td>0.060091</td>\n",
              "    </tr>\n",
              "    <tr>\n",
              "      <th>199</th>\n",
              "      <td>0.006543</td>\n",
              "      <td>0.060092</td>\n",
              "    </tr>\n",
              "    <tr>\n",
              "      <th>200</th>\n",
              "      <td>0.003762</td>\n",
              "      <td>0.060092</td>\n",
              "    </tr>\n",
              "  </tbody>\n",
              "</table>\n",
              "<p>200 rows × 2 columns</p>\n",
              "</div>\n",
              "      <button class=\"colab-df-convert\" onclick=\"convertToInteractive('df-7ced0525-33d4-4b5e-8ab9-330b6d2768b4')\"\n",
              "              title=\"Convert this dataframe to an interactive table.\"\n",
              "              style=\"display:none;\">\n",
              "\n",
              "  <svg xmlns=\"http://www.w3.org/2000/svg\" height=\"24px\"viewBox=\"0 0 24 24\"\n",
              "       width=\"24px\">\n",
              "    <path d=\"M0 0h24v24H0V0z\" fill=\"none\"/>\n",
              "    <path d=\"M18.56 5.44l.94 2.06.94-2.06 2.06-.94-2.06-.94-.94-2.06-.94 2.06-2.06.94zm-11 1L8.5 8.5l.94-2.06 2.06-.94-2.06-.94L8.5 2.5l-.94 2.06-2.06.94zm10 10l.94 2.06.94-2.06 2.06-.94-2.06-.94-.94-2.06-.94 2.06-2.06.94z\"/><path d=\"M17.41 7.96l-1.37-1.37c-.4-.4-.92-.59-1.43-.59-.52 0-1.04.2-1.43.59L10.3 9.45l-7.72 7.72c-.78.78-.78 2.05 0 2.83L4 21.41c.39.39.9.59 1.41.59.51 0 1.02-.2 1.41-.59l7.78-7.78 2.81-2.81c.8-.78.8-2.07 0-2.86zM5.41 20L4 18.59l7.72-7.72 1.47 1.35L5.41 20z\"/>\n",
              "  </svg>\n",
              "      </button>\n",
              "\n",
              "\n",
              "\n",
              "    <div id=\"df-bcae4740-58f3-48d3-b216-a67ee8e206af\">\n",
              "      <button class=\"colab-df-quickchart\" onclick=\"quickchart('df-bcae4740-58f3-48d3-b216-a67ee8e206af')\"\n",
              "              title=\"Suggest charts.\"\n",
              "              style=\"display:none;\">\n",
              "\n",
              "<svg xmlns=\"http://www.w3.org/2000/svg\" height=\"24px\"viewBox=\"0 0 24 24\"\n",
              "     width=\"24px\">\n",
              "    <g>\n",
              "        <path d=\"M19 3H5c-1.1 0-2 .9-2 2v14c0 1.1.9 2 2 2h14c1.1 0 2-.9 2-2V5c0-1.1-.9-2-2-2zM9 17H7v-7h2v7zm4 0h-2V7h2v10zm4 0h-2v-4h2v4z\"/>\n",
              "    </g>\n",
              "</svg>\n",
              "      </button>\n",
              "    </div>\n",
              "\n",
              "<style>\n",
              "  .colab-df-quickchart {\n",
              "    background-color: #E8F0FE;\n",
              "    border: none;\n",
              "    border-radius: 50%;\n",
              "    cursor: pointer;\n",
              "    display: none;\n",
              "    fill: #1967D2;\n",
              "    height: 32px;\n",
              "    padding: 0 0 0 0;\n",
              "    width: 32px;\n",
              "  }\n",
              "\n",
              "  .colab-df-quickchart:hover {\n",
              "    background-color: #E2EBFA;\n",
              "    box-shadow: 0px 1px 2px rgba(60, 64, 67, 0.3), 0px 1px 3px 1px rgba(60, 64, 67, 0.15);\n",
              "    fill: #174EA6;\n",
              "  }\n",
              "\n",
              "  [theme=dark] .colab-df-quickchart {\n",
              "    background-color: #3B4455;\n",
              "    fill: #D2E3FC;\n",
              "  }\n",
              "\n",
              "  [theme=dark] .colab-df-quickchart:hover {\n",
              "    background-color: #434B5C;\n",
              "    box-shadow: 0px 1px 3px 1px rgba(0, 0, 0, 0.15);\n",
              "    filter: drop-shadow(0px 1px 2px rgba(0, 0, 0, 0.3));\n",
              "    fill: #FFFFFF;\n",
              "  }\n",
              "</style>\n",
              "\n",
              "    <script>\n",
              "      async function quickchart(key) {\n",
              "        const containerElement = document.querySelector('#' + key);\n",
              "        const charts = await google.colab.kernel.invokeFunction(\n",
              "            'suggestCharts', [key], {});\n",
              "      }\n",
              "    </script>\n",
              "\n",
              "      <script>\n",
              "\n",
              "function displayQuickchartButton(domScope) {\n",
              "  let quickchartButtonEl =\n",
              "    domScope.querySelector('#df-bcae4740-58f3-48d3-b216-a67ee8e206af button.colab-df-quickchart');\n",
              "  quickchartButtonEl.style.display =\n",
              "    google.colab.kernel.accessAllowed ? 'block' : 'none';\n",
              "}\n",
              "\n",
              "        displayQuickchartButton(document);\n",
              "      </script>\n",
              "      <style>\n",
              "    .colab-df-container {\n",
              "      display:flex;\n",
              "      flex-wrap:wrap;\n",
              "      gap: 12px;\n",
              "    }\n",
              "\n",
              "    .colab-df-convert {\n",
              "      background-color: #E8F0FE;\n",
              "      border: none;\n",
              "      border-radius: 50%;\n",
              "      cursor: pointer;\n",
              "      display: none;\n",
              "      fill: #1967D2;\n",
              "      height: 32px;\n",
              "      padding: 0 0 0 0;\n",
              "      width: 32px;\n",
              "    }\n",
              "\n",
              "    .colab-df-convert:hover {\n",
              "      background-color: #E2EBFA;\n",
              "      box-shadow: 0px 1px 2px rgba(60, 64, 67, 0.3), 0px 1px 3px 1px rgba(60, 64, 67, 0.15);\n",
              "      fill: #174EA6;\n",
              "    }\n",
              "\n",
              "    [theme=dark] .colab-df-convert {\n",
              "      background-color: #3B4455;\n",
              "      fill: #D2E3FC;\n",
              "    }\n",
              "\n",
              "    [theme=dark] .colab-df-convert:hover {\n",
              "      background-color: #434B5C;\n",
              "      box-shadow: 0px 1px 3px 1px rgba(0, 0, 0, 0.15);\n",
              "      filter: drop-shadow(0px 1px 2px rgba(0, 0, 0, 0.3));\n",
              "      fill: #FFFFFF;\n",
              "    }\n",
              "  </style>\n",
              "\n",
              "      <script>\n",
              "        const buttonEl =\n",
              "          document.querySelector('#df-7ced0525-33d4-4b5e-8ab9-330b6d2768b4 button.colab-df-convert');\n",
              "        buttonEl.style.display =\n",
              "          google.colab.kernel.accessAllowed ? 'block' : 'none';\n",
              "\n",
              "        async function convertToInteractive(key) {\n",
              "          const element = document.querySelector('#df-7ced0525-33d4-4b5e-8ab9-330b6d2768b4');\n",
              "          const dataTable =\n",
              "            await google.colab.kernel.invokeFunction('convertToInteractive',\n",
              "                                                     [key], {});\n",
              "          if (!dataTable) return;\n",
              "\n",
              "          const docLinkHtml = 'Like what you see? Visit the ' +\n",
              "            '<a target=\"_blank\" href=https://colab.research.google.com/notebooks/data_table.ipynb>data table notebook</a>'\n",
              "            + ' to learn more about interactive tables.';\n",
              "          element.innerHTML = '';\n",
              "          dataTable['output_type'] = 'display_data';\n",
              "          await google.colab.output.renderOutput(dataTable, element);\n",
              "          const docLink = document.createElement('div');\n",
              "          docLink.innerHTML = docLinkHtml;\n",
              "          element.appendChild(docLink);\n",
              "        }\n",
              "      </script>\n",
              "    </div>\n",
              "  </div>\n"
            ],
            "text/plain": [
              "       train_loss  valid_loss\n",
              "epoch                        \n",
              "1        0.062240    0.052173\n",
              "2        0.038945    0.052306\n",
              "3        0.050597    0.052434\n",
              "4        0.056985    0.052650\n",
              "5        0.061767    0.052854\n",
              "...           ...         ...\n",
              "196      0.003460    0.060090\n",
              "197      0.005654    0.060091\n",
              "198      0.003604    0.060091\n",
              "199      0.006543    0.060092\n",
              "200      0.003762    0.060092\n",
              "\n",
              "[200 rows x 2 columns]"
            ]
          },
          "execution_count": 33,
          "metadata": {},
          "output_type": "execute_result"
        },
        {
          "data": {
            "text/html": [
              "<h4 class=\"colab-quickchart-section-title\">Values</h4>\n",
              "<style>\n",
              "  .colab-quickchart-section-title {\n",
              "      clear: both;\n",
              "  }\n",
              "</style>"
            ],
            "text/plain": [
              "<google.colab._quickchart_helpers.SectionTitle at 0x7c73f6218a60>"
            ]
          },
          "metadata": {},
          "output_type": "display_data"
        },
        {
          "data": {
            "text/html": [
              "      <div class=\"colab-quickchart-chart-with-code\" id=\"chart-18160fce-b35f-420f-8af5-b6cd9270b9b0\">\n",
              "        <img src=\"data:image/png;base64,iVBORw0KGgoAAAANSUhEUgAAAMUAAABgCAYAAACt6batAAAAOXRFWHRTb2Z0d2FyZQBNYXRwbG90\n",
              "bGliIHZlcnNpb24zLjcuMSwgaHR0cHM6Ly9tYXRwbG90bGliLm9yZy/bCgiHAAAACXBIWXMAAA9h\n",
              "AAAPYQGoP6dpAAAT7ElEQVR4nO3de1hVVd7A8e/hcJPLOSCK3GEQsRERREDFDCUpTMOUcd6myVuT\n",
              "l8d5J2e0x+6RvZnOaI7NjEVjhWWTUyJOjk5loCZFBZpkkiEgR7kj96vAgfX+wXjyHJCLIsJxfZ7n\n",
              "PM9hrb0Wa2/9sfbea+21FUIIgSRJOia3ugGSNNjIoJAkAzIoJMmADApJMiCDQpIMyKCQJAMyKCTJ\n",
              "gAwKSTIgg0KSDMigkCQDMigGuZdffpl77rmnX+p64YUXuPPOO/ulLmMmg+ImmTFjBs8+++wN1/P0\n",
              "009z+PDhfmiR1FsyKG6RlpaWW90E6RpkUNwEq1atIiUlhT/96U/Y2NhgY2PDrl27cHNzY8eOHXh5\n",
              "eeHg4ADAjh07GD9+PCqVCicnJxYtWkR5ebmuLsNTnhkzZrBmzRoeeugh1Go17u7uvP7669fVzurq\n",
              "alasWIGbmxsjRoxg9uzZZGVl6fKPHj1KcHAwarUaBwcHpk2bRlVVFQAffvghfn5+qFQqRowYwaxZ\n",
              "s66rDYOSkG6K8PBw8cwzz+h+jo+PF0qlUixfvlzU1dWJhoYGIYQQCQkJIisrS7S1tQmNRiNCQ0PF\n",
              "gw8+qCsXGxsrpk2bplevSqUSycnJoq2tTSQkJAgTExORnZ3dY5sM65o7d66YMWOGKC4uFg0NDWLN\n",
              "mjXCzc1N1NXVCSGEcHFxEW+//bZob28Xzc3NIjU1VdTX14uGhgZhZmYmkpOThRBCNDU16b4bA9lT\n",
              "DLDt27djY2ODlZUVADExMfj6+mJiYoKnpydPPvlkj9cQMTExREREYGJiQkxMDMOHD+fkyZN9akdx\n",
              "cTEHDx5k+/btODk5YWVlxZYtW2hqauLgwYMAmJubk5ubS1FREebm5kydOhVra2sAzMzMOHv2LOXl\n",
              "5VhaWhIREXEdR2NwkkExgBwdHXXBcEViYiJhYWE4OjqiUqlYtGgRlZWVtLW1XbMeFxcXvZ+tra2p\n",
              "q6vrU1vy8/MBGD16tC7NzMwMT09PLl68CMCBAwc4f/48kyZNwsfHh9jYWLRaLVZWVnzyySckJSUx\n",
              "duxY/P39efXVV/v0+wcz01vdAGNlYtL5741hWkFBAQsXLuS9995j/vz5WFpasn//fhYsWIC4yQ9E\n",
              "uru7A5Cbm0tAQAAAWq2Wixcv4uHhAYC/vz/vv/8+ABkZGdx77724ubmxfPlypk+fzvTp0xFC8Pnn\n",
              "nxMVFcW4ceOIjIy8qe0eCLKnuEmcnJw4d+5ct9vU19fT3t7OiBEjsLS0JDs7m02bNg1I+5ydnbnv\n",
              "vvtYt24dpaWlNDU18cQTT2Bubs6cOXNoaWkhPj6eS5cuAaBWq1EqlZiamlJSUsLevXuprq5GoVBg\n",
              "Z2eHQqHA1NQ4/sbKoLhJ1q1bR1ZWFvb29tjZ2XW5zR133MGmTZtYvHgxtra2LFmyhIcffnjA2rh7\n",
              "9268vLwICgrCzc2NzMxMkpKSsLW1BSAhIQE/Pz+sra0JDw9n6dKlLFmyBCEEcXFxeHt7Y2Njwy9+\n",
              "8Qs2btzIzJkzB6ztN5NC3Ox+WpKGGNlTSJIBGRRGZNWqVbrBQsPPldusUs/k6ZMkGZA9hSQZkEEh\n",
              "SQZkUEiSAaMKiq6mGhzOLOGVw1mkayo5f6me6kY5ZVvqnnEMQf7XhQsXOqV9mlnKvm8LyCmr5+Mz\n",
              "JUz+2XA+WDn1FrROGiqMqqfoinqYGQAfnykB4Ju8SgAq6ptp0bbfsnZJg1efgyI7O5uwsDB8fX0J\n",
              "CQkhMzOzy+3eeustxowZw+jRo1m+fDmtra0AHDt2jGHDhhEYGKj7NDU19VjueqmGde4Ms0vrmPRS\n",
              "EgvjUm+obsk49TkoVq5cyYoVKzh37hxPPPEES5cu7bRNXl4ezz33HCkpKeTk5FBaWsrf//53Xf7Y\n",
              "sWPJyMjQfYYNG9arctdDZWnWKW1XqgaA7wpqbqhuyTj1KSjKyso4ceKEbtJaTEwM+fn55OTk6G2X\n",
              "kJBAdHQ0Tk5OKBQKVq1axZ49e3qs/3rLdUc1rHNQlNc3677LsUvJUJ+CIj8/H2dnZ90UYYVCgYeH\n",
              "h+6hlCsuXryIp6en7mcvLy+9bXJzcwkKCiIkJITXXnut1+Wu1tzcTG1trd6nqwdzVJadT59yLzXo\n",
              "vm/49w897bZ0mxnwC+2goCAKCgr49ttv2b9/P3FxcXz44Yd9rmfTpk2o1Wq9T1paWqftuuopcsrq\n",
              "dd93pWqouKrnkKQ+BYW7uzvFxcVotVqg49Tj6ie1rvDw8NC7ParRaHTbqFQq1Go1AG5ubvzqV78i\n",
              "JSWlx3KGnnrqKWpqavQ+oaGhnba7+prC1W5Yl3VVNd7YxbxkXPoUFI6OjgQFBfHee+8BsG/fPtzc\n",
              "3PDx8dHbLiYmhgMHDlBSUqJ7IOXBBx8EOh6Yb2/vuBVaV1fHwYMHmThxYo/lDFlYWKBSqfQ+SqWy\n",
              "03ZX3316bu7Pu6yrskF/QK+1rZ32dnmtcbvq8+nTG2+8wRtvvIGvry+bN28mPj4egEcffZQDBw4A\n",
              "4O3tzYYNG5g2bRo+Pj6MHDmSlStXAh2B5O/vT0BAAFOmTCEyMpJly5b1WO56XX365DXCmoO/67xs\n",
              "5NVBUdXQwr1/Ps59f0mhTQbGbcmopo6vXbuWbdu26aUJIXhgx5c0trTx8ZrpXNa2Mz72U71tXp7v\n",
              "z4XKBhBwubWNd77qOIVLfTICl6tOueK/zMPc1IRfT/ZEMl5GNc2jKwqFgsTV0wBQmiiwUXbuHF87\n",
              "lkNBVccAooO1uS591rbPmTnWERc7Sx6d7q27UzV/oitW5kZ/6G5bAz6ifeTIEUJDQxk3bhx+fn6s\n",
              "X79ed42h0WhQKpV6o925ubk3sHsdlCYKlCaKa+ZfCQiAiqtOpRpb2jj0fTE7U/LY9J+zuvTIbcd5\n",
              "578DgIb+diT7mnnS0DDgI9r29vb885//5IcffuDkyZOkpqby7rvv6sra2trqjXZfvVhXf/nXb6fx\n",
              "/NxxPH3fHb0uk/xjme57YXUTsQcyefcrjd5AYH5lI1sPnyP2QKacVzWEDfiI9sSJE/H29gbA0tKS\n",
              "wMBANBpNP+xK7wW62/HInT8j9GcOXeaPsLHQfX9zcTAAdZe1nbZ7/qNMgl9KIqukY3W+qy/YKxrk\n",
              "2MdQdUtGtK8oKSkhISGBuXPn6tIaGhoICQkhKCiIF1988ZrLR/Z2RLs7AW7qLtM//f10fj3Zg8N/\n",
              "uItRKsse67l3+3H+8EEGl+p+CoSKevncxlB1y6aO19bWcv/997N+/XqCgzv+Gjs7O1NYWEh6ejpJ\n",
              "SUmkpKTwyiuvdFm+tyPa3VEoFHz6+7s6pTvYWLBxvj++o2xxVFl0UbKz/acK+fZile7nS/XNlNVd\n",
              "ZuOhH9CUN+htW3u5lezSui7HQi63tlHTJAcTb6UBH9GGjkG7qKgo5s2bx9q1a3XpFhYWODo6AjB8\n",
              "+HAeeeQR3Wi3od6OaPdkrJMt//7fO3FRd/QI66PG6uVffTeqJ68d++mmQHldM+sTTrMzJY/fvJOu\n",
              "S29s0TJjyzEi/3yc7cnZnC6o1qtj8VtpzNhyVHcqZkR3zIeMAR/Rrq+vJyoqiqioqE6vvyorK9Pd\n",
              "pWpubiYxMVE32m2otyPaveHvpib1qbs5s+FeVs/Q3xfTLm7hAvxhlq/u+3hXVaf87UnZHMvqWIf1\n",
              "ygTEivpmDmeW6v7D/yU5m+i/fclHGYW0aNtpbNGSpqmkqrGVJW+nEboxibu2HO2y56hpbEXbJi/m\n",
              "b4Y+D95lZWWxdOlSKioqUKlUxMfH4+/vz6OPPkp0dDTR0dEA7Ny5k82bNwMdb9+Ji4vDzMyMjRs3\n",
              "8sILL+Dn56erc+HChTzzzDMkJiby/PPPo1Qq0Wq1REREsHXrViwsencK09XgXX/425Fsth4+x1Rv\n",
              "B746XwFA0tpwqhpbyC6tZ26AM29/kcf2pOxr1nHPuFF8V1BNaW3fL8CfnfNzVJZmzPZ3wtbSjOPn\n",
              "LrFsVzq/DHZn0wJ/ANrbBRUNLYy07d2xkq7N6Ee0+1txTRNltc0EuNt1yiuoauSpxO9JyS7vXLAf\n",
              "LJ7qyZhRtjz3rzO6tOR14ZzUVLH5kx+pbGjhxXl+LJ7q1ansd/nV+I6yZZh5595UCEFBVROudsMw\n",
              "6WY853Yhg+JmtOODDBJPFfZ6e1MTBdp+mmelNFHgrLYk3Hck/zdvPDuO5vDKZx2vBLjLdyTvLAtB\n",
              "oVAghEAI+M+ZYlLOlfPBiXzucLJlQ7QfDjbm/PYfp1gZ7s2CILcuf09rWztf5JQT7GmPAC7VNeM9\n",
              "whqF4qegStdUsnL3Seb4O/M/Ie74uaj08gcrGRQ3QU1jK+v2ZjDRw55gT3sKq5t4/qNMLM1MGOtk\n",
              "y5c5FWz7ZQDvfnWB+RNdWRLmhaa8gRlbjwGwc3EwHsOt2Pifs/wuwoe88gbWJ5zul7bNHu/EKJUl\n",
              "//jmAq1tPf/T/+9MH84W15L8YxlTvR3wcbShvllLQVUj6ZoqvW1Xhnvz8GRPrC1MeXLfaQ7/UKqX\n",
              "b2thyju/CUVlacaz//qeqoZWHpjoip+LijNFNXxfUIPK0oyN88ejNFHwTV4lJzSVfFdQQ7CnPQ9N\n",
              "9iCvvAF/VzWfZpaw79tC/F3VPHb3mH45NlfIoBgg+ZWNmClNsLMyQ1PRwB1OnS/OD50uxtbSlLt8\n",
              "R3bKeyrxNHvSOl7Jlfpkx/vlwjYf0eV/9NtpDLc2575XU6hr7jzQaExG2lrojQntXTWVEK/h/Va/\n",
              "nNU2QNyH//Suu64CAmDOBOdrlv9dxBjOFtcRM8lNN3P3yycjOJ1fDaC7xtm3Ooy3v8jjm7xKLtU1\n",
              "szbSlzkTnGlubed0YTXf5VeTWVRLam4F5qYmtGjbsTA1YcdDQexMOc/cABc+OlXIiQtVzPq5Iy1t\n",
              "gq9zK2gxuNPlrLZkQ7QfT+w73e1DWlO8h/P20hA+yiji+Y/O6PVO9we48O/viq5Z1kQBw63NKTcY\n",
              "CL06IKDjLt7u30y+Zj19JXsKifZ20eMFdu3lVixNlZibmnChooGRthZYmZvSom0ns6gGeytz0vIq\n",
              "sbJQYm1uyiQv+04rqdRebuWVT7M4W1zHQ5M9eGCiK8lnS1GaKCiqvkyAu5oRNhZcrGyksqGFETYW\n",
              "TPK0p7FFyxfZ5ZwrrUPbLsgsqsVzuBXDzJVUNLTw+7vH4NiLmQe9ZVRBsWDBAry8vPTS2traSEtL\n",
              "IzQ09LrHMYYSub8dPD09WbNmzXXVaVRB0ZXa2lrUajU1NTWoVF2fthgTub83zuiXzZSkvpJBIUkG\n",
              "ZFBIkgGjDwoLCwtiY2N7PX9qqJP7e+OM/kJbkvrK6HsKSeorGRSSZEAGhSQZMOqg6O0aVUPFY489\n",
              "hpeXFwqFgoyMDF16d/s5lI/B5cuXeeCBB/D19SUgIIDIyEjdyjFlZWVERUUxZswYxo8fz/Hjx3Xl\n",
              "usvrFWHEZs6cKeLj44UQQuzdu1cEBwff2gbdoM8//1zk5+cLT09PcerUKV16d/s5lI9BU1OTOHTo\n",
              "kGhvbxdCCPHXv/5VhIeHCyGEWLZsmYiNjRVCCJGWliZcXV1FS0tLj3m9YbRBUVpaKmxtbUVra6sQ\n",
              "Qoj29nYxatQokZ2dfYtbduOuDoru9tPYjkF6errw9PQUQghhbW0tiouLdXkhISHis88+6zGvN4z2\n",
              "9Km3a1QNdd3tp7Edg1dffZV58+ZRUVFBa2srTk5Ourwra4t1l9db8nkKaUh4+eWXycnJITk5We9t\n",
              "ujeD0fYUvV2jaqjrbj+N5Rhs3bqVxMREPv74Y6ysrHBwcMDU1JSSkhLdNlfWFusur7eMNih6u0bV\n",
              "UNfdfhrDMdi2bRt79uzhs88+w87OTpe+cOFC4uLiAEhPT6ewsJDw8PAe83qlH65/Bq0ff/xRTJky\n",
              "RYwZM0ZMmjRJnD59+lY36YasWLFCuLq6CqVSKRwdHcXo0aOFEN3v51A+Bvn5+QIQ3t7eIiAgQAQE\n",
              "BIjQ0FAhhBAlJSUiMjJS+Pj4iHHjxokjR47oynWX1xty7pMkGTDa0ydJul4yKCTJgAyK29ixY8cI\n",
              "DAy81c0YdGRQSJIBGRSDVHp6OhEREQQHBzNx4kT27t2LRqPBzs6Oxx9/nAkTJuDn50dSUpKuzO7d\n",
              "u5kwYQITJkxgzpw5FBb+tJ7tH//4R733lzc2NgKg1WpZvXo1AQEB+Pn5ceLEiQHf10GnH++gSf2k\n",
              "qqpKBAYGiqKiIiGEEJcuXRLu7u7iiy++EIB48803hRBCfPXVV2LkyJGitrZWfP/992LUqFGioKBA\n",
              "CCHESy+9JKKiooQQQuzatUuEhISI6upqIYQQlZWVQqvViqNHjwqlUim+/vprIYQQr7/+urjnnnsG\n",
              "encHHdlTDEKpqamcP3+e2bNnExgYyKxZs4COd4OYmprq3kg7ZcoUXFxcOHXqFEePHiUqKgpXV1cA\n",
              "Vq9ezZEjR2hra+PgwYOsWrUKtbrjHX/29va6hcN8fHyYPLljycmpU6f2yyuahzo592kQEkLg5+dH\n",
              "amqqXvq13iLb1fL2vV3y3tLyp+Umr7ws53Yne4pBKCwsjLy8PL3rhYyMDFpaWtBqtezevRuAtLQ0\n",
              "ioqKCAwMZObMmXzyyScUFXUsWBwXF8fdd9+NUqkkOjqauLg4ampqAKiuru7zm2RvJ7KnGITs7e05\n",
              "dOgQjz/+OOvWraO1tRUPDw+2b9+OWq3mzJkzBAQEoNVqef/997G1tWX8+PFs2bKFqKgooGOi4M6d\n",
              "OwFYtGgRRUVFhIWFYWpqirW1tV7ASfrkNI8hRKPREBgYSHV19a1uilGTp0+SZED2FJJkQPYUkmRA\n",
              "BoUkGZBBIUkGZFBIkgEZFJJkQAaFJBmQQSFJBmRQSJIBGRSSZOD/AQMcFjFETRJ7AAAAAElFTkSu\n",
              "QmCC\n",
              "\">\n",
              "        \n",
              "      </div>\n",
              "      <script></script>\n",
              "      <script type=\"text/javascript\">\n",
              "        (() => {\n",
              "          const chartElement = document.getElementById(\"chart-18160fce-b35f-420f-8af5-b6cd9270b9b0\");\n",
              "          async function getCodeForChartHandler(event) {\n",
              "            const chartCodeResponse =  await google.colab.kernel.invokeFunction(\n",
              "                'getCodeForChart', [\"chart-18160fce-b35f-420f-8af5-b6cd9270b9b0\"], {});\n",
              "            const responseJson = chartCodeResponse.data['application/json'];\n",
              "            await google.colab.notebook.addCell(responseJson.code, 'code');\n",
              "          }\n",
              "          chartElement.onclick = getCodeForChartHandler;\n",
              "        })();\n",
              "      </script>\n",
              "      <style>\n",
              "        .colab-quickchart-chart-with-code  {\n",
              "            display: block;\n",
              "            float: left;\n",
              "            border: 1px solid transparent;\n",
              "        }\n",
              "\n",
              "        .colab-quickchart-chart-with-code:hover {\n",
              "            cursor: pointer;\n",
              "            border: 1px solid #aaa;\n",
              "        }\n",
              "      </style>"
            ],
            "text/plain": [
              "import numpy as np\n",
              "from google.colab import autoviz\n",
              "df_265328170275662483 = autoviz.get_df('df_265328170275662483')\n",
              "\n",
              "def value_plot(df, y, sort_ascending=False, figsize=(2, 1)):\n",
              "  from matplotlib import pyplot as plt\n",
              "  if sort_ascending:\n",
              "    df = df.sort_values(y).reset_index(drop=True)\n",
              "  _, ax = plt.subplots(figsize=figsize)\n",
              "  df[y].plot(kind='line')\n",
              "  plt.title(y)\n",
              "  ax.spines[['top', 'right',]].set_visible(False)\n",
              "  plt.tight_layout()\n",
              "  return autoviz.MplChart.from_current_mpl_state()\n",
              "\n",
              "chart = value_plot(df_265328170275662483, *['train_loss'], **{})\n",
              "chart"
            ]
          },
          "metadata": {},
          "output_type": "display_data"
        },
        {
          "data": {
            "text/html": [
              "      <div class=\"colab-quickchart-chart-with-code\" id=\"chart-40f0aa74-8996-436f-bd8b-034ec0ea4b7a\">\n",
              "        <img src=\"data:image/png;base64,iVBORw0KGgoAAAANSUhEUgAAAMUAAABgCAYAAACt6batAAAAOXRFWHRTb2Z0d2FyZQBNYXRwbG90\n",
              "bGliIHZlcnNpb24zLjcuMSwgaHR0cHM6Ly9tYXRwbG90bGliLm9yZy/bCgiHAAAACXBIWXMAAA9h\n",
              "AAAPYQGoP6dpAAASi0lEQVR4nO3deVRT174H8O/JyJQEhDAIhBmrUYKIVtGq2FqxreirV1+1zrVq\n",
              "7WBrdT21T1vWs9bWauvTWxFhabVq33V4a/U61AkcqFrQaov6ahEEwmRQSAAJhJDf+wNvKtFCQIYQ\n",
              "92ctFuTscza/fRa/nCE/9uGIiMAwjBmvqwNgGFvDkoJhLLCkYBgLLCkYxgJLCoaxwJKCYSywpGAY\n",
              "CywpGMYCSwqGscCSgmEssKSwQbNmzcK0adPMr5VKJb799tu/XD85ORmBgYFW9R0YGIjk5OQnDdGu\n",
              "Cbo6AKZl169f7+oQnirsSMEwFlhSdICkpCSEhobi4QJkg8EAuVyOgwcPYtWqVQgPD4dEIoG/vz/e\n",
              "ffdd1NTU/GV/lqc8x44dQ79+/eDi4oJRo0ZBrVa3OdYLFy7gueeeg5ubG4KCgrBs2TLU1dUBAIgI\n",
              "q1atgp+fHyQSCfz8/LBixQrzeBYuXAhvb29IJBIEBgZi06ZNbY7DphDT7iorK8nZ2ZnS0tLMy77/\n",
              "/nvy8vIig8FAO3fupPz8fDKZTHTt2jUKCQmhZcuWmdedOXMmvf766+bXAQEBtG3bNiIiys3NJZFI\n",
              "RFu3biWDwUA//fQTeXh4UEBAgFWxPdxXfn4+OTk50VdffUV1dXX0xx9/UJ8+fWjRokVERHT8+HHy\n",
              "9fWl/Px8IiK6d+8enT9/noiIkpKSKDIyksrKyoiIqKSkhC5fvtym/WVr2JGiA0gkEkyePLnJu3ty\n",
              "cjJmzJgBoVCI6dOnQ6FQgOM4KJVKvP322zh+/LhVfe/Zswd9+/bFvHnzIBQKERMTgxkzZrQpzt27\n",
              "dyM8PBzvv/8+RCIRwsLCsHr1aiQlJYGIIBKJUFtbi+vXr0Ov16NHjx4YMmQIAEAkEqG6uho3btxA\n",
              "fX09vL29ERUV1aY4bA1Lig4yd+5cHDhwAFqtFnl5eUhNTcXcuXMBAFu3bkVUVBTc3d0hk8nw0Ucf\n",
              "QaPRWNVvYWEhgoKCmiyzfG0ttVqNkJCQJstCQ0Oh1+tRVlaGESNG4IsvvsDatWvh5eWF4cOH48SJ\n",
              "EwCAadOmYf78+Vi6dCk8PDwwduxYXL58uU1x2BqWFB0kJiYGwcHB2L17N1JSUjB06FCEh4fjwoUL\n",
              "eOedd7B+/XqUlpZCp9Ph008/bXL90Rw/Pz/k5eU1WWb52lr+/v7Izc1tsiwnJweOjo6Qy+UAgDlz\n",
              "5uDMmTMoKyvDhAkTMG7cOFRVVYHP52PJkiX4+eefUVRUhN69e2P8+PFtisPWsKToQG+88Qa2bduG\n",
              "HTt2mI8SOp0OfD4fcrkcQqEQv/zyCzZv3mx1n1OmTEFWVhaSk5NhNBpx8eJF7Ny5s03xTZ06FTdv\n",
              "3sSmTZtgMBiQk5ODlStXYu7cueA4DhkZGTh79iz0ej1EIhEkEgk4jgOfz0dqaiouXboEg8EABwcH\n",
              "uLi4gM/ntykOm9PVFzX2rKysjEQiEclkMqqpqSEiooaGBlq0aBG5u7uTVCqlMWPGUEJCAvn6+pq3\n",
              "a+5Cm4jo8OHDpFQqydnZmWJjY2nVqlVtutAmIkpPT6ehQ4eSTCYjhUJBS5cuJb1eT0REp06dogED\n",
              "BpCLiwtJpVKKjo6mo0ePEhHR3r17zTG4urrS8OHDKSMjo837ypZwRGziAoZ5GDt9YhgLrMzDzri4\n",
              "uDx2uaurKwoLCzs5mu6JnT4xjAV2+sQwFlqdFNnZ2YiJiUF4eDgGDhz4lxWcKSkpCAsLQ0hICN58\n",
              "803U19eb27KysjBy5Ej07t0bvXv3xsGDB63ajmE6RWtvV8XGxtL27duJiGjfvn0UHR39yDq5ubnk\n",
              "4+NDJSUlZDKZaNy4cbR582YiIrp//z4FBQXRuXPniIjIaDSSRqNpcTuG6SytuqbQaDQIDQ1FeXk5\n",
              "BAIBiAg+Pj5IT09HaGioeb1169YhJycHiYmJAIAjR45gzZo1SE9PR3JyMlJTU7Fnz55H+m9uO2ts\n",
              "3LgRixYtsnY4TCcxGE24W10HTVUdtDUG1BlNqK1vQJ3RhDqjCQajCUQEjuPAPdiG4wATNVbqEgEm\n",
              "IpgefKeHfjYREKVwxchenu0Wb6vuPqnVavj4+EAgEDwInINCoUBBQUGTpCgoKEBAQID5dWBgIAoK\n",
              "CgAAN27cgFgsxiuvvILCwkJERERg/fr1kMvlzW5nqa6uzlzi/C+WJQtM5yAiaKrqUFihh6ayFrc0\n",
              "1bhVVo2csmoUVehRUdOxp8BzhgZ1XVK0B6PRiJMnT+LixYvo2bMnVqxYgbfeegv79+9vVT+fffYZ\n",
              "EhISmiwbPHhwe4Zq9wxGE7R6A6QOQjgIm5ZoEBHy79Xg99IqaGsM0OrrUV1rbHynBkAEaKpqkVN2\n",
              "H7maalTVGZv9XQIeB7lEDDcnERyEPIgFfPN3kYAHjmvsE8CD/gl8XuORg8dx4DgOPK7xZx4P5tcc\n",
              "OEQHurXrfmlVUvj7+6OkpARGo9F8+lRQUACFQtFkPYVCgZycHPPrvLw88zoKhQKxsbHw9fUF0Fht\n",
              "OWbMmBa3s7R8+XIsXry4ybKVK1e2Zjh2gYiQe/c+7uhqodPXQ8jnQfzgj00s4MFByIeJCHl37+NG\n",
              "SSVuFFeioLwGd6vrzO/gAh6H3j5SeErE4DigRFeLwgo9dHrr3+F5HOAjc4RcIkaw3Bmhni4IlbtA\n",
              "4e4ET4kDXB2F4PG4ljuyAa1KCk9PT0RFReG7777DrFmzcODAAfj5+TU5dQKAiRMnYtiwYfjkk0/g\n",
              "5eWFxMREvPbaawCAyZMnIyUlBZWVlZBKpThy5AhUKlWL21kSi8UQi8VNltlNQZoVTCbC7owCJJ7O\n",
              "QZFW/0R9GU2ErCLdI8tFfB6e8ZFA7iKGzEkIiVgAHo8DBw4cB7g6ChHq6YIQTxcEuDtBLLCP/d/q\n",
              "06etW7di1qxZWLNmDaRSKbZv3w6g8f8H4uPjER8fj+DgYCQkJGDo0KEAgJEjR2L+/PkAGo8GK1as\n",
              "QExMDHg8Hnx9fZGUlAQAzW7H/Olyfjn+69D/4apaCwAQC3jw7+EEmaMQRhOhrr4BhgcXsXXGBpgI\n",
              "8HNzxDPeEih7yhAid4GnVAwPFzFcHYUo0upxvbgSOr0BRhPBR+YAH5kjguXOdvOH3hp29Yn24sWL\n",
              "sWHDhq4Oo0PoDQ049Fsx9mQU4EqBFgDgLOJjyZheeG2gAo6ip++Pt6Ow2icbRkTI1lTjfzLV+Eem\n",
              "2nwxK+RzeLW/Hxa/GA4vqUMXR2l/WFLYAJOJcPvefWTfqTbf3vyloAIZt8tRoqs1r6fo4YR/H+iP\n",
              "SdF+8JSwZOgoLCk6CBHh9t37uKrWQiTgIUTugiAP58aL2kIdfi3UIresGoUVemQV6VBV+/hbmiIB\n",
              "D8NCPTBjSACGh8m7zR2c7owlRTs5l12GEzfuQFtTj8raevxRWoXih97lgcZPaYE/78c/zEHIQ7iX\n",
              "BCI+D85iAforXDEgwA3RAT3Y9UInY0nxhGoMRizZ9yuOZJU+0ibkc4j0d4WJgFuaavN9f19XR6j8\n",
              "ZXjGW4qero7o5SVBbx8JBHxWtGwLWFI8geo6I+Zsz0RGXjn4PA6To/0R6ukCZxEfgR7OiPCTwUnU\n",
              "uIuJCHerDeA4wMNF3ELPTFdqdVJkZ2dj5syZuHv3LmQyGXbs2AGlUvnIeikpKVi7di1MJhNGjRqF\n",
              "b775BkKhEKdPn8bYsWPRq1cv87oXLlyAo6Njs222RltjwMztmfhVrYVELMCOOQMxIKDHX67PcY1l\n",
              "Dkw30Nqy2ictHU9LSyOVSvXYvptrs8YHH3zQ5m2tZTKZSF1+n15Yf5oC/uMQqRKO0a/qig7/vUzn\n",
              "adVJrEajwaVLl8zPTpg4cSLUajVu3brVZL39+/cjPj4e3t7e4DgOCxYswN69e9svkztZbX0D9mYU\n",
              "YOzGcwhecQTDPk9DtqYa3lIH/GP+EET4uXZ1iEw76vTScaBxFrqoqCjw+XzMnj0bCxcutKrtYY8r\n",
              "HW9oaGjNcKxyVa3FO3t+QWFF0/qiKIUrNk2Ngq+r7Z3aMU+m0y+0o6KiUFhYCJlMhsLCQrz00kvw\n",
              "8PDA5MmTm22z1NGl40SEv6fdwlcns9FgInhLHTD3uSC8HOEDsYAPNychOI59ZmCPWnX69HDpOIBm\n",
              "S8fz8/PNrx8uAZdKpZDJZAAa50WdMmUKzp0712KbpeXLl0On0zX5GjRoUGuG85dMJkLCP2/gy+N/\n",
              "oMFEeCXCB8c+GI65zwXDR+aIHs4ilhB2rFVJ8XDpOIBmS8d/+OEHlJaWgoialICXlJTAZDIBAKqq\n",
              "qnDo0CH079+/xTZLYrEYUqm0yVd7lI4bG0xYuv837DifBwBIiFdi89QoyByFT9w30z10eun4gQMH\n",
              "sGXLFggEAhiNRkyaNAmzZ89usa29lN83YN2xmzifcxfOIgH6+koRHdgDXlIHuIgF2HomB8dv3AGf\n",
              "x2Hd3yLwapRfu/5+xvY9VaXj9Q0mTEm6iEv5Fc32I+LzsHlqf7yo9G7vEJlu4Kn5RNvYYMJ//u81\n",
              "XMqvgEQswLpJKvB5HH7OvYebd6pQVlWHsqo6yCViJMQr8Wywe1eHzHSRpyIpTCbCsoNZ2H+5cS7V\n",
              "dZNUiOvbeBQY3cerK0NjbJDdJ8WdylqsOJiFU79rwOdx+O/X+psTgmEex66TwmA04d/+/hOKdbUQ\n",
              "8Xn44m8ReDnCp6vDYmycXdcqiwQ8vD0qFBF+Mvzz3WGY0N+3q0NiugG7uvv06quvIjAwsMmyhoYG\n",
              "ZGRkYNCgQU/FFDhsvI0CAgLaPIWqXSXF41RWVkImk0Gn00EqlXZ1OB2OjffJ2fXpE8O0BUsKhrHA\n",
              "koJhLNh9UojFYnz88cePzDtrr9h4n5zdX2gzTGvZ/ZGCYVqLJQXDWGBJwTAW7DoprH28cXfx3nvv\n",
              "ITAwEBzH4erVq+blzY2zO++D2tpaTJgwAeHh4VCpVBg9erR55hiNRoO4uDiEhYWhb9++OHv2rHm7\n",
              "5tqs0kVT63QKa+ao6k7OnDlDarWaAgIC6MqVK+blzY2zO+8DvV5Phw8fJpPJREREmzZtohEjRhAR\n",
              "0ezZs+njjz8mIqKMjAzy9fUlg8HQYps17DYp7ty5QxKJhOrr64mocRIzLy8vys7O7uLIntzDSdHc\n",
              "OO1tH2RmZlJAQAARETk7O1NJSYm5beDAgXTixIkW26xht6dPzc1RZU+aG6e97YONGzdi/PjxuHfv\n",
              "Hurr6+Ht/ef/xfxrbrHm2qxl1/9PwdiPNWvW4NatWzh16hT0+id78GVL7PZIYe0cVd1dc+O0l33w\n",
              "5Zdf4uDBgzh69CicnJzg7u4OgUCA0tI/H3/wr7nFmmuzlt0mhbVzVHV3zY3THvbBhg0bsHfvXpw4\n",
              "cQKurq7m5ZMmTUJiYiIAIDMzE0VFRRgxYkSLbVZph+sfm/X777/T4MGDKSwsjAYMGEC//fZbV4f0\n",
              "RObNm0e+vr7E5/PJ09OTQkJCiKj5cXbnfaBWqwkABQcHk0qlIpVKRYMGDSIiotLSUho9ejSFhoZS\n",
              "nz59KDU11bxdc23WYLVPDGPBbk+fGKatWFIwjAWWFE+x06dPIzIysqvDsDksKRjGAksKG5WZmYlR\n",
              "o0YhOjoa/fv3x759+5CXlwdXV1csWbIEERERUCqVOHnypHmbXbt2ISIiAhEREXj55ZdRVFRkbvv8\n",
              "88/Rr18/qFQqDB48GDU1NQAAo9GIhQsXQqVSQalU4tKlS50+VpvTjnfQmHZSUVFBkZGRVFxcTERE\n",
              "ZWVl5O/vT+np6QSAkpOTiYjowoULJJfLqbKykrKyssjLy4sKCwuJiGj16tUUFxdHREQ7duyggQMH\n",
              "klarJSKi8vJyMhqNlJaWRnw+ny5evEhERFu2bKEXX3yxs4drc9iRwgadP38eubm5GDt2LCIjI/HC\n",
              "Cy8AAG7evAmBQIBZs2YBaHycWc+ePXHlyhWkpaUhLi4Ovr6NsyAuXLgQqampaGhowKFDh7BgwQLz\n",
              "U6Lc3NzME4eFhobi2WefBQAMGTIEOTk5nTxa28Nqn2wQEUGpVOL8+fNNlufl5T12/cc9aszax485\n",
              "ODiYf+bz+eaSkKcZO1LYoJiYGNy+fbvJ9cLVq1dhMBhgNBqxa9cuAEBGRgaKi4sRGRmJ2NhY/Pjj\n",
              "jyguLgYAJCYm4vnnnwefz0d8fDwSExOh0+kAAFqttkOeJGsv2JHCBrm5ueHw4cNYsmQJPvzwQ9TX\n",
              "10OhUODrr7+GTCbDtWvXoFKpYDQasWfPHkgkEvTt2xfr1q1DXFwcgMZCwW3btgEApk+fjuLiYsTE\n",
              "xEAgEMDZ2blJwjFNsTKPbiQvLw+RkZHQarVdHYpdY6dPDGOBHSkYxgI7UjCMBZYUDGOBJQXDWGBJ\n",
              "wTAWWFIwjAWWFAxjgSUFw1hgScEwFlhSMIyF/wc6WHdgfGpTkgAAAABJRU5ErkJggg==\n",
              "\">\n",
              "        \n",
              "      </div>\n",
              "      <script></script>\n",
              "      <script type=\"text/javascript\">\n",
              "        (() => {\n",
              "          const chartElement = document.getElementById(\"chart-40f0aa74-8996-436f-bd8b-034ec0ea4b7a\");\n",
              "          async function getCodeForChartHandler(event) {\n",
              "            const chartCodeResponse =  await google.colab.kernel.invokeFunction(\n",
              "                'getCodeForChart', [\"chart-40f0aa74-8996-436f-bd8b-034ec0ea4b7a\"], {});\n",
              "            const responseJson = chartCodeResponse.data['application/json'];\n",
              "            await google.colab.notebook.addCell(responseJson.code, 'code');\n",
              "          }\n",
              "          chartElement.onclick = getCodeForChartHandler;\n",
              "        })();\n",
              "      </script>\n",
              "      <style>\n",
              "        .colab-quickchart-chart-with-code  {\n",
              "            display: block;\n",
              "            float: left;\n",
              "            border: 1px solid transparent;\n",
              "        }\n",
              "\n",
              "        .colab-quickchart-chart-with-code:hover {\n",
              "            cursor: pointer;\n",
              "            border: 1px solid #aaa;\n",
              "        }\n",
              "      </style>"
            ],
            "text/plain": [
              "import numpy as np\n",
              "from google.colab import autoviz\n",
              "df_265328170275662483 = autoviz.get_df('df_265328170275662483')\n",
              "\n",
              "def value_plot(df, y, sort_ascending=False, figsize=(2, 1)):\n",
              "  from matplotlib import pyplot as plt\n",
              "  if sort_ascending:\n",
              "    df = df.sort_values(y).reset_index(drop=True)\n",
              "  _, ax = plt.subplots(figsize=figsize)\n",
              "  df[y].plot(kind='line')\n",
              "  plt.title(y)\n",
              "  ax.spines[['top', 'right',]].set_visible(False)\n",
              "  plt.tight_layout()\n",
              "  return autoviz.MplChart.from_current_mpl_state()\n",
              "\n",
              "chart = value_plot(df_265328170275662483, *['valid_loss'], **{})\n",
              "chart"
            ]
          },
          "metadata": {},
          "output_type": "display_data"
        },
        {
          "data": {
            "text/html": [
              "<h4 class=\"colab-quickchart-section-title\">Distributions</h4>\n",
              "<style>\n",
              "  .colab-quickchart-section-title {\n",
              "      clear: both;\n",
              "  }\n",
              "</style>"
            ],
            "text/plain": [
              "<google.colab._quickchart_helpers.SectionTitle at 0x7c73f3151630>"
            ]
          },
          "metadata": {},
          "output_type": "display_data"
        },
        {
          "data": {
            "text/html": [
              "      <div class=\"colab-quickchart-chart-with-code\" id=\"chart-ca925893-982e-4d51-9a0f-5600154d03d3\">\n",
              "        <img src=\"data:image/png;base64,iVBORw0KGgoAAAANSUhEUgAAAMQAAABgCAYAAABCK92TAAAAOXRFWHRTb2Z0d2FyZQBNYXRwbG90\n",
              "bGliIHZlcnNpb24zLjcuMSwgaHR0cHM6Ly9tYXRwbG90bGliLm9yZy/bCgiHAAAACXBIWXMAAA9h\n",
              "AAAPYQGoP6dpAAAMo0lEQVR4nO3df0zU9R8H8Ofxe/y4k7wQ9IALkR8CkwRZHDJ+rB+kGMnV+jGF\n",
              "W4XammPhhq5iRJk4Wo0iV9QKI5czT11Nt9agZhY1NWUYKZ6QHE3gZCbgdfHrXt8/HJ/vBwXlA/cL\n",
              "ej2227wP7/t8XiBP3p8f78/7IyMiAmMMAODm7AIYcyUcCMZEOBCMiXAgGBPhQDAmwoFgTIQDwZgI\n",
              "B4IxEQ4EYyIcCMZEOBAubNeuXXj44Ydtsq7XX38dq1evtsm65jMOhB1kZmbitddem/V6XnnlFXz3\n",
              "3Xc2qIhNFwfCCYaHh51dApsCB8LGtmzZghMnTqCqqgr+/v7w9/fH3r17oVKpsGfPHqjVaixcuBAA\n",
              "sGfPHsTHx0MulyM4OBgbN25EX1+fsK5bd3MyMzNRXFyMZ599FgqFAqGhofjwww9nVOf169exadMm\n",
              "qFQqKJVKPProo2hraxO+/sMPPyA5ORkKhQILFy5EWloa/v77bwDAV199hbi4OMjlciiVSjz44IMz\n",
              "qsElEbO5jIwMevXVV4X3dXV15O7uTkVFRTQ4OEhms5mIiPR6PbW1tdHY2BhdvnyZUlJS6OmnnxY+\n",
              "V15eTmlpaRPWK5fLqbGxkcbGxkiv15ObmxsZDIa71nTrunJzcykzM5O6u7vJbDZTcXExqVQqGhwc\n",
              "JCKixYsX02effUZWq5WGhoaoqamJbty4QWazmTw9PamxsZGIiCwWi/Dv+YB7CAeqrq6Gv78/fH19\n",
              "AQBarRZRUVFwc3NDeHg4duzYcddjBq1Wi+zsbLi5uUGr1eKee+7Bb7/9JqmO7u5uHD16FNXV1QgO\n",
              "Doavry/efvttWCwWHD16FADg5eWF9vZ2XLlyBV5eXkhNTYWfnx8AwNPTE+fPn0dfXx98fHyQnZ09\n",
              "g5+Ga+JAOEhQUJAQhHGHDx+GRqNBUFAQ5HI5Nm7ciGvXrmFsbGzK9SxevHjCez8/PwwODkqqpaur\n",
              "CwCwdOlSYZmnpyfCw8NhNBoBAN988w06OjqQlJSEyMhIlJeXY3R0FL6+vvj222/R0NCA6OhoJCQk\n",
              "4L333pO0fVfm4ewC5iM3t9v/zty67K+//sKTTz6Jffv2Yf369fDx8cGRI0eQn58PsvNNjKGhoQCA\n",
              "9vZ2rFixAgAwOjoKo9GIsLAwAEBCQgK+/PJLAEBzczMeeeQRqFQqFBUVIT09Henp6SAiHD9+HDk5\n",
              "OVi+fDkeeughu9btCNxD2EFwcDAuXrx4xzY3btyA1WqFUqmEj48PDAYDKisrHVJfSEgI1qxZg23b\n",
              "tqG3txcWiwXbt2+Hl5cX1q5di+HhYdTV1eHq1asAAIVCAXd3d3h4eKCnpwcHDx7E9evXIZPJsGDB\n",
              "AshkMnh4zI+/rRwIO9i2bRva2toQGBiIBQsWTNomJiYGlZWVKCgoQEBAAAoLC7FhwwaH1fjFF19A\n",
              "rVZj5cqVUKlUaG1tRUNDAwICAgAAer0ecXFx8PPzQ0ZGBnQ6HQoLC0FE+OijjxAREQF/f3888cQT\n",
              "eOutt5CVleWw2u1JRvbunxmbQ7iHYEyEAzFPbNmyRbgQeOtr/FQquzveZWJMhHsIxkQ4EIyJcCAY\n",
              "E5mTgZhPQwWYa5mTgejs7HR2CWyemh/X20XUO45Nuvzy7rUOroTNRXOyh2DMXuwaCLVajejoaCQm\n",
              "JiIxMREHDhwAABgMBmg0GkRFRWHVqlVobW21ZxmMTZvkQLS0tExr2bgDBw6gubkZzc3NeOqppwAA\n",
              "mzdvxqZNm3Dx4kVs374dOp1OahmM2YXkQEz2yyvlF9pkMuH06dPCyE6tVouuri5cunRJaimM2dy0\n",
              "D6pNJhN6enpgsVhw7tw54SaW/v5+mM3mKT9XUFAAIkJKSgp2796Nrq4uhISECOPnZTIZwsLCYDQa\n",
              "ERkZedvnh4aGMDQ0NGHZne4oY2w2pt1D7N+/H3l5eejo6MBjjz2GvLw85OXlYevWrSgtLZ30Mz/+\n",
              "+CNaWlpw5swZKJVKFBYWSi6wsrISCoViwuvkyZOS18PYdEge3Pfmm2+irKxM8oa6u7sRFRWF9vZ2\n",
              "REZG4tq1a/Dw8AARISQkBD/99NO0e4iysrIpL87xaVc2G5KvQ5SVlcFqtaKnpwejo6PC8vF7cceZ\n",
              "zWaMjIwId4zt378f999/P4KCgrBy5Urs27cPOp0Ohw4dgkqlmjQMAODt7Q1vb+8Jy9zd3aWWzdi0\n",
              "SA7E559/jq1bt8LT01O4cV4mk8FkMk1o19vbC61Wi7GxMRARIiIiUF9fDwCora2FTqfDrl27IJfL\n",
              "UVdXZ4NvhbHZkxyIN954A6dOnUJ0dPQd20VERODs2bOTfi06Ohq//PKL1E0zZneST7sqlcq7hoGx\n",
              "uUpyIB5//HFUV1fDZDJhYGBAeDE2H0g+yySecEsmk4GIIJPJHHptoKSkBO++++6kX5vqLNNU+OwT\n",
              "E5N8DGG1Wu1RB2MugUe7MiYiuYdwc3ODTCa7bTkPp2DzgeRAiGeatlgsqK+v5zCweUPyLpOfn5/w\n",
              "UiqVKCkpgV6vt0dtjDncrI8hLly4MOExUIzNZZJ3mQIDA4VjiPGxTDU1NbatijEnkRyI5ubm/3/Y\n",
              "wwPBwcFzerDdna5b8DWK/x7JgQgPD8c///wjBCMwMPC2R0UxNldJDkRTUxO0Wi2Cg4MB3BzVeujQ\n",
              "IaSmptq8OMYcTXIgxs8qpaWlAbgZkJdffhm//vqrzYtjzNEkB8JisQhhAACNRoN///3XpkW5Cr77\n",
              "7r9H8mlXf39/NDQ0CO8bGxuF5xczNtdJ7iHef/995OfnC2eWrFYrDh8+bPPCGHMGyYG4cuUKTp8+\n",
              "jd7eXgDAokWLeBYMNm9I3mUqKyvDvffei/j4eMTHx0OpVM5oFg7GXNGsZ/929M1BroAv5s1fknuI\n",
              "gIAANDU1Ce9//vln4WHfjM11knuIqqoqrF+/HjExMQBuzuR95MgRyRs2GAwoLCxEX18fFAoF9u7d\n",
              "i7i4OMnrcTWOuIWVTwfbj+RApKam4vz588I0MhqNRpiMTIrxGcB1Oh30ej10Oh1OnToleT3s/3hX\n",
              "bvac8pxqk8kkaTrLW9lykoH/Og7KRE55pJaUGcB59m/7mkmv4qhdNmfMoOLyz5irrKxERUXFhGUx\n",
              "MTEoKSmZtH2+I4qaprGxMZw8eRIpKSkuP0R+slpLShonbTvVz3iq9jN1p/9LKfUCN0dpFxcX33Wb\n",
              "Lr/LNFkPMdkEyK5oYGAACoUC/f39kMvlzi7njuZSrYD96nXKNDTiGcAB3HEGcG9vb8jl8gmvuRAG\n",
              "Njc5bZeJZwBnrshpgeAZwJkr4pn77Mjb2xvl5eVzYhdvLtUK2K9epxxUM+aquIdgTIQDwZgIB4Ix\n",
              "EQ7EDBkMBmg0GkRFRWHVqlVobW2dtN2nn36KZcuWYenSpSgqKsLIyAgA4Pvvv0dKSgqWL1+OuLg4\n",
              "lJaW2u3ZG7OtdRwRITs7e0aDOR1Z67lz55CZmYnY2FjExsZKu8WZ2IxkZWVRXV0dEREdPHiQkpOT\n",
              "b2vT0dFBISEh1N3dTVarldatW0cffPABERGdOXOG2tvbiYjIYrFQWlqasD5Xq3XcO++8Qy+88AIp\n",
              "FAq71GmLWs1mM91333104sQJIiIaHR0lk8k07e1zIGagt7eXAgICaGRkhIiIrFYrLVq0iAwGw4R2\n",
              "VVVVtHnzZuH9sWPHKC0tbdJ1vvTSS1ReXu6ytf7++++Unp5Oly5dslsgbFHrJ598Qs8888yMa+Bd\n",
              "phm402hdMaPRiPDwcOG9Wq2+rQ0A9PT0QK/XIzc31yVrHRkZQVFREWpra+06SNEWtf7xxx/w9vZG\n",
              "bm4uEhMTUVBQgKtXr067Bg6Ekw0MDGDdunUoLS1FcnKys8uZVEVFBfLz8xEbG+vsUu5qdHQUDQ0N\n",
              "qK2txdmzZ7FkyRK8+OKL0/48B2IGQkND0d3dLTwOgIhgNBoRFhY2oV1YWBg6OzuF95cvX57QZnBw\n",
              "EDk5OcjLy5tyOLsr1Hr8+HHU1NRArVZj9erVGBgYgFqtlvSX11G1hoWFISsrC0uWLIFMJsOGDRuk\n",
              "TbM6452t/7iMjIwJB39JSUm3tWlvb7/t4K+mpoaIiAYHB0mj0VBFRYXL1yr2559/2vWgera1dnZ2\n",
              "UkxMDPX39xPRzeONNWvWTHv7HIgZunDhAj3wwAO0bNkySkpKopaWFiIiev755+nrr78W2n388ccU\n",
              "ERFBERER9Nxzz9Hw8DAREe3cuZM8PDxoxYoVwmvnzp0uWauYvQNhi1rr6+spLi6OEhISKCcnh4xG\n",
              "47S3z2OZGBPhYwjGRDgQjIlwIBgT4UAwJsKBYEyEA8GYCAeCMREOBGMiHAjGRDgQjIlwIBgT+R8h\n",
              "YgtYBYjBYQAAAABJRU5ErkJggg==\n",
              "\">\n",
              "        \n",
              "      </div>\n",
              "      <script></script>\n",
              "      <script type=\"text/javascript\">\n",
              "        (() => {\n",
              "          const chartElement = document.getElementById(\"chart-ca925893-982e-4d51-9a0f-5600154d03d3\");\n",
              "          async function getCodeForChartHandler(event) {\n",
              "            const chartCodeResponse =  await google.colab.kernel.invokeFunction(\n",
              "                'getCodeForChart', [\"chart-ca925893-982e-4d51-9a0f-5600154d03d3\"], {});\n",
              "            const responseJson = chartCodeResponse.data['application/json'];\n",
              "            await google.colab.notebook.addCell(responseJson.code, 'code');\n",
              "          }\n",
              "          chartElement.onclick = getCodeForChartHandler;\n",
              "        })();\n",
              "      </script>\n",
              "      <style>\n",
              "        .colab-quickchart-chart-with-code  {\n",
              "            display: block;\n",
              "            float: left;\n",
              "            border: 1px solid transparent;\n",
              "        }\n",
              "\n",
              "        .colab-quickchart-chart-with-code:hover {\n",
              "            cursor: pointer;\n",
              "            border: 1px solid #aaa;\n",
              "        }\n",
              "      </style>"
            ],
            "text/plain": [
              "import numpy as np\n",
              "from google.colab import autoviz\n",
              "df_265328170275662483 = autoviz.get_df('df_265328170275662483')\n",
              "\n",
              "def histogram(df, colname, num_bins=20, figsize=(2, 1)):\n",
              "  from matplotlib import pyplot as plt\n",
              "  _, ax = plt.subplots(figsize=figsize)\n",
              "  plt.hist(df[colname], bins=num_bins, histtype='stepfilled')\n",
              "  plt.ylabel('count')\n",
              "  plt.title(colname)\n",
              "  ax.spines[['top', 'right',]].set_visible(False)\n",
              "  plt.tight_layout()\n",
              "  return autoviz.MplChart.from_current_mpl_state()\n",
              "\n",
              "chart = histogram(df_265328170275662483, *['train_loss'], **{})\n",
              "chart"
            ]
          },
          "metadata": {},
          "output_type": "display_data"
        },
        {
          "data": {
            "text/html": [
              "      <div class=\"colab-quickchart-chart-with-code\" id=\"chart-d8d5c2d2-1667-4390-8fd3-297adb9fc98d\">\n",
              "        <img src=\"data:image/png;base64,iVBORw0KGgoAAAANSUhEUgAAAMEAAABgCAYAAACkAhbXAAAAOXRFWHRTb2Z0d2FyZQBNYXRwbG90\n",
              "bGliIHZlcnNpb24zLjcuMSwgaHR0cHM6Ly9tYXRwbG90bGliLm9yZy/bCgiHAAAACXBIWXMAAA9h\n",
              "AAAPYQGoP6dpAAANMklEQVR4nO3dfUxV9R8H8PcFeRIuFwIEAi7PyGMx0EJYKq2tRC3KzaIImBKs\n",
              "0pGUjenA2fNYpQbV5GEqZbgFttpciwAtFRCxNQnSEMYF5OEiLTC5PN7P7w/W/XXjCvcBuFzP57Xd\n",
              "zXPO95zzucf75pzvvedBREQExgTMzNgFMGZsHAImeBwCJngcAiZ4HAImeBwCJngcAiZ4HAImeBwC\n",
              "JngcAiZ4HAIjSUtLQ3Jysmo4LCwMJ06cuGv7kpIS+Pj4aLVsHx8flJSUGFqiYKwwdgFsRktLi7FL\n",
              "ECzeEzDB4xDoqaioCAEBAfj3SbgTExNwcXHB6dOnkZeXh6CgIIjFYnh5eWH37t0YHR296/L+ewjz\n",
              "ww8/ICIiAnZ2dnj00UfR3d2td6319fV45JFH4OjoCF9fX+Tk5GB8fBwAQETIy8uDp6cnxGIxPD09\n",
              "sW/fPtX7eeWVV+Dm5gaxWAwfHx8UFBToXceyRUwvIyMjZGtrS2fPnlWNO3XqFLm6utLExASVlZWR\n",
              "TCYjpVJJv/32G/n7+1NOTo6qbWpqKr3wwguqYW9vbyouLiYioo6ODrK0tKSjR4/SxMQEXbx4kZyd\n",
              "ncnb21ur2v69LJlMRitXrqRDhw7R+Pg4/fHHHxQaGkpZWVlERFRVVUUeHh4kk8mIiGhoaIjq6uqI\n",
              "iKioqIgiIyNpcHCQiIj6+vroypUrem2v5Yz3BHoSi8XYvn272l/vkpISpKSkwMLCAi+++CKkUilE\n",
              "IhHCwsLw6quvoqqqSqtlf/XVVwgPD0dGRgYsLCwQGxuLlJQUveo8efIkgoKC8Nprr8HS0hKBgYF4\n",
              "5513UFRUBCKCpaUlxsbG0NLSAoVCgfvuuw/r1q0DAFhaWuLvv/9Ga2srJicn4ebmhqioKL3qWM44\n",
              "BAZIT09HZWUl/vrrL3R2dqK2thbp6ekAgKNHjyIqKgpOTk6QSCTYv38/5HK5Vsvt6emBr6+v2rj/\n",
              "Dmuru7sb/v7+auMCAgKgUCgwODiIDRs2ID8/Hx988AFcXV2xfv16/PjjjwCA5ORkZGZmYu/evXB2\n",
              "dsamTZtw5coVvepYzjgEBoiNjYWfnx9OnjyJ0tJSxMXFISgoCPX19di1axc++ugj9Pf3Y3h4GO++\n",
              "+65a/2Eunp6e6OzsVBv332FteXl5oaOjQ21ce3s7bGxs4OLiAgDYsWMHfvrpJwwODiIxMRFbt27F\n",
              "7du3YW5ujjfeeAOXLl3CzZs3ERISgqeeekqvOpYzDoGBdu7cieLiYhw/fly1FxgeHoa5uTlcXFxg\n",
              "YWGBX375BYWFhVovMykpCc3NzSgpKcHU1BQaGhpQVlamV33PP/88rl+/joKCAkxMTKC9vR25ublI\n",
              "T0+HSCRCY2Mjfv75ZygUClhaWkIsFkMkEsHc3By1tbVoamrCxMQErK2tYWdnB3Nzc73qWNaM3Skx\n",
              "dYODg2RpaUkSiYRGR0eJiGh6epqysrLIycmJ7O3t6fHHH6eDBw+Sh4eHar65OsZERGfOnKGwsDCy\n",
              "tbWl+Ph4ysvL06tjTER04cIFiouLI4lEQlKplPbu3UsKhYKIiGpqaig6Oprs7OzI3t6e1qxZQ99/\n",
              "/z0REZWXl6tqcHBwoPXr11NjY6Pe22q5EhHxhfZM2PhwiAkenzZhguzs7DSOd3BwQE9PzxJXY/r4\n",
              "cIgJHh8OMcHjEDDB4xAwwTPJEBw5csTYJbB7iEmGQCaTGbsEdg/hr0jZsuKTc2bWuM4PNi/qOk1y\n",
              "T8DYQuIQMMHTOQRXr17VahxjpkLnEKSlpWk1jjFToXXHWC6Xo7+/HwqFAs3NzaoLRIaHh3Hnzp1F\n",
              "K5CxxaZ1CMrLy3H48GH09vbiySefVI2XSCR48803F6U4xpaC1iHIyspCVlYW3n77beTm5i5mTYwt\n",
              "KZ1/J8jNzYVSqUR/fz+mpqZU46VS6YIWxthS0TkEJ06cwO7du2FhYQEzs5l+tUgk0vpOCkxYNP34\n",
              "BSz+D2C60DkEb731Fi5fvozVq1cvRj2MLTmdvyJ1dnbmALB7is4hSExMxOHDhyGXyzEyMqJ6MWaq\n",
              "dD4c2r9/PwAgOzsbIpEIRASRSITp6Wm1dmNjY3juuefQ2toKGxsbrFq1Cp9//jkCAgKwceNGyGQy\n",
              "SCQSAEBqair27NmzAG+HMd3pHAKlUql124yMDGzatAkikQiFhYVIT0/HuXPnAACHDh1CYmKirqtn\n",
              "bMEt2gl01tbWSEhIgEgkAgDExMTofStBxhaTziEwMzODubn5rNd8jhw5onYfy5ycHERERODZZ5+d\n",
              "da/MfxsfH1fre4yMjMw69GLMEDofDt2+fVv1b4VCgbKysnk/lO+99x5u3LiBmpoaAMAXX3wBLy8v\n",
              "EBE+/fRTbNmyBa2trRrnff/993Hw4EG1cTExMbqWzZaZu/1+YAwLct+hhx9+GJcuXdI47cMPP8Sp\n",
              "U6dQXV0NBwcHjW2sra1x8+ZNODk5zZo2Pj6ueqrKP3Jzc/k6YxOxEB/2xf5hzeDLK69du4Zbt25p\n",
              "nPbxxx+jvLxcLQBTU1MYGhqCq6srAKCyshKurq4aAwAAVlZWsLKyUht3T94ZmRmNziFwdHRUdXb/\n",
              "OXdI03Osenp68Prrr8PPzw/x8fEAZj7QtbW12Lx5M8bHx2FmZgZnZ2d89913hrwHxgyicwh+/fXX\n",
              "/8+8YgXc3Nw0/mX29PS860MpmpqadF0tM5ApnMNjLDqHwNvbG6Ojo6owODo6YuXKlQtdF2NLRucQ\n",
              "1NXVYdu2bXBzcwMADAwMoLKyUvWwN8ZMjc4hyM7ORkVFBeLi4gDMhGLPnj1oaGhY8OIYWwo6/1im\n",
              "UChUAQBmHl43Nja2oEUxtpR03hPY2dmhuroajz32GACgpqYGtra2C16YMXEnUlh0DsEnn3yCZ555\n",
              "RvWNkFKpxOnTpxe8MMaWis4h6O3tRVNTEwYGBgAArq6uaGxsXPDC2NLgvZ4efYLc3Fy4uLggPDwc\n",
              "4eHhcHZ25rtPMJNm8GkTmi6oYcaznE5MMxU6h0AsFqOurg6xsbEAgIsXL0IsFi94YfcyY9x+nN2d\n",
              "ziHIz8/H008/jeDgYABAW1sbvvnmG51X3NbWhtTUVNy6dQsSiQTHjx9HWFiYzsthi0PXPYoph1jn\n",
              "EKxbtw6///476uvrAcz8TnC3U6TnkpmZiYyMDKSlpaGiogJpaWm4fPmyzsthzFB69QkcHR2RkJCg\n",
              "90rlcjmamppQVVUFANi2bRt27dqFGzduICAgQO/lLrdvOoR0fG7K79Uoj2vq7u6Gu7s7VqyYWb1I\n",
              "JIJUKkVXV9esEGi6qEbXjvhC/Qct5n+0KX+ITN2yf2aZpssrg4ODkZ2dPavtM0tVlAGmp6fR2NiI\n",
              "hx56iC8Omsc/2yorq0rjtvL29kZWVpbB61mQyyt1JZfLERAQgD///BMrVqwAEcHd3R0XLlzQak+g\n",
              "6WozUzEyMgKJRILh4WHY29sbu5xlbam2lVGeWbZq1SpERUXhyy+/BDBziaWnp6fG/oCVlRXs7e3V\n",
              "XqYaALY8GWVPAADXr19HWloahoaGYG9vj2PHjiEiIsIYpSwp3hNob6m2ldH6BKtXr1Z9zcqYMfEj\n",
              "XJeYlZUVDhw4wId0WliqbWW0wyHGlgveEzDB4xAwweMQMMHjEBigra0NsbGxCAoKwtq1a9HS0qKx\n",
              "XWlpKQIDA+Hv74+XXnoJk5OTAIBz587BxsYGkZGRqpdCoZh3mikydFsBQHNzMzZu3IiQkBCEhISo\n",
              "XdY713zzIqa3+Ph4OnbsGBERff3117RmzZpZbTo6Osjd3Z36+vpIqVTS1q1bqbCwkIiIzp49Sw8+\n",
              "+KDGZc81zRQZuq3u3LlDvr6+dP78eSIimpqaIrlcPu982uAQ6GlgYIDEYjFNTk4SEZFSqSRXV1dq\n",
              "a2tTa5efn0+ZmZmq4TNnzlBcXBwRCScEC7GtiouLKSkpSePy55pPG3w4pKe5zoT9t66uLnh7e6uG\n",
              "fXx81Nq0t7cjKioKa9euxWeffaY271zTTMlCbKvW1lZYWVlhy5YtiIyMREpKCgYHB+edTxvL/izS\n",
              "e1lUVBR6enogkUjQ09ODhIQEODs7Y/v27XNOE6KpqSlUV1ejoaEB999/P/bt24eXX34ZFRUVBi+b\n",
              "9wR68vLyQl9fn+r29ESErq4uSKVStXZSqRQymUw13NnZqWpjb2+veoKnp6cnkpKScP78+XmnmZqF\n",
              "2FZSqRTx8fHw8PCASCRCcnKy6tafc82nFa0PnNgsGzZsUOvsRUdHz2rT3t4+q9NWUFBARES9vb00\n",
              "PT1NREQjIyMUGxtLpaWl804zRYZuK5lMRsHBwTQ8PExEM/2AhISEeefTBofAANeuXaOYmBgKDAyk\n",
              "6Ohounr1KhER7dy5k7799ltVu6KiIvLz8yM/Pz/asWMHTUxMEBFRQUEBhYaG0gMPPEChoaF04MAB\n",
              "UiqV804zRYZuKyKisrIyCgsLo4iICHriiSeoq6tLq/nmw+cOMcHjPgETPA4BEzwOARM8DgETPA4B\n",
              "EzwOARM8DgETPA4BEzwOARM8DgETPA4BE7z/AfV0gTe0sThLAAAAAElFTkSuQmCC\n",
              "\">\n",
              "        \n",
              "      </div>\n",
              "      <script></script>\n",
              "      <script type=\"text/javascript\">\n",
              "        (() => {\n",
              "          const chartElement = document.getElementById(\"chart-d8d5c2d2-1667-4390-8fd3-297adb9fc98d\");\n",
              "          async function getCodeForChartHandler(event) {\n",
              "            const chartCodeResponse =  await google.colab.kernel.invokeFunction(\n",
              "                'getCodeForChart', [\"chart-d8d5c2d2-1667-4390-8fd3-297adb9fc98d\"], {});\n",
              "            const responseJson = chartCodeResponse.data['application/json'];\n",
              "            await google.colab.notebook.addCell(responseJson.code, 'code');\n",
              "          }\n",
              "          chartElement.onclick = getCodeForChartHandler;\n",
              "        })();\n",
              "      </script>\n",
              "      <style>\n",
              "        .colab-quickchart-chart-with-code  {\n",
              "            display: block;\n",
              "            float: left;\n",
              "            border: 1px solid transparent;\n",
              "        }\n",
              "\n",
              "        .colab-quickchart-chart-with-code:hover {\n",
              "            cursor: pointer;\n",
              "            border: 1px solid #aaa;\n",
              "        }\n",
              "      </style>"
            ],
            "text/plain": [
              "import numpy as np\n",
              "from google.colab import autoviz\n",
              "df_265328170275662483 = autoviz.get_df('df_265328170275662483')\n",
              "\n",
              "def histogram(df, colname, num_bins=20, figsize=(2, 1)):\n",
              "  from matplotlib import pyplot as plt\n",
              "  _, ax = plt.subplots(figsize=figsize)\n",
              "  plt.hist(df[colname], bins=num_bins, histtype='stepfilled')\n",
              "  plt.ylabel('count')\n",
              "  plt.title(colname)\n",
              "  ax.spines[['top', 'right',]].set_visible(False)\n",
              "  plt.tight_layout()\n",
              "  return autoviz.MplChart.from_current_mpl_state()\n",
              "\n",
              "chart = histogram(df_265328170275662483, *['valid_loss'], **{})\n",
              "chart"
            ]
          },
          "metadata": {},
          "output_type": "display_data"
        },
        {
          "data": {
            "text/html": [
              "<h4 class=\"colab-quickchart-section-title\">2-d distributions</h4>\n",
              "<style>\n",
              "  .colab-quickchart-section-title {\n",
              "      clear: both;\n",
              "  }\n",
              "</style>"
            ],
            "text/plain": [
              "<google.colab._quickchart_helpers.SectionTitle at 0x7c73f3667f70>"
            ]
          },
          "metadata": {},
          "output_type": "display_data"
        },
        {
          "data": {
            "text/html": [
              "      <div class=\"colab-quickchart-chart-with-code\" id=\"chart-de027b39-4f1f-44ad-9279-7187a503961c\">\n",
              "        <img src=\"data:image/png;base64,iVBORw0KGgoAAAANSUhEUgAAAPYAAAD1CAYAAABjhghmAAAAOXRFWHRTb2Z0d2FyZQBNYXRwbG90\n",
              "bGliIHZlcnNpb24zLjcuMSwgaHR0cHM6Ly9tYXRwbG90bGliLm9yZy/bCgiHAAAACXBIWXMAAA9h\n",
              "AAAPYQGoP6dpAAAwIElEQVR4nO3deXjTdb7o8Xf2pG2SspVWSlr2VSgVOF6WI+CMIkr1iPLoDEeL\n",
              "IxR0NhmvDowcZI4XHM/o3JE5SmF4OEcZ9Sqow+CcZXwUp+JxEBVl0aEtbQPSUmihSZcsv/y+94/Q\n",
              "TNOFNm3Spun39Tx5IOkvyffX5pPv/vlphBACSZISiravCyBJUvTJwJakBCQDW5ISkAxsSUpAMrAl\n",
              "KQHJwJakBCQDW5ISkAxsSUpAAz6wf/3rX/d1ESQp6gZ8YFdUVPR1ESQp6gZ8YEtSIpKBLUkJSAa2\n",
              "JCUgGdiSlID0fV2AeFbX5OPTihrqGvykWU2YDXqUQIAGJUCyUY9eowE0mI06Rg1LIckof51SfJCf\n",
              "xA787uMKnvzDcfyBrh0/zGrkF8ums2hiWmwLJkldEPOmeHFxMXPmzGH8+PHMmjWLEydOtHvcrl27\n",
              "GDduHGPGjGHVqlX4/f7Qz44dO8aCBQuYNGkSkyZN4s033+zS87qrrsnHk7/velADXHD7ePSNozT6\n",
              "lB6/vyT1VMwDu6CggNWrV3Pq1Ckef/xx8vPz2xxTVlbGxo0bKSoqoqSkhPPnz7Njxw4AGhsbuf32\n",
              "23nqqaf46quvOH78OPPnz+/0eT1x4ps6/N3IK1Pb4OcvJRc57/LgD6g9LockdVdMA7u6upojR46w\n",
              "YsUKAJYtW8aZM2coKSkJO27v3r3k5eWRnp6ORqNhzZo1vPrqqwC88sorXH/99cybNw8AnU7HsGHD\n",
              "On1ee7xeLy6XK+wWCLStlpONum6f8w//32fc8a+H+OGrn1NSXY8/oFLb4JOBLvWqmAb2mTNnyMjI\n",
              "QK8PduU1Gg0OhwOn0xl2nNPpJCsrK3Q/Ozs7dMzJkycxmUzcdttt5OTkcN9993HhwoVOn9eerVu3\n",
              "Yrfbw26HDx9uc9y4dBuDkgzdOudGr6DJH+CTslr+5b++ZsO+Yzz6xhc88fZxSqrru/WakhSpuJ/u\n",
              "UhSFd999l8LCQj7//HNGjBjB2rVru/Va69evp66uLuw2e/bsNsclGfU8uzyHdKsxotfXAgaDliSD\n",
              "Do0Gjjovc6rajdmgo7S6np1Fp2XNLfWKmI6Kjxw5ksrKShRFQa/XI4TA6XTicDjCjnM4HJSWlobu\n",
              "l5eXh45xOBwsXLiQESNGALBixQpuvvnmTp/XHpPJhMlkCntMp2u/2b1oYhrv/e+FnKltRKeFTftP\n",
              "8OWZOrz+AH4VdFoQAgJX+uIGLahoUFVBoz+AVgM6rYaMVAt2S7D2v+D24vYoDE6O7AtDkiIV0xo7\n",
              "LS2N3Nxc9uzZA8C+ffvIzMxk7NixYcctW7aM/fv3U1VVhRCC7du3c8899wCwfPlyPvnkE1wuFwB/\n",
              "/OMfmT59eqfPi4Yko54J6Ta+POvi04rLNPkDKAJsFj1DU0wMSTKSpNeQYTNh0usw6bXYLAYsBh2z\n",
              "sgczwzGIi24vdU1+ql0ehllNWM1yhlGKvZh/ygoLC8nPz2fLli3YbDZ2794NwIMPPkheXh55eXmM\n",
              "Hj2azZs3M3fuXAAWLFhAQUEBEKyVN2zYwJw5c9BqtYwYMSI08n2150XLUWctT7x1DI9fRQMIwNWk\n",
              "YDHo8Cgqg61m/teoIVxq8uMLBPjZkkmkJhkZnGykoqaRnUWnueD2MiYthVXzR2PQxX3vR0oAmoF+\n",
              "wYB169bx3HPPtfuzrytd3L/rMOfrvW1+lppkIMWkx24xkDUkmcq6JtJtZp5edi12y9+a2v6Aituj\n",
              "YDXrZVBLvUZ+0jrgD6i88H4JFxvaBrVJp2Fkqpkp19iYnGHj7KVGis+7+Z/SGu7414947+vq0LEG\n",
              "nZbByUYZ1FKvkp+2Drg9ChcbfOi1mjY/m5GVysghKfgUlRV/N5JLDT4CqsBk0FLt8vDPB07KFWhS\n",
              "n5KB3QGrWU+G3YzaqqOiA+wWIxU1DZTXNPLE28f55nITiipo9AWwGHTUNfo4U9vYJ+WWJJCB3SGD\n",
              "Tst3/i6L1CQDRp0Gk17D4CQ9g1NMuD0Kbo8fvQaqXR5UAUpA0ORTqGnw0eQPsOPPp+WCFKnPyMC+\n",
              "immZdnKzBpFs1JFs1KEKcAy20ODzc+5yE8UXGjhfH9x0IoDmtScThttCI+JyQYrUF+Skaie0aBAa\n",
              "DQ2+AD5F5VPn5Q6PFcCwFAMT0q24vYpckCL1GVljX4Xbo+BRAiQbdMFlZp3QAF5FcKHew/m6Jrkg\n",
              "ReozMrCvwmoOzlO7vQpdme63WfT4AyqfOy9T2+jn5inpcppL6hPyU3cVBp2WNQvGMDjZiNJJV1kD\n",
              "NHgUjDoNMxyDGJRk4D+OVcq92VKfkIHdiYnpNv7PP0xF13Y6O4xOA4oAb0Bg0mtJMRkoKr7Aj177\n",
              "nJ/u+5JPKy7JAJd6jewAdkFmqqXNfHZrirjSx/arfF5Ri0dRafKreKvcfO68zJ9PXWTBhGEU3DCG\n",
              "sWkpvVJuaeCSNXYXeBQVfRf6yuLK7WK9jya/ilGvxaeoKAEVt8fPX6tccgpM6hUysLtg5OAkhlmN\n",
              "dNIab0MLBIRAo9Gg0WiwWQxUuzy4PQr+gMp5l0f2waWYkE3xLkgy6nls8UR+uu8YiqqiBASdjZGr\n",
              "QqCoAo8/GLSKGuBIeS0ZdgtHKmp569NvOHr2MgA5I1P5yU0TZBNdihpZY3fRkmszmDduCGa99qpB\n",
              "rdcGs6r4A4IGX3iiRI8iqG30sXn/CQ6X1dDkDwTzo5XXUvhBqay5paiRgR0BrUaDr5N5L0XlqoEf\n",
              "UAUX3D7QgNVkwGo2oNFAVV2wiS5J0SADu4vcHoVGb4AUs77dqa+Wv0idhnb74zoN6LRadNpgU93t\n",
              "9eP2+BEC0u1muUpNihoZ2F1kNetJt5s7ro2vBLNJBzazHrNBi6ZVdGs0wdvM7MHMHjUEi0EXyo9W\n",
              "cMMYuUpNihpZRXSRQael4IYxuDx+/nzqIoqqYjHoaPQpqAJMei25WYNYPnMkHxZf5K9Vbk5frMer\n",
              "qAghSDHpCKiQajHws1snMWZYCrUNPgCZYUWKOhnYERiblsJvvpPLZxWX+N1fKqis81Dt8mA168ke\n",
              "msz3F45jYoaNJddmBPdsN/l4bN8x7EkGBlmM1DT4UFSVNKsZg07LcJu5r09JSlCymoiQQafl70YP\n",
              "4ell0xhhtzAkxYRjSApVdV52f1SOP6CG8pxdMyiJ7KHJ1Nb7cHsVLjf6GG6TfWkp9mRgd5PHr+Ly\n",
              "KqTbgxcESLOZQ/uvmxl0WlbNH82YtBQ8/gBj0lJYOTc7tEBFkmJFVh3dZDXrGWY1UXol/VG1y8OY\n",
              "tJQ2tfHYtBSeumMqbo9CtcvD7g/LuVDvZZjVxKr5o+WiFCkmZI3dTe3Vxh1dEMCg02I169l9qJzS\n",
              "C/XyWl5SzMkauwda1sadXRDA7VG4UO8lzWbu0rW85IUGpJ6Qgd1DzQNlnelq0x2gpLqenX8+LZvs\n",
              "UrfJqqAXNNe+K+dmd9p09wdUdv75tGyySz0ia+wYa137rpyTTdqVKa/2mtiRNtklqT2yxo6h9mrf\n",
              "3R+VX7Xf3Nxkr3Z55OV3pW6TgR1DrWvf1nPd/oBKbYMvrJkdyWi7JHVEVgMxZDZosZn1oet4tRww\n",
              "u9oAWSSj7ZLUHvmJibLmWvjrKheb95+kss5DbaOfmnpvqPYFOh0gk5fflXpC1thR1FwLn3d7qKhp\n",
              "JMmoI2tIMv6ASobdzKalk0ky6qlt8MkBMimmZHUQofb6xc2PN9fCeq2W2novdU3+K/u4Lbg8Sij/\n",
              "mRwgk2JNfpIicLV+ccuBMqtJj9ViwN2kUFPv5XKjP2wxSvMA2c6i01xwe+UAmRR1Mf8kFRcXM2fO\n",
              "HMaPH8+sWbM4ceJEu8ft2rWLcePGMWbMGFatWoXfH7w87cGDB7FYLOTk5IRuTU1NAKiqyrp165g8\n",
              "eTLTpk1j4cKFlJSUxOQ8Ols40rIWdnsV7BYDg5MNNPkDjBqa3CZwmwfIfnn3dJ66Y6pcWSZFVcwD\n",
              "u6CggNWrV3Pq1Ckef/xx8vPz2xxTVlbGxo0bKSoqoqSkhPPnz7Njx47QzydMmMDRo0dDN4vFAsD+\n",
              "/fs5dOgQX3zxBV9++SU33ngjGzZsiMl5dDZ11XqayjE4ifHDrWiuko1cDpBJsRLTT1R1dTVHjhxh\n",
              "xYoVACxbtowzZ860qVX37t1LXl4e6enpaDQa1qxZw6uvvtrp62s0GrxeLx6PByEELpeLzMzMDo/3\n",
              "er24XK6wWyAQ6PD4lrrSL26uhbfeeS0pRj01DT5sFgNlFxuuuiy0o367JHVXTPvYZ86cISMjA70+\n",
              "+DYajQaHw4HT6WTs2LGh45xOJ1lZWaH72dnZOJ3O0P3S0lJyc3PR6XSsXLmShx56CIClS5fy/vvv\n",
              "k56ejtVqZcSIEXzwwQcdlmfr1q1s3rw57LHrr7++S+fS1X6xQafFoNNS0+jr0qi33PAhxULctwFz\n",
              "c3M5e/Ysn332GW+99Rbbt2/n9ddfB+DIkSMcP36cb775hnPnznHjjTeyZs2aDl9r/fr11NXVhd1m\n",
              "z57d5bJ0tV98tdq9Ze0sN3xIsRLTGnvkyJFUVlaiKAp6vR4hBE6nE4fDEXacw+GgtLQ0dL+8vDx0\n",
              "jM1mCz2emZnJvffeS1FREcuXL+ell15i0aJFpKamAnD//fdz0003dVgek8mEyWQKe0yn00V0Tl3Z\n",
              "ptlR7V5R0xhWOy+fOVLOZ0sxEdMaOy0tjdzcXPbs2QPAvn37yMzMDGuGQ7DvvX//fqqqqhBCsH37\n",
              "du655x4AKisrUdVgDeZ2uzlw4AAzZswAYPTo0bz33nv4fME0vgcOHGDq1KmxPKUua127Zw1JCtXO\n",
              "Rr2Wr6tcvPKXCoYkG+V8thR1Mf8EFRYWkp+fz5YtW7DZbOzevRuABx98kLy8PPLy8hg9ejSbN29m\n",
              "7ty5ACxYsICCggIg+GXw4osvotfrURSFu+++m5UrVwLw8MMP89VXXzF9+nQMBgPp6els37491qfU\n",
              "ZS1r9+bVZklGHaeq3Li9fqrrvPxgUfBLrqbBJ+ezpajRCCE6u3BkQlu3bh3PPfdczN/HH1DZ8OYx\n",
              "3v+6GkUIVFXg9asMSjYwd+xQvvN3WUzLtHca1DJlktQVss3XSww6LffMdvBhyUU0ARVPQMVo0BIQ\n",
              "wZHx14+cYVqm/aqvIUfQpa6SX/m9oHkkfFKGlXljh5JmM2EyaNFpNVjNejJSLW1ykrf3GnIEXeoq\n",
              "WWPHWOta9pZrMwCobfCDUMlMTeLilZHzqw2ayZRJUiRkYMdQy1o2zWamtLqe/6KKzbdP4atKN68d\n",
              "dnY6aNbcpzYbtF3OcipJ8lMRA83B6A+o7dayHr/KdVmDmJZpD7viZmtfV7nYfrCUuiY/aTYzN09J\n",
              "57+okjvCpE7JwI6ylk3vIclGTHot5+ua8CkBLjX4GDvcGqplWy9YWTk3mzSrGbNBy7Gzdfx035fU\n",
              "NvixWvRUu70AbFo6GY9fbXdUXI6YS81kYEdR66Z32cUGLEYdtQ0+ymsasVkM3DwlHYNO2+bY49/U\n",
              "sXbPZwxNMV7pO/txeRTsZgMef3CjSrXLg8evtlu7yxFzqSX5tR5FrQe4hlpNlFTXY7XomeEYxKAk\n",
              "A/91oipUs4YSM5j11F3Ji3b2UhPVLg/1V0bI3V4FnVaDuym4x7u9PrUcMZdakzV2FLW+jE/l5WBC\n",
              "iGtSkxiUZMSo14ZGsltmMPUpRtwehRSTHoHAYtBx2eMHASqCeo9Cms3MmgVj5EUGpC6RNXYUtU62\n",
              "MH64lZyRqVx0e8PWgle7PH/LYNrgo7bBx+BkA6lJBnRaLXUeBS2g02rQaGBIspFt9+YwMT24Iab1\n",
              "/m2ZQ01qTf7lo6x1TvCKmkYKPyilqs7DqKHJrJybze4Pg5fTTTLqcDX5afQFmDbSjlajoarOQ029\n",
              "F4vBgD1JT7rNgsmg5ZrUJKDjvrTMoSa1JAM7Btps7RTQvCC/rsnPuctNDEkxUny+ngDBZpOzphGv\n",
              "opKRaibNasJs0DFqWAoX3V4cQ5JCe7lbz4vvLDod2hu+aelkKus8ZNjNJBnln3Ygi/iv7/P5MBqD\n",
              "H9rTp09z8uRJbrnlloj3NQ8EzYFYVtNAms3MyUoXj+/9Eo8/gC+ghqI9xaSn3qNQ71UYPSwFs1GH\n",
              "z6/ibXWJn6vlI69t8IVaBul2M9+bP4o0a8cX/5MSW8SBPXfu3NAe6Pnz55Odnc2BAwfiartkPPAH\n",
              "VJy1jVS7PWEj326Pn4kZNk6dd+PxB0gy6km3mTh5zoXJoKPsQj31PgWdRsN9/yubeeOGhgKzo2ts\n",
              "mw1anv3vv/JJWS0aLRw7V8f/lNYwdngKw21mOfU1AEX8Va4oClarlXfeeYf777+fQ4cOcejQoViU\n",
              "rd8qqa5nw5vH+Ke3j1N+sYGKmgZq6oM1q8Woo9rlQaeFJKOOaZl2AioEhKC2wcvZy000+QL4A4I/\n",
              "Hqts89rLZ45k1NDksAv2uT0KR89cRhECk15Ho1fhvNuDVqORU18DVLea4hDM9/2d73wHiDy9UCLz\n",
              "B9Sw2tMfEPgCKnaLgUHJBi43+vEoKkIIdBoNNoseq1nP5SYz5Rcb8QcEqgiQbNJTXtOAs7YRx+Ck\n",
              "sFVqQ5KNPLxwbGj/9nmXJ/T+qhCoIjiibjPrMRt0cuprAIo4sBcuXMjkyZMJBAIUFhZy6dKlUBZS\n",
              "KZgppbn2tBoMeP0+aup9XJNqYdTQJI5/40ZRVQKqQKfT8vHpWjJTLWQPTeHcpSYUVaAF6hr9fOV1\n",
              "8fM/nCDNaqa+xVx12cWGsP3bg5ON5IxM5ZOyWvyKik6rwWLQ4VHULu0ckxJPxH/tbdu28cUXXzB6\n",
              "9GgMBgOqqrJz585YlK3fE0Lg8QcQgNVs4HKjjySjFrdHRafToiJQAoTmpI16Hd5AMLtKQFFRVA0e\n",
              "v8rJShe19V6mOwa1GTSzmvW4PQo/+tY4dhWVUVnnIdmkQ6vR4FXUmE99yfXp8SniwD5y5AhTpkwh\n",
              "KSmJ119/ncOHD7Nu3bpYlK1fall7Ngf14GQjw1KCU1gAHkVFFQKr2UBmqgWvojLcZuKC20u9FzSA\n",
              "CgRUwbGzl0ky6WnwBii7UI82zRoaNDt3uZHfFpWFdn99b96o0EAdEPOAk+vT41fEf/EHH3wQk8lE\n",
              "cXExP/vZzzAYDKHkglJwDvsnN01g4cQ0Jgy3MiLVwtAUE26vEgzIYSnMGzuUa1ItjB9updEXIHto\n",
              "Mk8vm8bP75iKTqsBDWi1wdmwJr+KXxGYDFq8ikqTT2FMWgrfmpjGD149yvtfX6C4up7j39Sx+6Py\n",
              "UCDH+vJBcn16fIu4xtbpdOh0Ov7jP/6DtWvXsm7dulA6YClobFoKW+68FrcnGMy7PyoPWxEGtFkl\n",
              "lmTUMy0zFbvFQKM/gFGnoabejwZITTKQNSQZrRaeuG0yGXYzG/Ydo7bei8WkD9v91VuDZHJ9enyL\n",
              "OLC9Xi/nz5/nD3/4A7/4xS8Aunz9q4GkucYcnGwMW2LaXIO299jgZCMzHIOCI+qAQafBbNAxIcNK\n",
              "bX0w04pjcBJuj8KlJh/JJj2+gIpep73q7q9Y6GhOXQ7SxYeI22mPPPIIEyZMwG63k5ubS2lpKYMG\n",
              "DYpF2RJGe83ijh4LNePTbSycmMbcsUNRAiJsEKza5cFZ24SrSaHRF6DeozA4xdjh7q9YnVPLDS9y\n",
              "fXp86XFecVVVURQltMy0v+mtvOKRaDnSDOGDYP6AyhNvHef4uTrqmvy4Gn2kJpt44bszmDoitU/L\n",
              "KoM6fkTcblIUhV/96lf86U9/AuCmm27ixz/+cbTLNaC13kTS8v/NfdusIclYTcFL9SqqGtr91VXR\n",
              "CsiuXMtM6n0RB/a6desoLS3loYceQqPR8Nvf/han08nzzz8fi/JJrYT1bW1mLjf6Iu7bymmqxBdx\n",
              "YB88eJCjR4+i1Qa/5W+99VZyc3OjXjCpfV29TndHrrb1UzalE0fEgS2EQFXVUGALIRjgl//qda2T\n",
              "OUQSkHKaamCIOLAXL17MTTfdRH5+PgAvvfQSt9xyS7TLJXWiO31bf0DFH1AZkmyk7GIDIKepElXE\n",
              "f81f/OIXFBYWsn//fgDuuusuVq9eHfWCSdHVsl9t0gevKiKnqRJXxIGt1WpZu3Yta9eujUV5pBho\n",
              "3a+udgXzrz2ZNyGmy06lvtPlwO5so0e8zQVLf9Nev7qmwRdaUy4lni4Htt1+9Ws3S/GrK8s/5UKT\n",
              "xNLlwN60aVOXjvv1r3/Nj370o24XSIq+zqbI5Lx24on6V/O///u/R/slpShoniL75d3TQ+mKQW6/\n",
              "TFRRn+OQc9rxq70pMjmvnZiiXmNrNJqw+8XFxcyZM4fx48cza9YsTpw40e7zdu3axbhx4xgzZgyr\n",
              "Vq3C7/cDwZVuFouFnJyc0K2pqSn0vGPHjrFgwQImTZrEpEmTePPNN6N9SnGp9WV+ukteHigxxfyv\n",
              "V1BQwOrVq8nPz2fv3r3k5+fzySefhB1TVlbGxo0b+eyzzxg+fDi33347O3bs4OGHHwZgwoQJHD16\n",
              "tM1rNzY2cvvtt/PSSy8xb948AoEAtbW1sT6lPhfNPnFPl6hK8Snqf72WTfHq6mqOHDnCihUrAFi2\n",
              "bBlnzpyhpKQk7Dl79+4lLy+P9PR0NBoNa9as4dVXX+30vV555RWuv/565s2bBwSzuwwbNqzD471e\n",
              "Ly6XK+zW35JExKJP3FH/W+q/oh7Y//Zv/xb6/5kzZ8jIyAilJ9ZoNDgcDpxOZ9hznE4nWVlZofvZ\n",
              "2dlhx5SWlpKbm8usWbN44YUXQo+fPHkSk8nEbbfdRk5ODvfddx8XLlzosGxbt27FbreH3Q4fPtzT\n",
              "U+5VrfvEaTZzqE/cE7HOkSb1ri43xUeNGtWm/9zS6dOnAZg+fXrPS9VCbm4uZ8+exW63c/bsWZYs\n",
              "WcLQoUNZvnw5iqLw7rvv8vHHH3PNNdewYcMG1q5dy969e9t9rfXr17dZaLNx48aoljfW+iIlkZzj\n",
              "7n+6/Gk4cOAAAK+99hrl5eUUFBQAsHPnzrDatqWRI0dSWVmJoijo9XqEEDidThwOR9hxDoeD0tLS\n",
              "0P3y8vLQMTabLfR4ZmYm9957L0VFRSxfvhyHw8HChQsZMWIEACtWrODmm2/u8BxMJhMmkynssf52\n",
              "FZPe7hPLOe5+SkRo5syZYfdVVW3zWEs33HCD2L17txBCiDfeeENcd911bY4pLS0VGRkZorKyUqiq\n",
              "KpYuXSq2bdsmhBDi3LlzIhAICCGEcLlcYs6cOWLXrl1CCCEqKirExIkTRV1dnRBCiGeeeUYsWbIk\n",
              "ovN55JFHIjo+XviUgKip9wqfEojpezz2xhdi2QuHxNo9n4plLxwSj+39IqbvKUVHxO23uro6Ghoa\n",
              "SE5OBqChoYG6uroOjy8sLCQ/P58tW7Zgs9nYvXs3EMxPnpeXR15eHqNHj2bz5s3MnTsXgAULFoRa\n",
              "BPv27ePFF19Er9ejKAp33313KI+5w+Fgw4YNzJkzB61Wy4gRI9ixY0ekp9Qv9UZKIjnH3X9FnMzw\n",
              "ySefZN++fSxfvhyAN954g7vuuot/+qd/ikkBYy0ekxnGC39A5Ym3j1Na/bddYWOujKDLvnZ8i7jG\n",
              "fvLJJ5k1axbvvfceENyfLRMtxLfuDn7JOe7+q8fph/u7RK+xozH4JUfF+58u19g/+clPePbZZ/mH\n",
              "f/iHdqe9BspSzv4kWokLZYrh/qfLgb1gwQIA7rjjjhgVRYq22gYf5y43MdRqkoNfA0yXA3vp0qUA\n",
              "3H///TErjBQ9JdX1FB4speRCPf6AyuQMG42+gExcOEDI1EgJqLkJXlbTwLg0KyfP1VFcXc+8sUPl\n",
              "4NcAIVMj9QORDl41zz8PtZpIMurIzR5EozfAozdPYLjN3Oflk4NxsRf11EhSdHVnVNtq1mPSa4OX\n",
              "49WCEDAre3BM+tWRlk8uUe0d3fq6PHz4MDt27OD5558P3aTo62iLZqNP6TzJQmgSU9Pi/71Tvo7K\n",
              "JdMw9Z6IR1G2bNnC3r17cTqd3HDDDfzpT3/ixhtv5Ic//GEsyjegtbeks/xiAxv2HcPlVTqs8dwe\n",
              "BW9AZeaowSQZdDT6A3gVNeqj4ZEuOZVLVHtPxDX2K6+8wkcffURmZib79u3jk08+CV3HS4qu1mmL\n",
              "ztc1Ue324rzUeNUar/l5F91ePIrKRbe303RH3Um1FGlaJZmGqfdEHJFmsxmz2YyqqgghmDBhQtiW\n",
              "Syl6mpd0jklLweMPMHJwEmlWE+l2y1WTLLR+XmdLQUuq63nireM8+sYXPPH2cUqu7PWOtHydvU+k\n",
              "x0vdF/FXpcViwe/3k5OTw6OPPkpmZma/Sy/Un7S8sqbZoGXT709wqtqNKixcvLJ+u70ar6tX5Ozp\n",
              "6rRIr/zZkyuFSl0X8W/16aefxufz8eyzz+JyuTh06BAvv/xyLMomXdG8pPPcZQ/1HoVql5cvzlwO\n",
              "9bGvVkN2lu4oGqmWIk2rJNMwxV7ENXZeXh6LFi1i5cqVFBYWyv51L2muWS/Ue5k+MpXKy02kmPRk\n",
              "DUnq0ev2RaolKfYijkqn08mtt97KM888Q1ZWFuvXr+fUqVOxKJvUQsuadVCSkRGDkqhp8EUliWG0\n",
              "+r3RynUu9VzEX8vJycnk5+eTn59PWVkZW7duZdKkSbKfHWOxrFmj0e+VC0/iS7fa0X6/n3379vH9\n",
              "73+ft99+W14ruxfEekS5J/1eufAk/kT8df+DH/yAN954gxkzZrBy5UreeustjEa5uKA3xOuIslx4\n",
              "En8iDuyMjAyOHDlCZmZmLMojdSIekx501E0wG7TUNvji6ktooIg4sDds2BCLckj9WHu50W6eks7m\n",
              "/Sdln7uPyDkNKSqauwm1DT6UgMr/fbeYsosNPUrJJHWfDGwpaipqGtn559N8c7mJ0gv1jEtLkX3u\n",
              "PiK/PqWoaDkynmLW41dUTla6uNTok5s9+oAMbCkq3B6FareH1CQDdouBydfYMei0NHgUudmjD8iv\n",
              "UCkqql0eymsaqa33YbXosVsMzBs7lEdvniDXhfcBGdhSj/kDKrsPlZNk1OG36HE3+THotHxv/qiY\n",
              "5FiTOicDW+qx5gUqWUOSsZr01DT4UFSVNKsM6r4i20dSj7XMjOL2Klxu9DHcZg4tUJFLS3ufrLGl\n",
              "HpMLVOKPDGwpKlpnetm8/2SPrxkmdZ/8LUtR07yO3eNXe5yVReoZGdhS1MlspH1PBrZ0Vd3JiiKz\n",
              "kfY9+RUqdagnWVHide/4QBHz33ZxcTFz5sxh/PjxzJo1ixMnTrR73K5duxg3bhxjxoxh1apV+P1+\n",
              "AA4ePIjFYiEnJyd0a2pqCnuuEIJFixaRmpoa69MZMKKRFUVmI+07Mf+NFxQUsHr1ak6dOsXjjz9O\n",
              "fn5+m2PKysrYuHEjRUVFlJSUcP78eXbs2BH6+YQJEzh69GjoZrFYwp7/q1/9ijFjxsT6VAaUaKQl\n",
              "lvpOTAO7urqaI0eOsGLFCgCWLVvGmTNnKCkpCTtu79695OXlkZ6ejkajYc2aNbz66qtdeo8TJ07w\n",
              "9ttv89Of/rTTY71eLy6XK+wmkzC2r68HwGTG056JaWCfOXOGjIwM9Prgh0Gj0eBwOHA6nWHHOZ1O\n",
              "srKyQvezs7PDjiktLSU3N5dZs2bxwgsvhB73+/2sWrWKwsJCdDpdp+XZunUrdrs97Hb48OGenmZC\n",
              "6ssBsO5eckj6m7gfPMvNzeXs2bPY7XbOnj3LkiVLGDp0KMuXL2fz5s3ceeedTJo0ifLy8k5fa/36\n",
              "9axbty7ssY0bN8ao5P1fXwyA9fSSQ1JQTH9TI0eOpLKyEkUJ9suEEDidThwOR9hxDoeDioqK0P3y\n",
              "8vLQMTabDbvdDkBmZib33nsvRUVFAHzwwQds27aN7Oxs5s2bh8vlIjs7mwsXLrRbHpPJhM1mC7t1\n",
              "paYfyHp7AEz27aMjpn+ttLQ0cnNz2bNnDwD79u0jMzOTsWPHhh23bNky9u/fT1VVFUIItm/fzj33\n",
              "3ANAZWUlqhrsZ7ndbg4cOMCMGTMAKCoqoqKigvLycj788ENsNhvl5eUMGzYslqclxVBf9+0TRcy/\n",
              "hgsLCyksLGT8+PE8/fTT7N69G4AHH3yQ/fv3AzB69Gg2b97M3LlzGTt2LMOGDaOgoAAIfhlce+21\n",
              "TJ8+neuvv55vf/vbrFy5MtbFlnpRy4EyubglOjRCCNHXhehL69at47nnnuvrYgwY/oAa1mfvaBFM\n",
              "6+P6i3gpt2zfSFHX0Ye7dRCvnJPN7kPlHQ6UxTKjaSwCMJ6uXyYDW4qqq9XArUe7t39QSl2Tv9cv\n",
              "DRSLAIy30fz+08aR4kpzv7jRp4T6x1dbhtreaPflJj92i6FXBspaljcWFxCMt9F8WWMPIFdrfkbS\n",
              "NG2u8cprGqh2e0mzmsgemszymSO5UO9lqNWEWa9lqNUU+nC3vr5XVV0TjsFJPDh/FC9/7AxlXonF\n",
              "QFnLGtpm1lNZ54l6KyGWlznuDhnYA8TVmp+RNE2ba+XiajfVbi+XrtTWSkDltcNODDoNR8pq0Wg1\n",
              "CFUwa9Tg0JdFc/qk8osNXGr0Y9B5ePljJyvnZJNmM8dkwKl1E9lZ28ilRj/KlRo6WgHYXnqovhzN\n",
              "l03xBOcPqJx3eSg8WNpu8zPSXVy1DT6+udxEapIRVQisFgOqEAxKNnKx3osSEKABaP73b8ampbBp\n",
              "6WQy7GYGJxkYkhKs4XZ/VB6zUeTWTeR0u4U0q4mRg5OiPp3WvFLvl3dP56k7pvZpjjdZYyew5pr4\n",
              "3OUmSi7UMy7N2qb5CXT52tYl1fUUfhD8gvD5Axj0WtwehUHJRi41+Bg5OInLTX5mZg8myaij0RfA\n",
              "q6hhr+Xxq7g8CsPtll4ZMOuoibxp6WQ8fjXqXyjxcpljWWMnqJY1cbJZjz+gcvJcXZtraXV1pVfz\n",
              "65VdbGBcWgoarYaAKkizmhiRamHscCtrFoxhuM3MRbcXj1/lotvb5rVitbKso91gHS14STLqE3qv\n",
              "uKyxE1TrJujkDBvF1fXUt3Mtra70DVu/XpJJT4NH4ell12Ix6tv0ozt6rVj0RTsbIxiI2VxkYCeo\n",
              "1k3QRl+gw2tpdeWD3/r1Ll4JyjSbOeLXimagdXX+OF6ayL0l8b+6Bqj2mqAFNwSbyu0FUme7uCJZ\n",
              "w92VHWHR2jUWb/PH8ULW2Aks2k3QeGzSxtv8cbzo+7+MFFPR3k8dbwkK5W6w9g3srzUpIXTWkoiX\n",
              "HVe9SQa2lBA6GhyLpx1XvWlgfH1JA1I0cqP3V7LGlhJW6xFz6J1tofFA1thSwupP+dOinUc9/s5Q\n",
              "kqIk3nZcdSQW4wAysKWEFo9z7y3FKvOKDGwp4cXzctJYjQPE19eXJA0wsRoHkIEtSVEWyUBYrFbO\n",
              "yaa4JEVRdwbCYjEOIGtsSYqSniyIifYafFljS1KUxNOCGFljS1ILPVkoEk8LYmSNLUlX9HShSDwt\n",
              "iJGBLUlEb6FIvCyIkYEtxaXe3kMdzf5xPCyIkYEtxZ2+2EOdaCmW5OCZFFf6ag91oqVY6p9fR1LC\n",
              "6sspo77uH0ez+yEDW4orfd0k7qv+cbS7H/2znSElrERrEndFLLofssaW4k5fN4l7Wyy6HzH/jRUX\n",
              "FzNnzhzGjx/PrFmzOHHiRLvH7dq1i3HjxjFmzBhWrVqF3+8H4ODBg1gsFnJyckK3pqYmAN577z1m\n",
              "z57N5MmTmTJlCo899hiqmviJ6gaCeMtfHkuxWLEW899aQUEBq1ev5tSpUzz++OPk5+e3OaasrIyN\n",
              "GzdSVFRESUkJ58+fZ8eOHaGfT5gwgaNHj4ZuFosFgEGDBvHaa69x8uRJPv30Uz766CNeeumlWJ+S\n",
              "JEVVLLofMW2KV1dXc+TIEf77v/8bgGXLlvH973+fkpISxo4dGzpu79695OXlkZ6eDsCaNWvYsmUL\n",
              "Dz/88FVff8aMGaH/m81mcnJyKC8v7/B4r9eL1+sNeywQCER6WpIUddHufsS0xj5z5gwZGRno9cHv\n",
              "D41Gg8PhwOl0hh3ndDrJysoK3c/Ozg47prS0lNzcXGbNmsULL7zQ7ntVVVWxd+9ebrvttg7Ls3Xr\n",
              "Vux2e9jt8OHDPTlFSYqaaHY/4r4Dk5uby9mzZ/nss89466232L59O6+//nrYMS6Xi6VLl/LYY48x\n",
              "c+bMDl9r/fr11NXVhd1mz54d61OQpF4X08AeOXIklZWVKErwkqZCCJxOJw6HI+w4h8NBRUVF6H55\n",
              "eXnoGJvNht1uByAzM5N7772XoqKi0LFut5vFixdz++23s27duquWx2QyYbPZwm46nS4q5ypJ8SSm\n",
              "gZ2WlkZubi579uwBYN++fWRmZob1ryHY996/fz9VVVUIIdi+fTv33HMPAJWVlaGRbrfbzYEDB0J9\n",
              "6/r6ehYvXszixYt54oknYnkqktS/iBj7+uuvxfXXXy/GjRsnrrvuOvHll18KIYT43ve+J37/+9+H\n",
              "jtuxY4cYPXq0GD16tHjggQeEz+cTQgixbds2MXnyZDFt2jQxefJksWnTJqGqqhBCiKeeekro9Xox\n",
              "ffr00O2pp56KqHyPPPJIlM5UkuKHRggh+vrLpS/deeedZGdn93UxoiIQCHD48GFmz56dMF0MeU7h\n",
              "srKy+NGPftTpcQM+sBOJy+XCbrdTV1eHzWbr6+JEhTyn7on7UXFJkiInA1uSEpAMbElKQDKwE4jJ\n",
              "ZGLTpk2YTKa+LkrUyHPqHjl4JkkJSNbYkpSAZGBLUgKSgS1JCUgGtiQlIBnY/URPU0zFYxqpnp5T\n",
              "MyEEixYtIjU1tRdKfXXROKdjx46xYMECJk2axKRJk3jzzTcjL0gfrlOXIrBw4UKxe/duIYQQb7zx\n",
              "hpg5c2abY06fPi0yMjJEZWWlUFVVLF26VPzmN78RQgjx2WefidLSUiGEEE1NTWLu3Lmh1+srPT2n\n",
              "Zs8++6x48MEHhd1u74VSX11Pz6mhoUGMGjVKFBUVCSGEUBRFVFdXR1wOGdj9wPnz54XVahV+v18I\n",
              "IYSqqmL48OGiuLg47LhnnnlGFBQUhO6/8847Yu7cue2+5sMPPyw2bdoUszJ3JlrndPz4cTF//nxR\n",
              "UlLS54EdjXPauXOnuPfee3tcFtkU7weilWKqWVfSSMVaNM7J7/ezatUqCgsL42LnVzTO6eTJk5hM\n",
              "Jm677TZycnK47777uHDhQsRlkYE9wHQ1jVR/sHnzZu68804mTZrU10WJGkVRePfddyksLOTzzz9n\n",
              "xIgRrF27NuLXkYHdD0QjxRRElkYq1qJxTh988AHbtm0jOzubefPm4XK5yM7O7lYNFw3ROCeHw8HC\n",
              "hQsZMWIEGo2GFStW8PHHH0demB435qVeccMNN4QNylx33XVtjiktLW0zKLNt2zYhhBBut1vMmTNH\n",
              "bN68uTeLfVU9PaeWysrK+ryPLUTPz6miokJMnDhR1NXVCSGC/fElS5ZEXA4Z2P1ET1NMRSONVLT1\n",
              "9JxaipfAjsY5vfTSS2LKlCni2muvFYsXLxZOpzPicshNIJKUgGQfW5ISkAxsSUpAMrAlKQHJwB6A\n",
              "nnzySTweT8TPO3fuHPPnz+/2+x48eJCcnJxuP1/qOhnYA9DmzZvbDezm+deOXHPNNWGXV5Lilwzs\n",
              "AWbNmjUAzJ8/n5ycHJYsWcIDDzzA3//93zN16lQAvvvd7zJz5kymTZvGrbfeSlVVFRBcSNFyB5VG\n",
              "o2HLli3Mnj2bUaNGsXv37ojK8vLLLzNt2rTQ+3zzzTcAfPzxx1x33XXk5OQwdepUXnzxRQB++9vf\n",
              "MnnyZHJycrj22mv5y1/+0tNfR+Lq6byd1P8A4tKlS0IIIe6//34xbdo04XK5Qj9vuZto69atoQ0L\n",
              "reeKAfHLX/5SCCHEV199JVJSUkIbINrz/vvvi+nTpwshhDh27JgYPny4OHv2rBAiOM++ePFiIYQQ\n",
              "eXl54pVXXgk9r7a2VgghhM1mE+fOnRNCCOHz+YTb7e7O6Q8IMb3wvdQ/3H333Vit1tD9V155hZdf\n",
              "fhmPx4PH42Ho0KEdPve73/0uABMnTkSv11NVVUVmZman7/n++++zePFiRowYAcBDDz3Ez3/+cwKB\n",
              "AAsXLuSf//mfKS4uZtGiRcybNw+AG2+8kX/8x39k6dKl3HLLLYwfP74np53QZFNcIiUlJfT/Dz/8\n",
              "kOeff54//vGPHD9+nOeee+6qA21mszn0f51O12k/vSMajSb0/x//+Me88847ZGRksGHDBh566CEg\n",
              "eLXWp59+Gr/fz5IlS3jttde69V4DgQzsAchqtVJXV9fuzy5duoTVamXIkCH4fD4KCwtjUoaFCxfy\n",
              "n//5n5w7dw6A7du3c+ONN6LT6fjrX//KqFGjWLVqFRs2bODjjz9GURRKS0uZOXMmjz76KHfddReH\n",
              "Dx+OSdkSgWyKD0A/+clP+Pa3v01SUhLXXHNN2M8WL17Mnj17mDBhAkOGDOFb3/pWaFArmqZOncq/\n",
              "/Mu/sHjxYiC4M2rnzp0A/OY3v+G9997DaDSi0+l49tlnCQQCPPDAA9TW1qLX6xk2bFjEg3UDiVwr\n",
              "LkkJSDbFJSkByaa4FHUzZ85sM4g2ZcoUfve73/VRiQYe2RSXpAQkm+KSlIBkYEtSApKBLUkJSAa2\n",
              "JCUgGdiSlIBkYEtSApKBLUkJ6P8Dv6R3NhiIQg8AAAAASUVORK5CYII=\n",
              "\">\n",
              "        \n",
              "      </div>\n",
              "      <script></script>\n",
              "      <script type=\"text/javascript\">\n",
              "        (() => {\n",
              "          const chartElement = document.getElementById(\"chart-de027b39-4f1f-44ad-9279-7187a503961c\");\n",
              "          async function getCodeForChartHandler(event) {\n",
              "            const chartCodeResponse =  await google.colab.kernel.invokeFunction(\n",
              "                'getCodeForChart', [\"chart-de027b39-4f1f-44ad-9279-7187a503961c\"], {});\n",
              "            const responseJson = chartCodeResponse.data['application/json'];\n",
              "            await google.colab.notebook.addCell(responseJson.code, 'code');\n",
              "          }\n",
              "          chartElement.onclick = getCodeForChartHandler;\n",
              "        })();\n",
              "      </script>\n",
              "      <style>\n",
              "        .colab-quickchart-chart-with-code  {\n",
              "            display: block;\n",
              "            float: left;\n",
              "            border: 1px solid transparent;\n",
              "        }\n",
              "\n",
              "        .colab-quickchart-chart-with-code:hover {\n",
              "            cursor: pointer;\n",
              "            border: 1px solid #aaa;\n",
              "        }\n",
              "      </style>"
            ],
            "text/plain": [
              "import numpy as np\n",
              "from google.colab import autoviz\n",
              "df_265328170275662483 = autoviz.get_df('df_265328170275662483')\n",
              "\n",
              "def scatter_plots(df, colname_pairs, scatter_plot_size=2.5, size=8, alpha=.6):\n",
              "  from matplotlib import pyplot as plt\n",
              "  plt.figure(figsize=(len(colname_pairs) * scatter_plot_size, scatter_plot_size))\n",
              "  for plot_i, (x_colname, y_colname) in enumerate(colname_pairs, start=1):\n",
              "    ax = plt.subplot(1, len(colname_pairs), plot_i)\n",
              "    ax.scatter(df[x_colname], df[y_colname], s=size, alpha=alpha)\n",
              "    plt.xlabel(x_colname)\n",
              "    plt.ylabel(y_colname)\n",
              "    ax.spines[['top', 'right',]].set_visible(False)\n",
              "  plt.tight_layout()\n",
              "  return autoviz.MplChart.from_current_mpl_state()\n",
              "\n",
              "chart = scatter_plots(df_265328170275662483, *[[['train_loss', 'valid_loss']]], **{})\n",
              "chart"
            ]
          },
          "metadata": {},
          "output_type": "display_data"
        }
      ],
      "source": [
        "# Create a DataFrame from our training statistics\n",
        "df_stats = pd.DataFrame(data=training_stats)\n",
        "\n",
        "# Use the 'epoch' as the row index\n",
        "df_stats = df_stats.set_index('epoch')\n",
        "\n",
        "# Display the table\n",
        "df_stats"
      ]
    },
    {
      "cell_type": "code",
      "execution_count": null,
      "metadata": {
        "id": "X4Xot8_O8yBi"
      },
      "outputs": [],
      "source": [
        "model.eval()\n",
        "\n",
        "def predict_similarity(sentence_pair):\n",
        "  test_input = tokenizer(sentence_pair, padding='max_length', max_length = 128, truncation=True, return_tensors=\"pt\").to(device)\n",
        "  test_input['input_ids'] = test_input['input_ids']\n",
        "  test_input['attention_mask'] = test_input['attention_mask']\n",
        "  del test_input['token_type_ids']\n",
        "  output = model(test_input)\n",
        "  sim = torch.nn.functional.cosine_similarity(output[0], output[1], dim=0).item()\n",
        "\n",
        "  return sim"
      ]
    },
    {
      "cell_type": "code",
      "execution_count": null,
      "metadata": {
        "id": "nq0oIZp09Gdc"
      },
      "outputs": [],
      "source": [
        "text1 = \"\"\"\n",
        "Gradient descent is an optimization algorithm which is commonly-used to train machine learning models and neural networks. Training data helps these models learn over time, and the cost function within gradient descent specifically acts as a barometer, gauging its accuracy with each iteration of parameter updates.\n",
        "\"\"\"\n",
        "text2 = \"\"\"\n",
        "Gradient descent (GD) is an iterative first-order optimisation algorithm used to find a local minimum/maximum of a given function. This method is commonly used in machine learning (ML) and deep learning(DL) to minimise a cost/loss function (e.g. in a linear regression). Due to its importance and ease of implementation, this algorithm is usually taught at the beginning of almost all machine learning courses.\n",
        "\"\"\"\n",
        "text3 = \"\"\"\n",
        "Artificial intelligence is the simulation of human intelligence processes by machines, especially computer systems. Specific applications of AI include expert systems, natural language processing, speech recognition and machine vision.\n",
        "\"\"\"\n",
        "\n",
        "text4 = \"\"\"\n",
        "Natural language processing (NLP) is a branch of artificial intelligence (AI) that enables computers to comprehend, generate, and manipulate human language. Natural language processing has the ability to interrogate the data with natural language text or voice.\n",
        "\"\"\"\n",
        "\n",
        "text5 = \"\"\"\n",
        "Gradient Descent is known as one of the most commonly used optimization algorithms to train machine learning models by means of minimizing errors between actual and expected results. Further, gradient descent is also used to train Neural Networks.\n",
        "\n",
        "In mathematical terminology, Optimization algorithm refers to the task of minimizing/maximizing an objective function f(x) parameterized by x. Similarly, in machine learning, optimization is the task of minimizing the cost function parameterized by the model's parameters. The main objective of gradient descent is to minimize the convex function using iteration of parameter updates. Once these machine learning models are optimized, these models can be used as powerful tools for Artificial Intelligence and various computer science applications.\n",
        "\"\"\"\n",
        "\n",
        "# This is the summerized version of text5\n",
        "text6 = \"\"\"\n",
        " Gradient Descent is an optimization algorithm used to train machine learning models by minimizing errors between actual and expected results. It is also used to train Neural Networks and minimize the cost function parameterized by the model's parameters.\n",
        "\"\"\"\n",
        "\n",
        "text7 = \"\"\"\n",
        "The Fear Nothing Blood Test is able to give you an accurate understanding of your health by checking several key health indicators. The standard Fear Nothing Blood Test can tell you about your: Vitamin levels. Hormone levels. Liver health.\n",
        "\"\"\"\n",
        "\n",
        "text8 = \"\"\"\n",
        "This subject only gives a brief description about different types of materials used in building construction for members like foundation, masonry, arches, lintels, balcony, roof, floor, doors, windows, stairs, plastering, painting and other general topics. Properties of various construction materials, their uses and different applications are discussed in this subject.\n",
        "\"\"\"\n",
        "\n",
        "text9=\"\"\"\n",
        "Initial setting time for ideal cement mix is around 30 minutes for almost all kind of cements. For masonry cement it can be 90 minutes. Final setting time of ideal cement mix should be 10 hours at max. For masonry cement it shouldn’t exceed 24 hours.\n",
        "\"\"\""
      ]
    },
    {
      "cell_type": "code",
      "execution_count": null,
      "metadata": {
        "colab": {
          "base_uri": "https://localhost:8080/"
        },
        "id": "0T9ITBnC86X-",
        "outputId": "8de1aaa6-610a-43ea-a3c0-fedcb007a006"
      },
      "outputs": [
        {
          "name": "stdout",
          "output_type": "stream",
          "text": [
            "Predicted similarity score: 0.92\n"
          ]
        }
      ],
      "source": [
        "example = [text1, text2]\n",
        "print(f\"Predicted similarity score: {round(predict_similarity(example), 2)}\")"
      ]
    },
    {
      "cell_type": "code",
      "execution_count": null,
      "metadata": {
        "id": "ZKTqEwpvGcq3"
      },
      "outputs": [],
      "source": []
    },
    {
      "cell_type": "markdown",
      "metadata": {
        "id": "BoysljW3Gbll"
      },
      "source": [
        "**Save Model**"
      ]
    },
    {
      "cell_type": "code",
      "execution_count": 8,
      "metadata": {
        "colab": {
          "base_uri": "https://localhost:8080/",
          "height": 185
        },
        "id": "fpI3nqURGkHv",
        "outputId": "c0e38bed-6d91-4a8b-a46d-f32f67ebdec9"
      },
      "outputs": [
        {
          "ename": "NameError",
          "evalue": "ignored",
          "output_type": "error",
          "traceback": [
            "\u001b[0;31m---------------------------------------------------------------------------\u001b[0m",
            "\u001b[0;31mNameError\u001b[0m                                 Traceback (most recent call last)",
            "\u001b[0;32m<ipython-input-8-cab4750cacba>\u001b[0m in \u001b[0;36m<cell line: 2>\u001b[0;34m()\u001b[0m\n\u001b[1;32m      1\u001b[0m \u001b[0mPATH\u001b[0m \u001b[0;34m=\u001b[0m \u001b[0;34m'bert-sts.pt'\u001b[0m\u001b[0;34m\u001b[0m\u001b[0;34m\u001b[0m\u001b[0m\n\u001b[0;32m----> 2\u001b[0;31m \u001b[0mtorch\u001b[0m\u001b[0;34m.\u001b[0m\u001b[0msave\u001b[0m\u001b[0;34m(\u001b[0m\u001b[0mmodel\u001b[0m\u001b[0;34m.\u001b[0m\u001b[0mstate_dict\u001b[0m\u001b[0;34m(\u001b[0m\u001b[0;34m)\u001b[0m\u001b[0;34m,\u001b[0m \u001b[0mPATH\u001b[0m\u001b[0;34m)\u001b[0m\u001b[0;34m\u001b[0m\u001b[0;34m\u001b[0m\u001b[0m\n\u001b[0m",
            "\u001b[0;31mNameError\u001b[0m: name 'model' is not defined"
          ]
        }
      ],
      "source": [
        "PATH = 'bert-sts.pt'\n",
        "torch.save(model.state_dict(), PATH)"
      ]
    },
    {
      "cell_type": "code",
      "execution_count": null,
      "metadata": {
        "id": "O2GPTRcjGbAV"
      },
      "outputs": [],
      "source": [
        "# In order to load the model\n",
        "# First, you have to create an instance of the model's class\n",
        "# And use the saving path for the loading\n",
        "# Don't forget to set the model to the evaluation state using .eval()\n",
        "model = BertForSTS()\n",
        "model.load_state_dict(torch.load(PATH))\n",
        "model.eval()"
      ]
    },
    {
      "cell_type": "code",
      "execution_count": null,
      "metadata": {},
      "outputs": [],
      "source": [
        "# calculte MAE for test set\n",
        "test_ds = BDataset(test_df)\n",
        "test_dataloader = DataLoader(\n",
        "            test_ds,\n",
        "            num_workers = 4,\n",
        "            batch_size = batch_size # Use the same batch size\n",
        "        )\n",
        "\n",
        "model.eval()\n",
        "\n",
        "criterion = CosineSimilarityLoss()\n",
        "criterion = criterion.to(device)\n",
        "\n",
        "total_test_loss = 0\n",
        "nb_test_steps = 0\n",
        "\n",
        "for test_data, test_label in tqdm(test_dataloader):\n",
        "    \n",
        "        test_data['input_ids'] = test_data['input_ids'].to(device)\n",
        "        test_data['attention_mask'] = test_data['attention_mask'].to(device)\n",
        "    \n",
        "        test_data = collate_fn(test_data)\n",
        "    \n",
        "        with torch.no_grad():\n",
        "            output = [model(feature) for feature in test_data]\n",
        "    \n",
        "        loss = criterion(output, test_label.to(device))\n",
        "        total_test_loss += loss.item()\n",
        "\n",
        "# Calculate the average loss over all of the batches.\n",
        "avg_test_loss = total_test_loss / len(test_dataloader)\n",
        "\n",
        "print(\"Test Loss: {0:.5f}\".format(avg_test_loss))\n"
      ]
    },
    {
      "cell_type": "code",
      "execution_count": null,
      "metadata": {
        "id": "uz-SOzKaGGC3"
      },
      "outputs": [],
      "source": [
        "# Evaluate the model on the validation data\n",
        "from sentence_transformers.evaluation import EmbeddingSimilarityEvaluator"
      ]
    },
    {
      "cell_type": "code",
      "execution_count": null,
      "metadata": {
        "id": "39VcYFYWGD_X"
      },
      "outputs": [],
      "source": [
        "# Load the fine-tuned model from the output_path\n",
        "fine_tuned_model = SentenceTransformer('fine_tuned_model/')"
      ]
    },
    {
      "cell_type": "code",
      "execution_count": null,
      "metadata": {
        "id": "UaUZ065GGA5x"
      },
      "outputs": [],
      "source": [
        "# Evaluate the model on the test data\n",
        "# Define sentences1, sentences2, and scores for the evaluation\n",
        "test_sentences1 = [example.texts[0] for example in test_examples]\n",
        "test_sentences2 = [example.texts[1] for example in test_examples]\n",
        "test_scores = [example.label for example in test_examples]\n",
        "\n",
        "# Define the evaluation metric for test\n",
        "evaluator_test = EmbeddingSimilarityEvaluator(test_sentences1, test_sentences2, test_scores)\n",
        "\n",
        "# Evaluate the model on test data\n",
        "test_score = evaluator_test(fine_tuned_model, output_path='fine_tuned_model/', epoch=5, steps=500)\n",
        "print(\"Test score:\", test_score)"
      ]
    },
    {
      "cell_type": "code",
      "execution_count": null,
      "metadata": {},
      "outputs": [],
      "source": [
        "training_stats = []\n",
        "training_stats.append(\n",
        "          {\n",
        "              'epoch': epoch_i + 1,\n",
        "              'train_loss': avg_train_loss,\n",
        "              'valid_loss': avg_val_loss,\n",
        "          }\n",
        "      )\n",
        "\n",
        "train_loss = []\n",
        "valid_loss = []\n",
        "\n",
        "for i in range(len(training_stats)):\n",
        "    train_loss.append(training_stats[i]['train_loss'])\n",
        "    valid_loss.append(training_stats[i]['valid_loss'])\n",
        "\n",
        "# Plot the loss values"
      ]
    }
  ],
  "metadata": {
    "accelerator": "GPU",
    "colab": {
      "gpuType": "T4",
      "provenance": []
    },
    "kernelspec": {
      "display_name": "Python 3",
      "name": "python3"
    },
    "language_info": {
      "name": "python"
    }
  },
  "nbformat": 4,
  "nbformat_minor": 0
}
