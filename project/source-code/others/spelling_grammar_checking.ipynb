{
 "cells": [
  {
   "cell_type": "code",
   "execution_count": 1,
   "metadata": {},
   "outputs": [
    {
     "name": "stdout",
     "output_type": "stream",
     "text": [
      "Note: you may need to restart the kernel to use updated packages.\n"
     ]
    }
   ],
   "source": [
    "%pip install -qU git+https://github.com/PrithivirajDamodaran/Gramformer.git"
   ]
  },
  {
   "cell_type": "code",
   "execution_count": 2,
   "metadata": {},
   "outputs": [
    {
     "name": "stderr",
     "output_type": "stream",
     "text": [
      "/home/mijanur/Desktop/AI/DL NLP/natural_language_processing/venv/lib/python3.10/site-packages/tqdm/auto.py:21: TqdmWarning: IProgress not found. Please update jupyter and ipywidgets. See https://ipywidgets.readthedocs.io/en/stable/user_install.html\n",
      "  from .autonotebook import tqdm as notebook_tqdm\n"
     ]
    },
    {
     "ename": "OSError",
     "evalue": "[E050] Can't find model 'en'. It doesn't seem to be a shortcut link, a Python package or a valid path to a data directory.",
     "output_type": "error",
     "traceback": [
      "\u001b[0;31m---------------------------------------------------------------------------\u001b[0m",
      "\u001b[0;31mOSError\u001b[0m                                   Traceback (most recent call last)",
      "Cell \u001b[0;32mIn[2], line 2\u001b[0m\n\u001b[1;32m      1\u001b[0m \u001b[39mfrom\u001b[39;00m \u001b[39mgramformer\u001b[39;00m \u001b[39mimport\u001b[39;00m Gramformer\n\u001b[0;32m----> 2\u001b[0m gf \u001b[39m=\u001b[39m Gramformer(models\u001b[39m=\u001b[39;49m\u001b[39m1\u001b[39;49m)\n",
      "File \u001b[0;32m~/Desktop/AI/DL NLP/natural_language_processing/venv/lib/python3.10/site-packages/gramformer/gramformer.py:8\u001b[0m, in \u001b[0;36mGramformer.__init__\u001b[0;34m(self, models, use_gpu)\u001b[0m\n\u001b[1;32m      6\u001b[0m \u001b[39m#from lm_scorer.models.auto import AutoLMScorer as LMScorer\u001b[39;00m\n\u001b[1;32m      7\u001b[0m \u001b[39mimport\u001b[39;00m \u001b[39merrant\u001b[39;00m\n\u001b[0;32m----> 8\u001b[0m \u001b[39mself\u001b[39m\u001b[39m.\u001b[39mannotator \u001b[39m=\u001b[39m errant\u001b[39m.\u001b[39;49mload(\u001b[39m'\u001b[39;49m\u001b[39men\u001b[39;49m\u001b[39m'\u001b[39;49m)\n\u001b[1;32m     10\u001b[0m \u001b[39mif\u001b[39;00m use_gpu:\n\u001b[1;32m     11\u001b[0m     device\u001b[39m=\u001b[39m \u001b[39m\"\u001b[39m\u001b[39mcuda:0\u001b[39m\u001b[39m\"\u001b[39m\n",
      "File \u001b[0;32m~/Desktop/AI/DL NLP/natural_language_processing/venv/lib/python3.10/site-packages/errant/__init__.py:16\u001b[0m, in \u001b[0;36mload\u001b[0;34m(lang, nlp)\u001b[0m\n\u001b[1;32m     13\u001b[0m     \u001b[39mraise\u001b[39;00m \u001b[39mException\u001b[39;00m(\u001b[39m\"\u001b[39m\u001b[39m%s\u001b[39;00m\u001b[39m is an unsupported or unknown language\u001b[39m\u001b[39m\"\u001b[39m \u001b[39m%\u001b[39m lang)\n\u001b[1;32m     15\u001b[0m \u001b[39m# Load spacy\u001b[39;00m\n\u001b[0;32m---> 16\u001b[0m nlp \u001b[39m=\u001b[39m nlp \u001b[39mor\u001b[39;00m spacy\u001b[39m.\u001b[39;49mload(lang, disable\u001b[39m=\u001b[39;49m[\u001b[39m\"\u001b[39;49m\u001b[39mner\u001b[39;49m\u001b[39m\"\u001b[39;49m])\n\u001b[1;32m     18\u001b[0m \u001b[39m# Load language edit merger\u001b[39;00m\n\u001b[1;32m     19\u001b[0m merger \u001b[39m=\u001b[39m import_module(\u001b[39m\"\u001b[39m\u001b[39merrant.\u001b[39m\u001b[39m%s\u001b[39;00m\u001b[39m.merger\u001b[39m\u001b[39m\"\u001b[39m \u001b[39m%\u001b[39m lang)\n",
      "File \u001b[0;32m~/Desktop/AI/DL NLP/natural_language_processing/venv/lib/python3.10/site-packages/spacy/__init__.py:30\u001b[0m, in \u001b[0;36mload\u001b[0;34m(name, **overrides)\u001b[0m\n\u001b[1;32m     28\u001b[0m \u001b[39mif\u001b[39;00m depr_path \u001b[39mnot\u001b[39;00m \u001b[39min\u001b[39;00m (\u001b[39mTrue\u001b[39;00m, \u001b[39mFalse\u001b[39;00m, \u001b[39mNone\u001b[39;00m):\n\u001b[1;32m     29\u001b[0m     warnings\u001b[39m.\u001b[39mwarn(Warnings\u001b[39m.\u001b[39mW001\u001b[39m.\u001b[39mformat(path\u001b[39m=\u001b[39mdepr_path), \u001b[39mDeprecationWarning\u001b[39;00m)\n\u001b[0;32m---> 30\u001b[0m \u001b[39mreturn\u001b[39;00m util\u001b[39m.\u001b[39;49mload_model(name, \u001b[39m*\u001b[39;49m\u001b[39m*\u001b[39;49moverrides)\n",
      "File \u001b[0;32m~/Desktop/AI/DL NLP/natural_language_processing/venv/lib/python3.10/site-packages/spacy/util.py:175\u001b[0m, in \u001b[0;36mload_model\u001b[0;34m(name, **overrides)\u001b[0m\n\u001b[1;32m    173\u001b[0m \u001b[39melif\u001b[39;00m \u001b[39mhasattr\u001b[39m(name, \u001b[39m\"\u001b[39m\u001b[39mexists\u001b[39m\u001b[39m\"\u001b[39m):  \u001b[39m# Path or Path-like to model data\u001b[39;00m\n\u001b[1;32m    174\u001b[0m     \u001b[39mreturn\u001b[39;00m load_model_from_path(name, \u001b[39m*\u001b[39m\u001b[39m*\u001b[39moverrides)\n\u001b[0;32m--> 175\u001b[0m \u001b[39mraise\u001b[39;00m \u001b[39mIOError\u001b[39;00m(Errors\u001b[39m.\u001b[39mE050\u001b[39m.\u001b[39mformat(name\u001b[39m=\u001b[39mname))\n",
      "\u001b[0;31mOSError\u001b[0m: [E050] Can't find model 'en'. It doesn't seem to be a shortcut link, a Python package or a valid path to a data directory."
     ]
    }
   ],
   "source": [
    "from gramformer import Gramformer\n",
    "gf = Gramformer(models=1)"
   ]
  },
  {
   "cell_type": "code",
   "execution_count": null,
   "metadata": {},
   "outputs": [],
   "source": [
    "gf.correct(\"My name are Bhavesh\", max_candidates=1)"
   ]
  }
 ],
 "metadata": {
  "kernelspec": {
   "display_name": "venv",
   "language": "python",
   "name": "python3"
  },
  "language_info": {
   "codemirror_mode": {
    "name": "ipython",
    "version": 3
   },
   "file_extension": ".py",
   "mimetype": "text/x-python",
   "name": "python",
   "nbconvert_exporter": "python",
   "pygments_lexer": "ipython3",
   "version": "3.10.6"
  },
  "orig_nbformat": 4
 },
 "nbformat": 4,
 "nbformat_minor": 2
}
