{
 "cells": [
  {
   "cell_type": "markdown",
   "metadata": {},
   "source": [
    "#### Here will be covered : \n",
    "- Sentence Embedding\n",
    "- Sentence Similarity\n",
    "- Semantic Search\n",
    "- Clustering"
   ]
  }
 ],
 "metadata": {
  "language_info": {
   "name": "python"
  },
  "orig_nbformat": 4
 },
 "nbformat": 4,
 "nbformat_minor": 2
}
