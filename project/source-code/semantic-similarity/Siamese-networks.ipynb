{
 "cells": [
  {
   "cell_type": "code",
   "execution_count": null,
   "metadata": {},
   "outputs": [],
   "source": [
    "from keras.layers import Input, LSTM, Dense, concatenate\n",
    "from keras.models import Model\n",
    "import numpy as np\n",
    "\n",
    "# define the architecture of the subnetworks\n",
    "input_shape = (None, 128)\n",
    "lstm = LSTM(64)\n",
    "\n",
    "# define the input tensors for the two inputs\n",
    "input_1 = Input(shape=input_shape)\n",
    "input_2 = Input(shape=input_shape)\n",
    "\n",
    "# apply the subnetworks to the inputs\n",
    "output_1 = lstm(input_1)\n",
    "output_2 = lstm(input_2)\n",
    "\n",
    "# concatenate the outputs and apply a dense layer\n",
    "merged = concatenate([output_1, output_2])\n",
    "dense = Dense(1, activation='sigmoid')(merged)\n",
    "\n",
    "# define the model\n",
    "model = Model(inputs=[input_1, input_2], outputs=dense)\n",
    "\n",
    "# compile the model\n",
    "model.compile(optimizer='adam', loss='binary_crossentropy')\n",
    "\n",
    "# train the model on a dataset of sentence pairs and their similarity labels\n",
    "train_x1 = np.random.rand(100, 10, 128)\n",
    "train_x2 = np.random.rand(100, 10, 128)\n",
    "train_y = np.random.randint(2, size=100)\n",
    "model.fit([train_x1, train_x2], train_y, epochs=10, batch_size=16)\n",
    "\n",
    "# compute the similarity between new sentences\n",
    "test_x1 = np.random.rand(1, 10, 128)\n",
    "test_x2 = np.random.rand(1, 10, 128)\n",
    "similarity = model.predict([test_x1, test_x2])\n",
    "print(similarity)\n",
    "\n"
   ]
  }
 ],
 "metadata": {
  "language_info": {
   "name": "python"
  },
  "orig_nbformat": 4
 },
 "nbformat": 4,
 "nbformat_minor": 2
}
