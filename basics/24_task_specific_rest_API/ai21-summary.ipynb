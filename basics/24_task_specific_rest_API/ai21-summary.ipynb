{
 "cells": [
  {
   "cell_type": "code",
   "execution_count": 1,
   "metadata": {},
   "outputs": [],
   "source": [
    "API_KEY  = \"Bearer MCdEeTWTwKAq05WET22JdgBFAFdM4KHE\""
   ]
  },
  {
   "cell_type": "code",
   "execution_count": 2,
   "metadata": {},
   "outputs": [],
   "source": [
    "import requests\n",
    "url = \"https://api.ai21.com/studio/v1/summarize\""
   ]
  },
  {
   "cell_type": "code",
   "execution_count": 17,
   "metadata": {},
   "outputs": [],
   "source": [
    "text = \"\"\"The people of Bangladesh are currently facing several crises. On the one hand, the prices of commodities are increasing, with no moves from the authorities to bring them down. Different ministers have different things to say about this – while one says the people of the country are well, another says they don't have a way to interfere with the syndicates. Yet others are implying that the situation is unavoidable. All this means that the people will not see an end to their financial woes anytime soon.\n",
    "\n",
    "Now, what does it mean when the prices of commodities increase like this? It signals a decrease in people's real income. But real income was quite low as it was. Take the salaries of garment workers, for example, whose minimum monthly salary was Tk 8,000. If adjusted for inflation over the last couple of years, that money now has a real value of around Tk 5,000. So, in order for a minimum-wage garment worker to have the same purchasing power as before, they would need to be paid a salary of Tk 11,000 or more. The government has hinted at a five-percent increase in government workers' salary to battle inflation. But we need to keep in mind that 90 percent of the population doesn't fall under this category.\"\"\""
   ]
  },
  {
   "cell_type": "code",
   "execution_count": 18,
   "metadata": {},
   "outputs": [],
   "source": [
    "payload = {\n",
    "    \"sourceType\": \"TEXT\",\n",
    "    \"source\": text\n",
    "}"
   ]
  },
  {
   "cell_type": "code",
   "execution_count": 19,
   "metadata": {},
   "outputs": [],
   "source": [
    "headers = {\n",
    "    \"accept\": \"application/json\",\n",
    "    \"content-type\": \"application/json\",\n",
    "    \"Authorization\": API_KEY\n",
    "}"
   ]
  },
  {
   "cell_type": "code",
   "execution_count": 20,
   "metadata": {},
   "outputs": [],
   "source": [
    "response = requests.post(url, json=payload, headers=headers)"
   ]
  },
  {
   "cell_type": "code",
   "execution_count": 21,
   "metadata": {},
   "outputs": [],
   "source": [
    "response_json = response.json()\n",
    "summary = response_json['summary']"
   ]
  },
  {
   "cell_type": "code",
   "execution_count": 22,
   "metadata": {},
   "outputs": [
    {
     "data": {
      "text/plain": [
       "\"The people of Bangladesh are currently facing several crises, including increasing prices of commodities and an unavoidable situation where they will not see an end to their financial woes anytime soon.\\nThe prices of commodities increase like this, which means that people's real income decreases. The government has hinted at a five-percent increase in government workers' salary to battle inflation, but 90 percent of the population doesn't fall under this category.\""
      ]
     },
     "execution_count": 22,
     "metadata": {},
     "output_type": "execute_result"
    }
   ],
   "source": [
    "summary"
   ]
  },
  {
   "cell_type": "code",
   "execution_count": 23,
   "metadata": {},
   "outputs": [
    {
     "data": {
      "text/plain": [
       "468"
      ]
     },
     "execution_count": 23,
     "metadata": {},
     "output_type": "execute_result"
    }
   ],
   "source": [
    "len(summary)"
   ]
  },
  {
   "cell_type": "code",
   "execution_count": 24,
   "metadata": {},
   "outputs": [
    {
     "data": {
      "text/plain": [
       "1221"
      ]
     },
     "execution_count": 24,
     "metadata": {},
     "output_type": "execute_result"
    }
   ],
   "source": [
    "len(text)"
   ]
  },
  {
   "cell_type": "code",
   "execution_count": null,
   "metadata": {},
   "outputs": [],
   "source": []
  }
 ],
 "metadata": {
  "kernelspec": {
   "display_name": "venv",
   "language": "python",
   "name": "python3"
  },
  "language_info": {
   "codemirror_mode": {
    "name": "ipython",
    "version": 3
   },
   "file_extension": ".py",
   "mimetype": "text/x-python",
   "name": "python",
   "nbconvert_exporter": "python",
   "pygments_lexer": "ipython3",
   "version": "3.10.12"
  },
  "orig_nbformat": 4
 },
 "nbformat": 4,
 "nbformat_minor": 2
}
