{
 "cells": [
  {
   "attachments": {},
   "cell_type": "markdown",
   "metadata": {},
   "source": [
    "##### _REGEX TESTING BEST SITE_\n",
    "https://regex101.com/"
   ]
  },
  {
   "attachments": {},
   "cell_type": "markdown",
   "metadata": {},
   "source": [
    "#### REGEX PRACTICE"
   ]
  },
  {
   "cell_type": "code",
   "execution_count": 1,
   "metadata": {},
   "outputs": [],
   "source": [
    "import re"
   ]
  },
  {
   "cell_type": "code",
   "execution_count": 2,
   "metadata": {},
   "outputs": [],
   "source": [
    "# i my__ for you my778888\n",
    "# \\b my[_ 0-9)]*\\b"
   ]
  },
  {
   "cell_type": "code",
   "execution_count": 3,
   "metadata": {},
   "outputs": [],
   "source": [
    "chat1 = 'yes my phone567: 12999931736 email: abc@xyz.com'\n",
    "chat2 = '(123) 456-7890, abcZ@xyz.com, 1234567890, 123.456.7890, 123-456-7890, 123 456 7890, +91 1234567890, +1 1234567890'\n",
    "chat3 = 'I need to buy a new mobile which has 10 digit number. I am looking for 1234567890 and 9876543210 and 1234567890 order # 1234567890'\n",
    "\n",
    "\n",
    "def get_pattern_match(pattern, text):\n",
    "    matches = re.findall(pattern, text)\n",
    "    if matches:\n",
    "        return matches[0]\n"
   ]
  },
  {
   "cell_type": "code",
   "execution_count": 4,
   "metadata": {},
   "outputs": [],
   "source": [
    "# mobile number pattern matching\n",
    "\n",
    "# pattern = '\\d{10}'\n",
    "# parenthesis is used to group the pattern\n",
    "# pattern = '(\\d{3})'\n",
    "# pattern = '\\(\\d{3}\\)'\n",
    "# pattern = '\\(\\d{3}\\)\\s\\d{3}-\\d{4}'\n",
    "# pattern = '\\(\\d{3}\\)\\s\\d{3}-\\d{4}|\\d{10}'\n",
    "# pattern = '\\(\\d{3}\\)\\s\\d{3}-\\d{4}|\\d{10}|\\d{3}\\.\\d{3}\\.\\d{4}'\n",
    "# pattern = '\\(\\d{3}\\)\\s\\d{3}-\\d{4}|\\d{10}|\\d{3}\\.\\d{3}\\.\\d{4}|\\d{3}\\s\\d{3}\\s\\d{4}'\n",
    "# pattern = '\\(\\d{3}\\)\\s\\d{3}-\\d{4}|\\d{10}|\\d{3}\\.\\d{3}\\.\\d{4}|\\d{3}\\s\\d{3}\\s\\d{4}|\\+\\d{2}\\s\\d{10}'\n",
    "# pattern = '\\(\\d{3}\\)\\s\\d{3}-\\d{4}|\\d{10}|\\d{3}\\.\\d{3}\\.\\d{4}|\\d{3}\\s\\d{3}\\s\\d{4}|\\+\\d{2}\\s\\d{10}|\\+\\d{1}\\s\\d{10}'\n",
    "# pattern = '\\(\\d{3}\\)\\s\\d{3}-\\d{4}|\\d{10}|\\d{3}\\.\\d{3}\\.\\d{4}|\\d{3}\\s\\d{3}\\s\\d{4}|\\+\\d{2}\\s\\d{10}|\\+\\d{1}\\s\\d{10}|\\d{3}\\s\\d{7}'\n",
    "# pattern = '\\(\\d{3}\\)\\s\\d{3}-\\d{4}|\\d{10}|\\d{3}\\.\\d{3}\\.\\d{4}|\\d{3}\\s\\d{3}\\s\\d{4}|\\+\\d{2}\\s\\d{10}|\\+\\d{1}\\s\\d{10}|\\d{3}\\s\\d{7}|\\d{3}\\s\\d{3}\\s\\d{4}'\n",
    "# pattern = '\\(\\d{3}\\)\\s\\d{3}-\\d{4}|\\d{10}|\\d{3}\\.\\d{3}\\.\\d{4}|\\d{3}\\s\\d{3}\\s\\d{4}|\\+\\d{2}\\s\\d{10}|\\+\\d{1}\\s\\d{10}|\\d{3}\\s\\d{7}|\\d{3}\\s\\d{3}\\s\\d{4}|\\d{3}\\.\\d{3}\\.\\d{4}'\n",
    "# pattern = '\\(\\d{3}\\)\\s\\d{3}-\\d{4}|\\d{10}|\\d{3}\\.\\d{3}\\.\\d{4}|\\d{3}\\s\\d{3}\\s\\d{4}|\\+\\d{2}\\s\\d{10}|\\+\\d{1}\\s\\d{10}|\\d{3}\\s\\d{7}|\\d{3}\\s\\d{3}\\s\\d{4}|\\d{3}\\.\\d{3}\\.\\d{4}|\\d{3}-\\d{3}-\\d{4}'\n",
    "pattern = '\\(\\d{3}\\)\\s\\d{3}-\\d{4}|\\d{10}|\\d{3}\\.\\d{3}\\.\\d{4}|\\d{3}\\s\\d{3}\\s\\d{4}|\\+\\d{2}\\s\\d{10}|\\+\\d{1}\\s\\d{10}|\\d{3}\\s\\d{7}|\\d{3}\\s\\d{3}\\s\\d{4}|\\d{3}\\.\\d{3}\\.\\d{4}|\\d{3}-\\d{3}-\\d{4}|\\d{3}\\s\\d{3}\\s\\d{4}'\n",
    "\n",
    "matches = get_pattern_match(pattern, chat2)"
   ]
  },
  {
   "cell_type": "code",
   "execution_count": 5,
   "metadata": {},
   "outputs": [],
   "source": [
    "# Email pattern matching\n",
    "# pattern = '[a-zA-Z0-9]+@[a-zA-Z0-9]+'\n",
    "pattern = '[a-zA-Z0-9_]*@[a-zA-Z0-9]+\\.[a-zA-Z]+'\n",
    "\n",
    "matches = get_pattern_match(pattern, chat1)"
   ]
  },
  {
   "cell_type": "code",
   "execution_count": 6,
   "metadata": {},
   "outputs": [],
   "source": [
    "# Order pattern matching\n",
    "pattern = 'order[^\\d]*(\\d+)'\n",
    "matches = get_pattern_match(pattern, chat3)"
   ]
  },
  {
   "attachments": {},
   "cell_type": "markdown",
   "metadata": {},
   "source": [
    "#### Information Extraction"
   ]
  },
  {
   "cell_type": "code",
   "execution_count": 7,
   "metadata": {},
   "outputs": [],
   "source": [
    "mukesh = '''\n",
    "Born Mukesh Dhirubhai Ambani\n",
    "19 April 1957 (age 66)\n",
    "Aden, Colony of Aden\n",
    "(present-day Yemen)[1][2]\n",
    "Nationality\tIndian\n",
    "Alma mater\t\n",
    "\n",
    "    St. Xavier's College, Mumbai\n",
    "    Institute of Chemical Technology (B.E.)\n",
    "\n",
    "Occupation(s)\tChairman and MD, Reliance Industries\n",
    "Spouse\tNita Ambani\n",
    "(m. 1985)\n",
    "[3]\n",
    "Children\t3\n",
    "Parent\t\n",
    "\n",
    "    Dhirubhai Ambani (father)\n",
    "\n",
    "Relatives\tAnil Ambani (brother)\n",
    "Tina Ambani (sister-in-law)\n",
    "'''\n",
    "\n",
    "elon = '''\n",
    "Born Elon Reeve Musk\n",
    "June 28, 1971 (age 51)\n",
    "Pretoria, Transvaal, South Africa\n",
    "Education\tUniversity of Pennsylvania (BA, BS)\n",
    "Title\t\n",
    "    Founder, CEO and chief engineer of SpaceX\n",
    "    CEO and product architect of Tesla, Inc.\n",
    "    Owner, CTO and chairman of Twitter\n",
    "    President of the Musk Foundation\n",
    "    Founder of the Boring Company, X Corp. and X.AI\n",
    "    Co-founder of Neuralink, OpenAI, Zip2 and X.com (part of PayPal)\n",
    "\n",
    "Spouses\t\n",
    "    Justine Wilson\n",
    "    (m. 2000; div. 2008)\n",
    "    Talulah Riley\n",
    "    (m. 2010; div. 2012)\n",
    "    (m. 2013; div. 2016)\n",
    "\n",
    "Partner\tGrimes (2018–2021)[1]\n",
    "Children\t10[a][3]\n",
    "Parents\t\n",
    "\n",
    "    Errol Musk (father)\n",
    "    Maye Musk (mother)\n",
    "\n",
    "Family\tMusk family\n",
    "'''"
   ]
  },
  {
   "cell_type": "code",
   "execution_count": 8,
   "metadata": {},
   "outputs": [],
   "source": [
    "pattern = 'age (\\d+)'\n",
    "pattern = 'Born (.*)\\n'\n",
    "pattern = 'Born (.*)\\n(.*)\\(age)'\n",
    "pattern = 'Born.*\\n.*\\(age'\n",
    "pattern = 'Born.*\\n.*\\(age.*\\n.*Education'\n",
    "pattern = '\\(age.*\\n(.*)'\n",
    "matches = get_pattern_match(pattern, elon)"
   ]
  },
  {
   "cell_type": "code",
   "execution_count": 9,
   "metadata": {},
   "outputs": [],
   "source": [
    "def get_personal_information(text):\n",
    "    age = get_pattern_match('age (\\d+)', text)\n",
    "    full_name = get_pattern_match('Born (.*)\\n', text)\n",
    "    date_of_birth = get_pattern_match('Born.*\\n(.*)\\(age', text)\n",
    "    place_of_birth = get_pattern_match('\\(age.*\\n(.*)', text)\n",
    "    education = get_pattern_match('Born.*\\n.*\\(age.*\\n.*Education', text)\n",
    "\n",
    "    return {\n",
    "        'age': age,\n",
    "        'full_name': full_name.strip(),\n",
    "        'date_of_birth': date_of_birth.strip(),\n",
    "        'place_of_birth': place_of_birth.strip(),\n",
    "        'education': education.strip() if education else None\n",
    "    }"
   ]
  },
  {
   "cell_type": "code",
   "execution_count": 10,
   "metadata": {},
   "outputs": [
    {
     "name": "stdout",
     "output_type": "stream",
     "text": [
      "{'age': '66', 'full_name': 'Mukesh Dhirubhai Ambani', 'date_of_birth': '19 April 1957', 'place_of_birth': 'Aden, Colony of Aden', 'education': None}\n"
     ]
    }
   ],
   "source": [
    "print(get_personal_information(mukesh))"
   ]
  },
  {
   "attachments": {},
   "cell_type": "markdown",
   "metadata": {},
   "source": [
    "#### __Exercise RegEx__ \n",
    "\n",
    "1. Extract all twitter handles from following text. Twitter handle is the text that appears after https://twitter.com/ and is a single word. Also it contains only alpha numeric characters i.e. A-Z a-z , o to 9 and underscore _"
   ]
  },
  {
   "cell_type": "code",
   "execution_count": 11,
   "metadata": {},
   "outputs": [
    {
     "data": {
      "text/plain": [
       "['elonmusk', 'teslarati', 'dummy_tesla', 'dummy_2_tesla']"
      ]
     },
     "execution_count": 11,
     "metadata": {},
     "output_type": "execute_result"
    }
   ],
   "source": [
    "text = '''\n",
    "Follow our leader Elon musk on twitter here: https://twitter.com/elonmusk, more information \n",
    "on Tesla's products can be found at https://www.tesla.com/. Also here are leading influencers \n",
    "for tesla related news,\n",
    "https://twitter.com/teslarati\n",
    "https://twitter.com/dummy_tesla\n",
    "https://twitter.com/dummy_2_tesla\n",
    "'''\n",
    "# pattern = 'com\\/([a-zA-z0-9]+),'  # todo: type your regex here\n",
    "# pattern = 'com\\/([a-zA-z0-9]+)\\n'  # todo: type your regex here\n",
    "pattern = 'https:\\/\\/twitter\\.com\\/([a-zA-z0-9_]+)'\n",
    "\n",
    "re.findall(pattern, text)"
   ]
  },
  {
   "attachments": {},
   "cell_type": "markdown",
   "metadata": {},
   "source": [
    "2. Extract Concentration Risk Types. It will be a text that appears after \"Concentration Risk:\", In below example, your regex should extract these two strings\n",
    "   1. Credit Risk\n",
    "   2. Supply Risk"
   ]
  },
  {
   "cell_type": "code",
   "execution_count": 14,
   "metadata": {},
   "outputs": [
    {
     "data": {
      "text/plain": [
       "['Credit Risk', 'Supply Risk']"
      ]
     },
     "execution_count": 14,
     "metadata": {},
     "output_type": "execute_result"
    }
   ],
   "source": [
    "text = '''\n",
    "Concentration of Risk: Credit Risk\n",
    "Financial instruments that potentially subject us to a concentration of credit risk consist of cash, cash equivalents, marketable securities,\n",
    "restricted cash, accounts receivable, convertible note hedges, and interest rate swaps. Our cash balances are primarily invested in money market funds\n",
    "or on deposit at high credit quality financial institutions in the U.S. These deposits are typically in excess of insured limits. As of September 30, 2021\n",
    "and December 31, 2020, no entity represented 10% or more of our total accounts receivable balance. The risk of concentration for our convertible note\n",
    "hedges and interest rate swaps is mitigated by transacting with several highly-rated multinational banks.\n",
    "Concentration of Risk: Supply Risk\n",
    "We are dependent on our suppliers, including single source suppliers, and the inability of these suppliers to deliver necessary components of our\n",
    "products in a timely manner at prices, quality levels and volumes acceptable to us, or our inability to efficiently manage these components from these\n",
    "suppliers, could have a material adverse effect on our business, prospects, financial condition and operating results.\n",
    "'''\n",
    "pattern = 'Concentration of Risk: ([^\\n]*)'  # todo: type your regex here\n",
    "\n",
    "re.findall(pattern, text)"
   ]
  },
  {
   "attachments": {},
   "cell_type": "markdown",
   "metadata": {},
   "source": [
    "3. Companies in europe reports their financial numbers of semi annual basis and you can have a document like this. To exatract quarterly and semi annual period you can use a regex as shown below\n",
    "\n",
    "   Hint: you need to use (?:) here to match everything enclosed"
   ]
  },
  {
   "cell_type": "code",
   "execution_count": 31,
   "metadata": {},
   "outputs": [
    {
     "data": {
      "text/plain": [
       "['2021 Q1', '2021 S1']"
      ]
     },
     "execution_count": 31,
     "metadata": {},
     "output_type": "execute_result"
    }
   ],
   "source": [
    "text = '''\n",
    "Tesla's gross cost of operating lease vehicles in FY2021 Q1 was $4.85 billion.\n",
    "BMW's gross cost of operating vehicles in FY2021 S1 was $8 billion.\n",
    "'''\n",
    "# ?: Non capturing group, \\s?: optional space, \\.?: optional dot\n",
    "pattern = 'FY(\\d{4}\\s(?:Q[1-5]|S[1-2]))'  # todo: type your regex here\n",
    "re.findall(pattern, text)"
   ]
  }
 ],
 "metadata": {
  "kernelspec": {
   "display_name": ".venv",
   "language": "python",
   "name": "python3"
  },
  "language_info": {
   "codemirror_mode": {
    "name": "ipython",
    "version": 3
   },
   "file_extension": ".py",
   "mimetype": "text/x-python",
   "name": "python",
   "nbconvert_exporter": "python",
   "pygments_lexer": "ipython3",
   "version": "3.10.6"
  },
  "orig_nbformat": 4
 },
 "nbformat": 4,
 "nbformat_minor": 2
}
